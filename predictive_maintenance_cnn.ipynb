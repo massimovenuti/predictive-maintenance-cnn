{
 "cells":[
  {
   "cell_type":"markdown",
   "source":[
    "# Analyse de séries temporelles avec un CNN 1D pour la maintenance prédictive\n",
    "\n",
    "**Projet M1 Deep Learning**\n",
    "\n",
    "Auteur : Massimo Venuti"
   ],
   "attachments":{
    
   },
   "metadata":{
    "datalore":{
     "node_id":"yGz7p5rZx5A8FidHMCSuWH",
     "type":"MD",
     "hide_input_from_viewers":false,
     "hide_output_from_viewers":false
    }
   }
  },
  {
   "cell_type":"code",
   "source":[
    "import pandas as pd\n",
    "import numpy as np\n",
    "import matplotlib.pyplot as plt\n",
    "from numpy.lib.stride_tricks import sliding_window_view\n",
    "from sklearn.model_selection import train_test_split, KFold\n",
    "from sklearn.preprocessing import StandardScaler\n",
    "from sklearn.utils import resample\n",
    "from sklearn.metrics import confusion_matrix, classification_report\n",
    "from tensorflow.keras.layers import Input, Conv1D, BatchNormalization, MaxPooling1D, Flatten, Dense, Dropout\n",
    "from tensorflow.keras.regularizers import l1, l2\n",
    "from tensorflow.keras.optimizers import Adam, RMSprop, SGD\n",
    "from tensorflow.keras.losses import SparseCategoricalCrossentropy\n",
    "from tensorflow.keras.models import Sequential\n",
    "from tensorflow.keras.callbacks import EarlyStopping"
   ],
   "execution_count":1,
   "outputs":[
    
   ],
   "metadata":{
    "datalore":{
     "node_id":"j1iigS2TCU7tWJVjXQy4kB",
     "type":"CODE",
     "hide_input_from_viewers":false,
     "hide_output_from_viewers":false
    }
   }
  },
  {
   "cell_type":"markdown",
   "source":[
    "## Exploration des données"
   ],
   "attachments":{
    
   },
   "metadata":{
    "datalore":{
     "node_id":"z9Q9eRGykv9eNRkwWQEslv",
     "type":"MD",
     "hide_input_from_viewers":false,
     "hide_output_from_viewers":false
    }
   }
  },
  {
   "cell_type":"code",
   "source":[
    "df = pd.read_csv('oil_wells_data.csv')\n",
    "df.head()"
   ],
   "execution_count":2,
   "outputs":[
    {
     "data":{
      "text\/html":[
       "<div>\n",
       "<style scoped>\n",
       "    .dataframe tbody tr th:only-of-type {\n",
       "        vertical-align: middle;\n",
       "    }\n",
       "\n",
       "    .dataframe tbody tr th {\n",
       "        vertical-align: top;\n",
       "    }\n",
       "\n",
       "    .dataframe thead th {\n",
       "        text-align: right;\n",
       "    }\n",
       "<\/style>\n",
       "<table border=\"1\" class=\"dataframe\">\n",
       "  <thead>\n",
       "    <tr style=\"text-align: right;\">\n",
       "      <th><\/th>\n",
       "      <th>timestamp<\/th>\n",
       "      <th>P-PDG<\/th>\n",
       "      <th>P-TPT<\/th>\n",
       "      <th>T-TPT<\/th>\n",
       "      <th>P-MON-CKP<\/th>\n",
       "      <th>T-JUS-CKP<\/th>\n",
       "      <th>P-JUS-CKGL<\/th>\n",
       "      <th>T-JUS-CKGL<\/th>\n",
       "      <th>QGL<\/th>\n",
       "      <th>class<\/th>\n",
       "    <\/tr>\n",
       "  <\/thead>\n",
       "  <tbody>\n",
       "    <tr>\n",
       "      <th>0<\/th>\n",
       "      <td>2018-05-17 22:56:06.000000<\/td>\n",
       "      <td>27897490.0<\/td>\n",
       "      <td>19824230.0<\/td>\n",
       "      <td>125.6859<\/td>\n",
       "      <td>4059666.0<\/td>\n",
       "      <td>97.55283<\/td>\n",
       "      <td>NaN<\/td>\n",
       "      <td>NaN<\/td>\n",
       "      <td>NaN<\/td>\n",
       "      <td>0<\/td>\n",
       "    <\/tr>\n",
       "    <tr>\n",
       "      <th>1<\/th>\n",
       "      <td>2018-05-17 22:56:07.000000<\/td>\n",
       "      <td>27897450.0<\/td>\n",
       "      <td>19824230.0<\/td>\n",
       "      <td>125.6859<\/td>\n",
       "      <td>4059666.0<\/td>\n",
       "      <td>97.55283<\/td>\n",
       "      <td>NaN<\/td>\n",
       "      <td>NaN<\/td>\n",
       "      <td>NaN<\/td>\n",
       "      <td>0<\/td>\n",
       "    <\/tr>\n",
       "    <tr>\n",
       "      <th>2<\/th>\n",
       "      <td>2018-05-17 22:56:08.000000<\/td>\n",
       "      <td>27897360.0<\/td>\n",
       "      <td>19824230.0<\/td>\n",
       "      <td>125.6859<\/td>\n",
       "      <td>4059666.0<\/td>\n",
       "      <td>97.55283<\/td>\n",
       "      <td>NaN<\/td>\n",
       "      <td>NaN<\/td>\n",
       "      <td>NaN<\/td>\n",
       "      <td>0<\/td>\n",
       "    <\/tr>\n",
       "    <tr>\n",
       "      <th>3<\/th>\n",
       "      <td>2018-05-17 22:56:09.000000<\/td>\n",
       "      <td>27897430.0<\/td>\n",
       "      <td>19824230.0<\/td>\n",
       "      <td>125.6859<\/td>\n",
       "      <td>4059666.0<\/td>\n",
       "      <td>97.55282<\/td>\n",
       "      <td>NaN<\/td>\n",
       "      <td>NaN<\/td>\n",
       "      <td>NaN<\/td>\n",
       "      <td>0<\/td>\n",
       "    <\/tr>\n",
       "    <tr>\n",
       "      <th>4<\/th>\n",
       "      <td>2018-05-17 22:56:10.000000<\/td>\n",
       "      <td>27897500.0<\/td>\n",
       "      <td>19824230.0<\/td>\n",
       "      <td>125.6859<\/td>\n",
       "      <td>4059666.0<\/td>\n",
       "      <td>97.55282<\/td>\n",
       "      <td>NaN<\/td>\n",
       "      <td>NaN<\/td>\n",
       "      <td>NaN<\/td>\n",
       "      <td>0<\/td>\n",
       "    <\/tr>\n",
       "  <\/tbody>\n",
       "<\/table>\n",
       "<\/div>"
      ]
     },
     "metadata":{
      
     },
     "output_type":"display_data"
    }
   ],
   "metadata":{
    "datalore":{
     "node_id":"kQd290jSzMzjDprkWSljpo",
     "type":"CODE",
     "hide_input_from_viewers":false,
     "hide_output_from_viewers":false
    }
   }
  },
  {
   "cell_type":"code",
   "source":[
    "df.info()"
   ],
   "execution_count":3,
   "outputs":[
    {
     "name":"stdout",
     "text":[
      "<class 'pandas.core.frame.DataFrame'>\n",
      "RangeIndex: 26999 entries, 0 to 26998\n",
      "Data columns (total 10 columns):\n",
      " #   Column      Non-Null Count  Dtype  \n",
      "---  ------      --------------  -----  \n",
      " 0   timestamp   26999 non-null  object \n",
      " 1   P-PDG       26999 non-null  float64\n",
      " 2   P-TPT       26999 non-null  float64\n",
      " 3   T-TPT       26999 non-null  float64\n",
      " 4   P-MON-CKP   26999 non-null  float64\n",
      " 5   T-JUS-CKP   26999 non-null  float64\n",
      " 6   P-JUS-CKGL  0 non-null      float64\n",
      " 7   T-JUS-CKGL  0 non-null      float64\n",
      " 8   QGL         0 non-null      float64\n",
      " 9   class       26999 non-null  int64  \n",
      "dtypes: float64(8), int64(1), object(1)\n",
      "memory usage: 2.1+ MB\n"
     ],
     "output_type":"stream"
    }
   ],
   "metadata":{
    "datalore":{
     "node_id":"8gFUJzcER2oR7w4NkQ0vMb",
     "type":"CODE",
     "hide_input_from_viewers":false,
     "hide_output_from_viewers":false
    }
   }
  },
  {
   "cell_type":"markdown",
   "source":[
    "Les colonnes `P-JUS-CKGL`, `T-JUS-CKGL` et `QGL` sont totalement vides, on peut donc les supprimer. La colonne `timestamp` ne nous sera pas utile non plus, on la supprime également."
   ],
   "attachments":{
    
   },
   "metadata":{
    "datalore":{
     "node_id":"oMX3XpZ95MwXorX2skqa8U",
     "type":"MD",
     "hide_input_from_viewers":false,
     "hide_output_from_viewers":false
    }
   }
  },
  {
   "cell_type":"code",
   "source":[
    "# Drop useless columns\n",
    "df = df.dropna(axis=1)\n",
    "df = df.drop('timestamp', axis=1)\n",
    "df.head()"
   ],
   "execution_count":4,
   "outputs":[
    {
     "data":{
      "text\/html":[
       "<div>\n",
       "<style scoped>\n",
       "    .dataframe tbody tr th:only-of-type {\n",
       "        vertical-align: middle;\n",
       "    }\n",
       "\n",
       "    .dataframe tbody tr th {\n",
       "        vertical-align: top;\n",
       "    }\n",
       "\n",
       "    .dataframe thead th {\n",
       "        text-align: right;\n",
       "    }\n",
       "<\/style>\n",
       "<table border=\"1\" class=\"dataframe\">\n",
       "  <thead>\n",
       "    <tr style=\"text-align: right;\">\n",
       "      <th><\/th>\n",
       "      <th>P-PDG<\/th>\n",
       "      <th>P-TPT<\/th>\n",
       "      <th>T-TPT<\/th>\n",
       "      <th>P-MON-CKP<\/th>\n",
       "      <th>T-JUS-CKP<\/th>\n",
       "      <th>class<\/th>\n",
       "    <\/tr>\n",
       "  <\/thead>\n",
       "  <tbody>\n",
       "    <tr>\n",
       "      <th>0<\/th>\n",
       "      <td>27897490.0<\/td>\n",
       "      <td>19824230.0<\/td>\n",
       "      <td>125.6859<\/td>\n",
       "      <td>4059666.0<\/td>\n",
       "      <td>97.55283<\/td>\n",
       "      <td>0<\/td>\n",
       "    <\/tr>\n",
       "    <tr>\n",
       "      <th>1<\/th>\n",
       "      <td>27897450.0<\/td>\n",
       "      <td>19824230.0<\/td>\n",
       "      <td>125.6859<\/td>\n",
       "      <td>4059666.0<\/td>\n",
       "      <td>97.55283<\/td>\n",
       "      <td>0<\/td>\n",
       "    <\/tr>\n",
       "    <tr>\n",
       "      <th>2<\/th>\n",
       "      <td>27897360.0<\/td>\n",
       "      <td>19824230.0<\/td>\n",
       "      <td>125.6859<\/td>\n",
       "      <td>4059666.0<\/td>\n",
       "      <td>97.55283<\/td>\n",
       "      <td>0<\/td>\n",
       "    <\/tr>\n",
       "    <tr>\n",
       "      <th>3<\/th>\n",
       "      <td>27897430.0<\/td>\n",
       "      <td>19824230.0<\/td>\n",
       "      <td>125.6859<\/td>\n",
       "      <td>4059666.0<\/td>\n",
       "      <td>97.55282<\/td>\n",
       "      <td>0<\/td>\n",
       "    <\/tr>\n",
       "    <tr>\n",
       "      <th>4<\/th>\n",
       "      <td>27897500.0<\/td>\n",
       "      <td>19824230.0<\/td>\n",
       "      <td>125.6859<\/td>\n",
       "      <td>4059666.0<\/td>\n",
       "      <td>97.55282<\/td>\n",
       "      <td>0<\/td>\n",
       "    <\/tr>\n",
       "  <\/tbody>\n",
       "<\/table>\n",
       "<\/div>"
      ]
     },
     "metadata":{
      
     },
     "output_type":"display_data"
    }
   ],
   "metadata":{
    "datalore":{
     "node_id":"RMxjBneTGQ1oa3K5zlv8uE",
     "type":"CODE",
     "hide_input_from_viewers":false,
     "hide_output_from_viewers":false
    }
   }
  },
  {
   "cell_type":"code",
   "source":[
    "df.iloc[:,:-1].describe()"
   ],
   "execution_count":5,
   "outputs":[
    {
     "data":{
      "text\/html":[
       "<div>\n",
       "<style scoped>\n",
       "    .dataframe tbody tr th:only-of-type {\n",
       "        vertical-align: middle;\n",
       "    }\n",
       "\n",
       "    .dataframe tbody tr th {\n",
       "        vertical-align: top;\n",
       "    }\n",
       "\n",
       "    .dataframe thead th {\n",
       "        text-align: right;\n",
       "    }\n",
       "<\/style>\n",
       "<table border=\"1\" class=\"dataframe\">\n",
       "  <thead>\n",
       "    <tr style=\"text-align: right;\">\n",
       "      <th><\/th>\n",
       "      <th>P-PDG<\/th>\n",
       "      <th>P-TPT<\/th>\n",
       "      <th>T-TPT<\/th>\n",
       "      <th>P-MON-CKP<\/th>\n",
       "      <th>T-JUS-CKP<\/th>\n",
       "    <\/tr>\n",
       "  <\/thead>\n",
       "  <tbody>\n",
       "    <tr>\n",
       "      <th>count<\/th>\n",
       "      <td>2.699900e+04<\/td>\n",
       "      <td>2.699900e+04<\/td>\n",
       "      <td>26999.000000<\/td>\n",
       "      <td>2.699900e+04<\/td>\n",
       "      <td>26999.000000<\/td>\n",
       "    <\/tr>\n",
       "    <tr>\n",
       "      <th>mean<\/th>\n",
       "      <td>3.295801e+07<\/td>\n",
       "      <td>2.697894e+07<\/td>\n",
       "      <td>21.259920<\/td>\n",
       "      <td>4.011367e+06<\/td>\n",
       "      <td>50.281856<\/td>\n",
       "    <\/tr>\n",
       "    <tr>\n",
       "      <th>std<\/th>\n",
       "      <td>1.889676e+06<\/td>\n",
       "      <td>2.687977e+06<\/td>\n",
       "      <td>41.873765<\/td>\n",
       "      <td>1.972174e+04<\/td>\n",
       "      <td>24.776921<\/td>\n",
       "    <\/tr>\n",
       "    <tr>\n",
       "      <th>min<\/th>\n",
       "      <td>2.789731e+07<\/td>\n",
       "      <td>1.982423e+07<\/td>\n",
       "      <td>3.123855<\/td>\n",
       "      <td>4.001760e+06<\/td>\n",
       "      <td>27.831990<\/td>\n",
       "    <\/tr>\n",
       "    <tr>\n",
       "      <th>25%<\/th>\n",
       "      <td>3.365576e+07<\/td>\n",
       "      <td>2.770994e+07<\/td>\n",
       "      <td>3.414310<\/td>\n",
       "      <td>4.002244e+06<\/td>\n",
       "      <td>32.453840<\/td>\n",
       "    <\/tr>\n",
       "    <tr>\n",
       "      <th>50%<\/th>\n",
       "      <td>3.370013e+07<\/td>\n",
       "      <td>2.810358e+07<\/td>\n",
       "      <td>3.419258<\/td>\n",
       "      <td>4.002576e+06<\/td>\n",
       "      <td>36.627450<\/td>\n",
       "    <\/tr>\n",
       "    <tr>\n",
       "      <th>75%<\/th>\n",
       "      <td>3.370057e+07<\/td>\n",
       "      <td>2.816458e+07<\/td>\n",
       "      <td>3.548011<\/td>\n",
       "      <td>4.002728e+06<\/td>\n",
       "      <td>63.980940<\/td>\n",
       "    <\/tr>\n",
       "    <tr>\n",
       "      <th>max<\/th>\n",
       "      <td>3.374394e+07<\/td>\n",
       "      <td>2.820895e+07<\/td>\n",
       "      <td>126.163900<\/td>\n",
       "      <td>4.059666e+06<\/td>\n",
       "      <td>97.552830<\/td>\n",
       "    <\/tr>\n",
       "  <\/tbody>\n",
       "<\/table>\n",
       "<\/div>"
      ]
     },
     "metadata":{
      
     },
     "output_type":"display_data"
    }
   ],
   "metadata":{
    "datalore":{
     "node_id":"veVPAeRoF0HxWbx50S5s0A",
     "type":"CODE",
     "hide_input_from_viewers":false,
     "hide_output_from_viewers":false
    }
   }
  },
  {
   "cell_type":"markdown",
   "source":[
    "Les différents attributs ont des ordres de grandeur clairement différents. Il faudra prendre soin de les standardiser lors de la création des jeux de tests et d'apprentissage."
   ],
   "attachments":{
    
   },
   "metadata":{
    "datalore":{
     "node_id":"fxLjZ7Or1txP4PgPjfyTlD",
     "type":"MD",
     "hide_input_from_viewers":false,
     "hide_output_from_viewers":false
    }
   }
  },
  {
   "cell_type":"code",
   "source":[
    "df['class'].value_counts()"
   ],
   "execution_count":3,
   "outputs":[
    {
     "data":{
      "text\/html":[
       
      ]
     },
     "metadata":{
      
     },
     "output_type":"display_data"
    }
   ],
   "metadata":{
    "datalore":{
     "node_id":"MwtfiOwb3pUe0GnZ4zigbz",
     "type":"CODE",
     "hide_input_from_viewers":false,
     "hide_output_from_viewers":false
    }
   }
  },
  {
   "cell_type":"markdown",
   "source":[
    "Les données sont très déséquilibrées, on a beaucoup d'instances correspondant à un incident comparé à celles correspondant à un état normal. Il faudra faire attention à cette disparité pour l'apprentissage."
   ],
   "attachments":{
    
   },
   "metadata":{
    "datalore":{
     "node_id":"FEhR2BEUHt4niVOLJDrHVk",
     "type":"MD",
     "hide_input_from_viewers":false,
     "hide_output_from_viewers":false
    }
   }
  },
  {
   "cell_type":"markdown",
   "source":[
    "Observons à présent l'évolution des différents attributs au cours du temps."
   ],
   "attachments":{
    
   },
   "metadata":{
    "datalore":{
     "node_id":"oosoHryyhZeCvVheYDfG1C",
     "type":"MD",
     "hide_input_from_viewers":false,
     "hide_output_from_viewers":false
    }
   }
  },
  {
   "cell_type":"code",
   "source":[
    "plt.figure(figsize=(10,10))\n",
    "\n",
    "classes = [0, 108, 8]\n",
    "colors = ['green', 'orange', 'red']\n",
    "\n",
    "for i in range(5):\n",
    "    ax = plt.subplot(3, 2, i+1)\n",
    "    for j in range(3):\n",
    "        tmp = df[df['class'] == classes[j]]\n",
    "        ax.scatter(x=tmp.index, y=tmp[tmp.columns[i]], s=20, c=colors[j], label=classes[j])\n",
    "    ax.set_title(df.columns[i])\n",
    "    ax.legend()\n",
    "\n",
    "plt.show()"
   ],
   "execution_count":7,
   "outputs":[
    {
     "data":{
      "image\/png":"[encoded data removed]"
     },
     "metadata":{
      "image\/png":{
       
      }
     },
     "output_type":"display_data"
    }
   ],
   "metadata":{
    "datalore":{
     "node_id":"prp21OmsjxLt8Kne8qNcOH",
     "type":"CODE",
     "hide_input_from_viewers":false,
     "hide_output_from_viewers":false
    }
   }
  },
  {
   "cell_type":"markdown",
   "source":[
    "Nous pouvons observer une nette évolution des attributs au cours du temps. Les attributs ont des valeurs bien distinctes entre les cas normaux et anormaux."
   ],
   "attachments":{
    
   },
   "metadata":{
    "datalore":{
     "node_id":"FuSVKbXsXNkqZBmG1BviDc",
     "type":"MD",
     "hide_input_from_viewers":false,
     "hide_output_from_viewers":false
    }
   }
  },
  {
   "cell_type":"code",
   "source":[
    "df.iloc[:,:-1].hist(figsize=(10,10))\n",
    "plt.show()"
   ],
   "execution_count":8,
   "outputs":[
    {
     "data":{
      "image\/png":"[encoded data removed]"
     },
     "metadata":{
      "image\/png":{
       
      }
     },
     "output_type":"display_data"
    }
   ],
   "metadata":{
    "datalore":{
     "node_id":"BRgmS3GFiQzbRYhj5oweeO",
     "type":"CODE",
     "hide_input_from_viewers":false,
     "hide_output_from_viewers":false
    }
   }
  },
  {
   "cell_type":"markdown",
   "source":[
    "\n",
    "On voit apparaître deux groupes dans la distribution des valeurs des attributs, indiquant certainement une distinction claire entre les cas normaux et anormaux.\n",
    "\n",
    "L'apprentissage sera d'autant plus facile que les valeurs sont distinctes entre les cas normaux et anormaux."
   ],
   "attachments":{
    
   },
   "metadata":{
    "datalore":{
     "node_id":"hNSiyRA81khu72y6StW5et",
     "type":"MD",
     "hide_input_from_viewers":false,
     "hide_output_from_viewers":false
    }
   }
  },
  {
   "cell_type":"markdown",
   "source":[
    "## Transformation des données"
   ],
   "attachments":{
    
   },
   "metadata":{
    "datalore":{
     "node_id":"y21CGCsyrb2OJgww5sUrYT",
     "type":"MD",
     "hide_input_from_viewers":false,
     "hide_output_from_viewers":false
    }
   }
  },
  {
   "cell_type":"markdown",
   "source":[
    "Réalisons la transormation des données pour les rendre utilisables avec un CNN. Nous appliquons simplement une fenêtre glissante comme annoncé dans la première partie du projet. Nous commençons de manière arbitraire avec une taille de fenêtre de 32."
   ],
   "attachments":{
    
   },
   "metadata":{
    "datalore":{
     "node_id":"Q3ItKrjSGe2vFB1BFMEZis",
     "type":"MD",
     "hide_input_from_viewers":false,
     "hide_output_from_viewers":false
    }
   }
  },
  {
   "cell_type":"code",
   "source":[
    "def sliding_window(df, window_size):\n",
    "    # sequences\n",
    "    sequences = sliding_window_view(df.iloc[:,:-1], (window_size,5), axis=(0,1))\n",
    "    sequences = sequences.reshape(sequences.shape[:1] + sequences.shape[2:])\n",
    "\n",
    "    # labels\n",
    "    labels_sequences = sliding_window_view(df.iloc[:,-1], window_size)\n",
    "    labels = np.array([2 if 8 in seq else 1 if 108 in seq else 0 for seq in labels_sequences])\n",
    "    \n",
    "    return sequences, labels "
   ],
   "execution_count":9,
   "outputs":[
    
   ],
   "metadata":{
    "datalore":{
     "node_id":"NDQmvGpMVYEgHaTotmoDl8",
     "type":"CODE",
     "hide_input_from_viewers":false,
     "hide_output_from_viewers":false
    }
   }
  },
  {
   "cell_type":"code",
   "source":[
    "window_size = 32\n",
    "sequences, labels = sliding_window(df, window_size)"
   ],
   "execution_count":10,
   "outputs":[
    
   ],
   "metadata":{
    "datalore":{
     "node_id":"i4jWCpKh3iMKSkIkFUHnf4",
     "type":"CODE",
     "hide_input_from_viewers":false,
     "hide_output_from_viewers":false
    }
   }
  },
  {
   "cell_type":"markdown",
   "source":[
    "## Données déséquilibrées\n",
    "\n",
    "Nous avons remarqué que les données sont très déséquilibrées. Après l'application de la fenêtre glissante, le déséquilibre est toujours fortement présent."
   ],
   "attachments":{
    
   },
   "metadata":{
    "datalore":{
     "node_id":"gbtC4XTA4GvFXrLUmNlTX1",
     "type":"MD",
     "hide_input_from_viewers":false,
     "hide_output_from_viewers":false
    }
   }
  },
  {
   "cell_type":"code",
   "source":[
    "# Imbalance data\n",
    "unique, counts = np.unique(labels, return_counts=True)\n",
    "print(np.asarray((unique, counts)).T)"
   ],
   "execution_count":11,
   "outputs":[
    {
     "name":"stdout",
     "text":[
      "[[    0  1769]\n",
      " [    1  9200]\n",
      " [    2 15999]]\n"
     ],
     "output_type":"stream"
    }
   ],
   "metadata":{
    "datalore":{
     "node_id":"TDTKjhIXSsfJyBjIpmqDqq",
     "type":"CODE",
     "hide_input_from_viewers":false,
     "hide_output_from_viewers":false
    }
   }
  },
  {
   "cell_type":"markdown",
   "source":[
    "Une solution est donc de procéder à une méthode de resampling. Deux possibilités s'offrent alors à nous : le downsampling ou le upsampling. Dans le premier cas, on supprime aléatoirement des données de la classe majoritaire. Dans le deuxième cas, on copie aléatoirement des données de la classe minoritaire. Enfin, une troisième possibilité : faire du resampling en fonction de la classe médiane. Dans ce dernier cas, on réalise à la fois un downsampling sur la classe majoritaire et un upsampling sur la classe minoritaire, de manière à se rapprocher du nombre d'instances de la classe médiane.\n",
    "\n",
    "Une méthode plus complexe consisterait à utiliser des GANs pour générer de nouvelles données."
   ],
   "attachments":{
    
   },
   "metadata":{
    "datalore":{
     "node_id":"6iPZxfGd8CPzuQZbNOXZQ7",
     "type":"MD",
     "hide_input_from_viewers":false,
     "hide_output_from_viewers":false
    }
   }
  },
  {
   "cell_type":"code",
   "source":[
    "# resampling\n",
    "def data_resampling(sequences, labels, sorted_ref=0):\n",
    "    classes = [sequences[labels == x] for x in [0, 1, 2]]\n",
    "    lengths = [len(c) for c in classes]\n",
    "\n",
    "    ref_length = sorted(lengths)[sorted_ref]\n",
    "\n",
    "    for k in range(3):\n",
    "        if lengths[k] < ref_length:\n",
    "            # oversample\n",
    "            classes[k] = resample(classes[k],\n",
    "                                  replace=True,  # sample with replacement\n",
    "                                  n_samples=ref_length,  # to match majority class\n",
    "                                  random_state=123)\n",
    "        elif lengths[k] > ref_length:\n",
    "            #downsample\n",
    "            classes[k] = resample(classes[k],\n",
    "                                  replace=False,  # sample without replacement\n",
    "                                  n_samples=ref_length,  # to match minority class\n",
    "                                  random_state=123)\n",
    "\n",
    "    new_sequences = np.concatenate(classes)\n",
    "    new_labels = np.concatenate([np.full(len(classes[k]), k, dtype=np.int64) for k in [0, 1, 2]])\n",
    "\n",
    "    return new_sequences, new_labels\n",
    "\n",
    "\n",
    "def downsample(sequences, labels):\n",
    "    return data_resampling(sequences, labels, 0)\n",
    "\n",
    "\n",
    "def medsample(sequences, labels):\n",
    "    return data_resampling(sequences, labels, 1)\n",
    "\n",
    "\n",
    "def oversample(sequences, labels):\n",
    "    return data_resampling(sequences, labels, 2)"
   ],
   "execution_count":9,
   "outputs":[
    
   ],
   "metadata":{
    "datalore":{
     "node_id":"U4UTOjoUzAsgB0PBnqQmyI",
     "type":"CODE",
     "hide_input_from_viewers":false,
     "hide_output_from_viewers":false
    }
   }
  },
  {
   "cell_type":"markdown",
   "source":[
    "Réalisons dans un premier temps un downsampling en guise d'exemple."
   ],
   "attachments":{
    
   },
   "metadata":{
    "datalore":{
     "node_id":"tzeRFnEcXCQOTTmyt0z0cX",
     "type":"MD",
     "hide_input_from_viewers":false,
     "hide_output_from_viewers":false
    }
   }
  },
  {
   "cell_type":"code",
   "source":[
    "sequences_downsampled, labels_downsampled = downsample(sequences, labels)"
   ],
   "execution_count":37,
   "outputs":[
    
   ],
   "metadata":{
    "datalore":{
     "node_id":"b5XalEM5ei142t72VfHQlL",
     "type":"CODE",
     "hide_input_from_viewers":false,
     "hide_output_from_viewers":false
    }
   }
  },
  {
   "cell_type":"code",
   "source":[
    "unique, counts = np.unique(labels_downsampled, return_counts=True)\n",
    "print(np.asarray((unique, counts)).T)"
   ],
   "execution_count":38,
   "outputs":[
    {
     "name":"stdout",
     "text":[
      "[[   0 1769]\n",
      " [   1 1769]\n",
      " [   2 1769]]\n"
     ],
     "output_type":"stream"
    }
   ],
   "metadata":{
    "datalore":{
     "node_id":"GQv65kmAt8mV1vCfgEjFWc",
     "type":"CODE",
     "hide_input_from_viewers":false,
     "hide_output_from_viewers":false
    }
   }
  },
  {
   "cell_type":"markdown",
   "source":[
    "## Création des jeux d'entrainement et de test\n",
    "\n",
    "Crééons à présent les jeux d'entrainement et de test pour l'apprentissage. Puisque nous avons des données avec des ordres de grandeur très différents, nous réalisons une standardisation des données **après** avoir fait la séparation en jeu d'entrainement et de test"
   ],
   "attachments":{
    
   },
   "metadata":{
    "datalore":{
     "node_id":"zR0U4NKoO8LnPRXVT09fou",
     "type":"MD",
     "hide_input_from_viewers":false,
     "hide_output_from_viewers":false
    }
   }
  },
  {
   "cell_type":"code",
   "source":[
    "X_train, X_test, y_train, y_test = train_test_split(sequences_downsampled, labels_downsampled, test_size=0.20, random_state=123)"
   ],
   "execution_count":39,
   "outputs":[
    
   ],
   "metadata":{
    "datalore":{
     "node_id":"oMEK8r4seC49qecBD9os4t",
     "type":"CODE",
     "hide_input_from_viewers":false,
     "hide_output_from_viewers":false
    }
   }
  },
  {
   "cell_type":"code",
   "source":[
    "# standardisation\n",
    "def standard(X_train, X_test):\n",
    "    scaler = StandardScaler().fit(X_train)\n",
    "    X_train_std = scaler.transform(X_train.reshape(-1, X_train.shape[-1])).reshape(X_train.shape)\n",
    "    X_test_std = scaler.transform(X_test.reshape(-1, X_test.shape[-1])).reshape(X_test.shape)\n",
    "    return X_train_std, X_test_std"
   ],
   "execution_count":11,
   "outputs":[
    
   ],
   "metadata":{
    "datalore":{
     "node_id":"XgSvUPLNCDWvnszrVQ5FsN",
     "type":"CODE",
     "hide_input_from_viewers":false,
     "hide_output_from_viewers":false
    }
   }
  },
  {
   "cell_type":"code",
   "source":[
    "X_train_std, X_test_std = standard(X_train, X_test)"
   ],
   "execution_count":41,
   "outputs":[
    
   ],
   "metadata":{
    "datalore":{
     "node_id":"n1dGM1JYw2DEhHpxHfDxNs",
     "type":"CODE",
     "hide_input_from_viewers":false,
     "hide_output_from_viewers":false
    }
   }
  },
  {
   "cell_type":"markdown",
   "source":[
    "## Un premier modèle simple\n",
    "\n",
    "Nous pouvons à présent nous attaquer à la création d'un premier modèle très simple. Il est constitué d'un unique bloc Conv+Pooling. Le classifieur en sortie est lui constitué d'une seule couche cachée. J'utilise également un régularisateur L2 et un dropout pour le classifieur. Les paramètres tels que le nombre et la taille des filtres, le taux de dropout et la taille du pooling sont fixés arbritrairement.\n",
    "\n",
    "Suite au downsampling réalisé précédemment, nous nous retrouvons avec un nombre limité de données. C'est pourquoi j'utilise ici l'optimisation SGD pour optimiser le modèle. Dans l'idéal, il faudrait également utiliser un learning rate adaptatif mais ce modèle sert uniquement de premier jet très simple pour voir les résultats qu'on peut déjà obtenir. Nous procèderons aux optimisations plus tard."
   ],
   "attachments":{
    
   },
   "metadata":{
    "datalore":{
     "node_id":"qscmW5tGO52UUeKlNRc8bD",
     "type":"MD",
     "hide_input_from_viewers":false,
     "hide_output_from_viewers":false
    }
   }
  },
  {
   "cell_type":"code",
   "source":[
    "def make_model(input_shape, optimizer=SGD()):\n",
    "    model = Sequential([\n",
    "        Input(shape=input_shape),\n",
    "        Conv1D(filters=12, kernel_size=4, strides=1,\n",
    "            padding='same', activation='relu'),\n",
    "        BatchNormalization(),\n",
    "        MaxPooling1D(2),\n",
    "        Flatten(),\n",
    "        Dense(16, activation='relu',\n",
    "            kernel_regularizer=l2(0.001)),\n",
    "        Dropout(rate=0.2),  # drop 20% of the units of the previous layer\n",
    "        Dense(3, activation='softmax'),\n",
    "    ])\n",
    "\n",
    "    model.compile(\n",
    "        optimizer=optimizer,\n",
    "        loss=SparseCategoricalCrossentropy(),\n",
    "        metrics=['accuracy']\n",
    "    )\n",
    "\n",
    "    return model"
   ],
   "execution_count":12,
   "outputs":[
    
   ],
   "metadata":{
    "datalore":{
     "node_id":"xM4P1g9pR3TQzlpBxUAFOo",
     "type":"CODE",
     "hide_input_from_viewers":false,
     "hide_output_from_viewers":false
    }
   }
  },
  {
   "cell_type":"code",
   "source":[
    "model = make_model(X_train_std[0].shape)\n",
    "\n",
    "early_stopping_cb = EarlyStopping(patience=5, restore_best_weights=True)\n",
    "\n",
    "history = model.fit(np.array(X_train_std), np.array(y_train), batch_size=len(X_train_std), callbacks= [early_stopping_cb], epochs=100, validation_split=0.2)"
   ],
   "execution_count":43,
   "outputs":[
    {
     "name":"stdout",
     "text":[
      "Epoch 1\/100\n",
      "\r1\/1 [==============================] - ETA: 0s - loss: 2.6463 - accuracy: 0.0038\b\b\b\b\b\b\b\b\b\b\b\b\b\b\b\b\b\b\b\b\b\b\b\b\b\b\b\b\b\b\b\b\b\b\b\b\b\b\b\b\b\b\b\b\b\b\b\b\b\b\b\b\b\b\b\b\b\b\b\b\b\b\b\b\b\b\b\b\b\b\b\b\b\b\b\b\b\b\b\b\r1\/1 [==============================] - 1s 803ms\/step - loss: 2.6463 - accuracy: 0.0038 - val_loss: 1.1390 - val_accuracy: 0.3157\n",
      "Epoch 2\/100\n",
      "\r1\/1 [==============================] - ETA: 0s - loss: 1.1990 - accuracy: 0.3410\b\b\b\b\b\b\b\b\b\b\b\b\b\b\b\b\b\b\b\b\b\b\b\b\b\b\b\b\b\b\b\b\b\b\b\b\b\b\b\b\b\b\b\b\b\b\b\b\b\b\b\b\b\b\b\b\b\b\b\b\b\b\b\b\b\b\b\b\b\b\b\b\b\b\b\b\b\b\b\b\r1\/1 [==============================] - 0s 85ms\/step - loss: 1.1990 - accuracy: 0.3410 - val_loss: 1.0547 - val_accuracy: 0.6561\n",
      "Epoch 3\/100\n",
      "\r1\/1 [==============================] - ETA: 0s - loss: 1.0498 - accuracy: 0.5718\b\b\b\b\b\b\b\b\b\b\b\b\b\b\b\b\b\b\b\b\b\b\b\b\b\b\b\b\b\b\b\b\b\b\b\b\b\b\b\b\b\b\b\b\b\b\b\b\b\b\b\b\b\b\b\b\b\b\b\b\b\b\b\b\b\b\b\b\b\b\b\b\b\b\b\b\b\b\b\b\r1\/1 [==============================] - 0s 69ms\/step - loss: 1.0498 - accuracy: 0.5718 - val_loss: 1.0183 - val_accuracy: 0.6561\n",
      "Epoch 4\/100\n",
      "\r1\/1 [==============================] - ETA: 0s - loss: 0.9833 - accuracy: 0.5986\b\b\b\b\b\b\b\b\b\b\b\b\b\b\b\b\b\b\b\b\b\b\b\b\b\b\b\b\b\b\b\b\b\b\b\b\b\b\b\b\b\b\b\b\b\b\b\b\b\b\b\b\b\b\b\b\b\b\b\b\b\b\b\b\b\b\b\b\b\b\b\b\b\b\b\b\b\b\b\b\r1\/1 [==============================] - 0s 69ms\/step - loss: 0.9833 - accuracy: 0.5986 - val_loss: 0.9880 - val_accuracy: 0.6561\n",
      "Epoch 5\/100\n",
      "\r1\/1 [==============================] - ETA: 0s - loss: 0.9145 - accuracy: 0.6269\b\b\b\b\b\b\b\b\b\b\b\b\b\b\b\b\b\b\b\b\b\b\b\b\b\b\b\b\b\b\b\b\b\b\b\b\b\b\b\b\b\b\b\b\b\b\b\b\b\b\b\b\b\b\b\b\b\b\b\b\b\b\b\b\b\b\b\b\b\b\b\b\b\b\b\b\b\b\b\b\r1\/1 [==============================] - 0s 82ms\/step - loss: 0.9145 - accuracy: 0.6269 - val_loss: 0.9677 - val_accuracy: 0.6561\n",
      "Epoch 6\/100\n",
      "\r1\/1 [==============================] - ETA: 0s - loss: 0.8869 - accuracy: 0.6325\b\b\b\b\b\b\b\b\b\b\b\b\b\b\b\b\b\b\b\b\b\b\b\b\b\b\b\b\b\b\b\b\b\b\b\b\b\b\b\b\b\b\b\b\b\b\b\b\b\b\b\b\b\b\b\b\b\b\b\b\b\b\b\b\b\b\b\b\b\b\b\b\b\b\b\b\b\b\b\b\r1\/1 [==============================] - 0s 80ms\/step - loss: 0.8869 - accuracy: 0.6325 - val_loss: 0.9516 - val_accuracy: 0.6561\n",
      "Epoch 7\/100\n",
      "\r1\/1 [==============================] - ETA: 0s - loss: 0.8440 - accuracy: 0.6561\b\b\b\b\b\b\b\b\b\b\b\b\b\b\b\b\b\b\b\b\b\b\b\b\b\b\b\b\b\b\b\b\b\b\b\b\b\b\b\b\b\b\b\b\b\b\b\b\b\b\b\b\b\b\b\b\b\b\b\b\b\b\b\b\b\b\b\b\b\b\b\b\b\b\b\b\b\b\b\b\r1\/1 [==============================] - 0s 83ms\/step - loss: 0.8440 - accuracy: 0.6561 - val_loss: 0.9375 - val_accuracy: 0.6561\n",
      "Epoch 8\/100\n",
      "\r1\/1 [==============================] - ETA: 0s - loss: 0.8267 - accuracy: 0.6690\b\b\b\b\b\b\b\b\b\b\b\b\b\b\b\b\b\b\b\b\b\b\b\b\b\b\b\b\b\b\b\b\b\b\b\b\b\b\b\b\b\b\b\b\b\b\b\b\b\b\b\b\b\b\b\b\b\b\b\b\b\b\b\b\b\b\b\b\b\b\b\b\b\b\b\b\b\b\b\b\r1\/1 [==============================] - 0s 84ms\/step - loss: 0.8267 - accuracy: 0.6690 - val_loss: 0.9258 - val_accuracy: 0.6561\n",
      "Epoch 9\/100\n",
      "\r1\/1 [==============================] - ETA: 0s - loss: 0.8051 - accuracy: 0.6835\b\b\b\b\b\b\b\b\b\b\b\b\b\b\b\b\b\b\b\b\b\b\b\b\b\b\b\b\b\b\b\b\b\b\b\b\b\b\b\b\b\b\b\b\b\b\b\b\b\b\b\b\b\b\b\b\b\b\b\b\b\b\b\b\b\b\b\b\b\b\b\b\b\b\b\b\b\b\b\b\r1\/1 [==============================] - 0s 68ms\/step - loss: 0.8051 - accuracy: 0.6835 - val_loss: 0.9114 - val_accuracy: 0.6561\n",
      "Epoch 10\/100\n",
      "\r1\/1 [==============================] - ETA: 0s - loss: 0.7813 - accuracy: 0.6890\b\b\b\b\b\b\b\b\b\b\b\b\b\b\b\b\b\b\b\b\b\b\b\b\b\b\b\b\b\b\b\b\b\b\b\b\b\b\b\b\b\b\b\b\b\b\b\b\b\b\b\b\b\b\b\b\b\b\b\b\b\b\b\b\b\b\b\b\b\b\b\b\b\b\b\b\b\b\b\b\r1\/1 [==============================] - 0s 83ms\/step - loss: 0.7813 - accuracy: 0.6890 - val_loss: 0.9016 - val_accuracy: 0.6561\n",
      "Epoch 11\/100\n",
      "\r1\/1 [==============================] - ETA: 0s - loss: 0.7624 - accuracy: 0.6899\b\b\b\b\b\b\b\b\b\b\b\b\b\b\b\b\b\b\b\b\b\b\b\b\b\b\b\b\b\b\b\b\b\b\b\b\b\b\b\b\b\b\b\b\b\b\b\b\b\b\b\b\b\b\b\b\b\b\b\b\b\b\b\b\b\b\b\b\b\b\b\b\b\b\b\b\b\b\b\b\r1\/1 [==============================] - 0s 66ms\/step - loss: 0.7624 - accuracy: 0.6899 - val_loss: 0.8950 - val_accuracy: 0.6561\n",
      "Epoch 12\/100\n",
      "\r1\/1 [==============================] - ETA: 0s - loss: 0.7567 - accuracy: 0.7023\b\b\b\b\b\b\b\b\b\b\b\b\b\b\b\b\b\b\b\b\b\b\b\b\b\b\b\b\b\b\b\b\b\b\b\b\b\b\b\b\b\b\b\b\b\b\b\b\b\b\b\b\b\b\b\b\b\b\b\b\b\b\b\b\b\b\b\b\b\b\b\b\b\b\b\b\b\b\b\b\r1\/1 [==============================] - 0s 70ms\/step - loss: 0.7567 - accuracy: 0.7023 - val_loss: 0.8795 - val_accuracy: 0.6561\n",
      "Epoch 13\/100\n",
      "\r1\/1 [==============================] - ETA: 0s - loss: 0.7244 - accuracy: 0.7067\b\b\b\b\b\b\b\b\b\b\b\b\b\b\b\b\b\b\b\b\b\b\b\b\b\b\b\b\b\b\b\b\b\b\b\b\b\b\b\b\b\b\b\b\b\b\b\b\b\b\b\b\b\b\b\b\b\b\b\b\b\b\b\b\b\b\b\b\b\b\b\b\b\b\b\b\b\b\b\b\r1\/1 [==============================] - 0s 67ms\/step - loss: 0.7244 - accuracy: 0.7067 - val_loss: 0.8697 - val_accuracy: 0.6561\n",
      "Epoch 14\/100\n",
      "\r1\/1 [==============================] - ETA: 0s - loss: 0.7236 - accuracy: 0.7070\b\b\b\b\b\b\b\b\b\b\b\b\b\b\b\b\b\b\b\b\b\b\b\b\b\b\b\b\b\b\b\b\b\b\b\b\b\b\b\b\b\b\b\b\b\b\b\b\b\b\b\b\b\b\b\b\b\b\b\b\b\b\b\b\b\b\b\b\b\b\b\b\b\b\b\b\b\b\b\b\r1\/1 [==============================] - 0s 64ms\/step - loss: 0.7236 - accuracy: 0.7070 - val_loss: 0.8598 - val_accuracy: 0.6561\n",
      "Epoch 15\/100\n",
      "\r1\/1 [==============================] - ETA: 0s - loss: 0.7061 - accuracy: 0.7044\b\b\b\b\b\b\b\b\b\b\b\b\b\b\b\b\b\b\b\b\b\b\b\b\b\b\b\b\b\b\b\b\b\b\b\b\b\b\b\b\b\b\b\b\b\b\b\b\b\b\b\b\b\b\b\b\b\b\b\b\b\b\b\b\b\b\b\b\b\b\b\b\b\b\b\b\b\b\b\b\r1\/1 [==============================] - 0s 71ms\/step - loss: 0.7061 - accuracy: 0.7044 - val_loss: 0.8514 - val_accuracy: 0.6561\n",
      "Epoch 16\/100\n",
      "\r1\/1 [==============================] - ETA: 0s - loss: 0.6917 - accuracy: 0.7126\b\b\b\b\b\b\b\b\b\b\b\b\b\b\b\b\b\b\b\b\b\b\b\b\b\b\b\b\b\b\b\b\b\b\b\b\b\b\b\b\b\b\b\b\b\b\b\b\b\b\b\b\b\b\b\b\b\b\b\b\b\b\b\b\b\b\b\b\b\b\b\b\b\b\b\b\b\b\b\b\r1\/1 [==============================] - 0s 68ms\/step - loss: 0.6917 - accuracy: 0.7126 - val_loss: 0.8436 - val_accuracy: 0.6561\n",
      "Epoch 17\/100\n",
      "\r1\/1 [==============================] - ETA: 0s - loss: 0.6761 - accuracy: 0.7326\b\b\b\b\b\b\b\b\b\b\b\b\b\b\b\b\b\b\b\b\b\b\b\b\b\b\b\b\b\b\b\b\b\b\b\b\b\b\b\b\b\b\b\b\b\b\b\b\b\b\b\b\b\b\b\b\b\b\b\b\b\b\b\b\b\b\b\b\b\b\b\b\b\b\b\b\b\b\b\b\r1\/1 [==============================] - 0s 66ms\/step - loss: 0.6761 - accuracy: 0.7326 - val_loss: 0.8369 - val_accuracy: 0.6561\n",
      "Epoch 18\/100\n",
      "\r1\/1 [==============================] - ETA: 0s - loss: 0.6820 - accuracy: 0.7217\b\b\b\b\b\b\b\b\b\b\b\b\b\b\b\b\b\b\b\b\b\b\b\b\b\b\b\b\b\b\b\b\b\b\b\b\b\b\b\b\b\b\b\b\b\b\b\b\b\b\b\b\b\b\b\b\b\b\b\b\b\b\b\b\b\b\b\b\b\b\b\b\b\b\b\b\b\b\b\b\r1\/1 [==============================] - 0s 87ms\/step - loss: 0.6820 - accuracy: 0.7217 - val_loss: 0.8287 - val_accuracy: 0.6561\n",
      "Epoch 19\/100\n",
      "\r1\/1 [==============================] - ETA: 0s - loss: 0.6812 - accuracy: 0.7217\b\b\b\b\b\b\b\b\b\b\b\b\b\b\b\b\b\b\b\b\b\b\b\b\b\b\b\b\b\b\b\b\b\b\b\b\b\b\b\b\b\b\b\b\b\b\b\b\b\b\b\b\b\b\b\b\b\b\b\b\b\b\b\b\b\b\b\b\b\b\b\b\b\b\b\b\b\b\b\b\r1\/1 [==============================] - 0s 159ms\/step - loss: 0.6812 - accuracy: 0.7217 - val_loss: 0.8197 - val_accuracy: 0.6561\n",
      "Epoch 20\/100\n",
      "\r1\/1 [==============================] - ETA: 0s - loss: 0.6515 - accuracy: 0.7344\b\b\b\b\b\b\b\b\b\b\b\b\b\b\b\b\b\b\b\b\b\b\b\b\b\b\b\b\b\b\b\b\b\b\b\b\b\b\b\b\b\b\b\b\b\b\b\b\b\b\b\b\b\b\b\b\b\b\b\b\b\b\b\b\b\b\b\b\b\b\b\b\b\b\b\b\b\b\b\b\r1\/1 [==============================] - 0s 72ms\/step - loss: 0.6515 - accuracy: 0.7344 - val_loss: 0.8130 - val_accuracy: 0.6561\n",
      "Epoch 21\/100\n",
      "\r1\/1 [==============================] - ETA: 0s - loss: 0.6483 - accuracy: 0.7500\b\b\b\b\b\b\b\b\b\b\b\b\b\b\b\b\b\b\b\b\b\b\b\b\b\b\b\b\b\b\b\b\b\b\b\b\b\b\b\b\b\b\b\b\b\b\b\b\b\b\b\b\b\b\b\b\b\b\b\b\b\b\b\b\b\b\b\b\b\b\b\b\b\b\b\b\b\b\b\b\r1\/1 [==============================] - 0s 69ms\/step - loss: 0.6483 - accuracy: 0.7500 - val_loss: 0.8053 - val_accuracy: 0.6561\n",
      "Epoch 22\/100\n",
      "\r1\/1 [==============================] - ETA: 0s - loss: 0.6446 - accuracy: 0.7556\b\b\b\b\b\b\b\b\b\b\b\b\b\b\b\b\b\b\b\b\b\b\b\b\b\b\b\b\b\b\b\b\b\b\b\b\b\b\b\b\b\b\b\b\b\b\b\b\b\b\b\b\b\b\b\b\b\b\b\b\b\b\b\b\b\b\b\b\b\b\b\b\b\b\b\b\b\b\b\b\r1\/1 [==============================] - 0s 66ms\/step - loss: 0.6446 - accuracy: 0.7556 - val_loss: 0.8005 - val_accuracy: 0.6561\n",
      "Epoch 23\/100\n",
      "\r1\/1 [==============================] - ETA: 0s - loss: 0.6385 - accuracy: 0.7759\b\b\b\b\b\b\b\b\b\b\b\b\b\b\b\b\b\b\b\b\b\b\b\b\b\b\b\b\b\b\b\b\b\b\b\b\b\b\b\b\b\b\b\b\b\b\b\b\b\b\b\b\b\b\b\b\b\b\b\b\b\b\b\b\b\b\b\b\b\b\b\b\b\b\b\b\b\b\b\b\r1\/1 [==============================] - 0s 64ms\/step - loss: 0.6385 - accuracy: 0.7759 - val_loss: 0.7928 - val_accuracy: 0.6561\n",
      "Epoch 24\/100\n",
      "\r1\/1 [==============================] - ETA: 0s - loss: 0.6221 - accuracy: 0.7741\b\b\b\b\b\b\b\b\b\b\b\b\b\b\b\b\b\b\b\b\b\b\b\b\b\b\b\b\b\b\b\b\b\b\b\b\b\b\b\b\b\b\b\b\b\b\b\b\b\b\b\b\b\b\b\b\b\b\b\b\b\b\b\b\b\b\b\b\b\b\b\b\b\b\b\b\b\b\b\b\r1\/1 [==============================] - 0s 85ms\/step - loss: 0.6221 - accuracy: 0.7741 - val_loss: 0.7878 - val_accuracy: 0.6561\n",
      "Epoch 25\/100\n",
      "\r1\/1 [==============================] - ETA: 0s - loss: 0.6229 - accuracy: 0.7783\b\b\b\b\b\b\b\b\b\b\b\b\b\b\b\b\b\b\b\b\b\b\b\b\b\b\b\b\b\b\b\b\b\b\b\b\b\b\b\b\b\b\b\b\b\b\b\b\b\b\b\b\b\b\b\b\b\b\b\b\b\b\b\b\b\b\b\b\b\b\b\b\b\b\b\b\b\b\b\b\r1\/1 [==============================] - 0s 72ms\/step - loss: 0.6229 - accuracy: 0.7783 - val_loss: 0.7818 - val_accuracy: 0.6561\n",
      "Epoch 26\/100\n",
      "\r1\/1 [==============================] - ETA: 0s - loss: 0.6170 - accuracy: 0.7780\b\b\b\b\b\b\b\b\b\b\b\b\b\b\b\b\b\b\b\b\b\b\b\b\b\b\b\b\b\b\b\b\b\b\b\b\b\b\b\b\b\b\b\b\b\b\b\b\b\b\b\b\b\b\b\b\b\b\b\b\b\b\b\b\b\b\b\b\b\b\b\b\b\b\b\b\b\b\b\b\r1\/1 [==============================] - 0s 64ms\/step - loss: 0.6170 - accuracy: 0.7780 - val_loss: 0.7770 - val_accuracy: 0.6561\n",
      "Epoch 27\/100\n",
      "\r1\/1 [==============================] - ETA: 0s - loss: 0.6172 - accuracy: 0.7744\b\b\b\b\b\b\b\b\b\b\b\b\b\b\b\b\b\b\b\b\b\b\b\b\b\b\b\b\b\b\b\b\b\b\b\b\b\b\b\b\b\b\b\b\b\b\b\b\b\b\b\b\b\b\b\b\b\b\b\b\b\b\b\b\b\b\b\b\b\b\b\b\b\b\b\b\b\b\b\b\r1\/1 [==============================] - 0s 65ms\/step - loss: 0.6172 - accuracy: 0.7744 - val_loss: 0.7709 - val_accuracy: 0.6561\n",
      "Epoch 28\/100\n",
      "\r1\/1 [==============================] - ETA: 0s - loss: 0.6076 - accuracy: 0.7930\b\b\b\b\b\b\b\b\b\b\b\b\b\b\b\b\b\b\b\b\b\b\b\b\b\b\b\b\b\b\b\b\b\b\b\b\b\b\b\b\b\b\b\b\b\b\b\b\b\b\b\b\b\b\b\b\b\b\b\b\b\b\b\b\b\b\b\b\b\b\b\b\b\b\b\b\b\b\b\b\r1\/1 [==============================] - 0s 72ms\/step - loss: 0.6076 - accuracy: 0.7930 - val_loss: 0.7670 - val_accuracy: 0.6561\n",
      "Epoch 29\/100\n",
      "\r1\/1 [==============================] - ETA: 0s - loss: 0.5999 - accuracy: 0.7889\b\b\b\b\b\b\b\b\b\b\b\b\b\b\b\b\b\b\b\b\b\b\b\b\b\b\b\b\b\b\b\b\b\b\b\b\b\b\b\b\b\b\b\b\b\b\b\b\b\b\b\b\b\b\b\b\b\b\b\b\b\b\b\b\b\b\b\b\b\b\b\b\b\b\b\b\b\b\b\b\r1\/1 [==============================] - 0s 80ms\/step - loss: 0.5999 - accuracy: 0.7889 - val_loss: 0.7619 - val_accuracy: 0.6561\n",
      "Epoch 30\/100\n",
      "\r1\/1 [==============================] - ETA: 0s - loss: 0.5972 - accuracy: 0.7900\b\b\b\b\b\b\b\b\b\b\b\b\b\b\b\b\b\b\b\b\b\b\b\b\b\b\b\b\b\b\b\b\b\b\b\b\b\b\b\b\b\b\b\b\b\b\b\b\b\b\b\b\b\b\b\b\b\b\b\b\b\b\b\b\b\b\b\b\b\b\b\b\b\b\b\b\b\b\b\b\r1\/1 [==============================] - 0s 64ms\/step - loss: 0.5972 - accuracy: 0.7900 - val_loss: 0.7566 - val_accuracy: 0.6561\n",
      "Epoch 31\/100\n",
      "\r1\/1 [==============================] - ETA: 0s - loss: 0.5985 - accuracy: 0.7895\b\b\b\b\b\b\b\b\b\b\b\b\b\b\b\b\b\b\b\b\b\b\b\b\b\b\b\b\b\b\b\b\b\b\b\b\b\b\b\b\b\b\b\b\b\b\b\b\b\b\b\b\b\b\b\b\b\b\b\b\b\b\b\b\b\b\b\b\b\b\b\b\b\b\b\b\b\b\b\b\r1\/1 [==============================] - 0s 84ms\/step - loss: 0.5985 - accuracy: 0.7895 - val_loss: 0.7527 - val_accuracy: 0.6561\n",
      "Epoch 32\/100\n",
      "\r1\/1 [==============================] - ETA: 0s - loss: 0.5896 - accuracy: 0.7845\b\b\b\b\b\b\b\b\b\b\b\b\b\b\b\b\b\b\b\b\b\b\b\b\b\b\b\b\b\b\b\b\b\b\b\b\b\b\b\b\b\b\b\b\b\b\b\b\b\b\b\b\b\b\b\b\b\b\b\b\b\b\b\b\b\b\b\b\b\b\b\b\b\b\b\b\b\b\b\b\r1\/1 [==============================] - 0s 69ms\/step - loss: 0.5896 - accuracy: 0.7845 - val_loss: 0.7476 - val_accuracy: 0.6561\n",
      "Epoch 33\/100\n",
      "\r1\/1 [==============================] - ETA: 0s - loss: 0.5832 - accuracy: 0.7980\b\b\b\b\b\b\b\b\b\b\b\b\b\b\b\b\b\b\b\b\b\b\b\b\b\b\b\b\b\b\b\b\b\b\b\b\b\b\b\b\b\b\b\b\b\b\b\b\b\b\b\b\b\b\b\b\b\b\b\b\b\b\b\b\b\b\b\b\b\b\b\b\b\b\b\b\b\b\b\b\r1\/1 [==============================] - 0s 63ms\/step - loss: 0.5832 - accuracy: 0.7980 - val_loss: 0.7440 - val_accuracy: 0.6561\n",
      "Epoch 34\/100\n",
      "\r1\/1 [==============================] - ETA: 0s - loss: 0.5782 - accuracy: 0.7959\b\b\b\b\b\b\b\b\b\b\b\b\b\b\b\b\b\b\b\b\b\b\b\b\b\b\b\b\b\b\b\b\b\b\b\b\b\b\b\b\b\b\b\b\b\b\b\b\b\b\b\b\b\b\b\b\b\b\b\b\b\b\b\b\b\b\b\b\b\b\b\b\b\b\b\b\b\b\b\b\r1\/1 [==============================] - 0s 71ms\/step - loss: 0.5782 - accuracy: 0.7959 - val_loss: 0.7391 - val_accuracy: 0.6561\n",
      "Epoch 35\/100\n",
      "\r1\/1 [==============================] - ETA: 0s - loss: 0.5734 - accuracy: 0.8051\b\b\b\b\b\b\b\b\b\b\b\b\b\b\b\b\b\b\b\b\b\b\b\b\b\b\b\b\b\b\b\b\b\b\b\b\b\b\b\b\b\b\b\b\b\b\b\b\b\b\b\b\b\b\b\b\b\b\b\b\b\b\b\b\b\b\b\b\b\b\b\b\b\b\b\b\b\b\b\b\r1\/1 [==============================] - 0s 70ms\/step - loss: 0.5734 - accuracy: 0.8051 - val_loss: 0.7347 - val_accuracy: 0.6561\n",
      "Epoch 36\/100\n",
      "\r1\/1 [==============================] - ETA: 0s - loss: 0.5725 - accuracy: 0.8015\b\b\b\b\b\b\b\b\b\b\b\b\b\b\b\b\b\b\b\b\b\b\b\b\b\b\b\b\b\b\b\b\b\b\b\b\b\b\b\b\b\b\b\b\b\b\b\b\b\b\b\b\b\b\b\b\b\b\b\b\b\b\b\b\b\b\b\b\b\b\b\b\b\b\b\b\b\b\b\b\r1\/1 [==============================] - 0s 68ms\/step - loss: 0.5725 - accuracy: 0.8015 - val_loss: 0.7293 - val_accuracy: 0.6561\n",
      "Epoch 37\/100\n",
      "\r1\/1 [==============================] - ETA: 0s - loss: 0.5740 - accuracy: 0.7995\b\b\b\b\b\b\b\b\b\b\b\b\b\b\b\b\b\b\b\b\b\b\b\b\b\b\b\b\b\b\b\b\b\b\b\b\b\b\b\b\b\b\b\b\b\b\b\b\b\b\b\b\b\b\b\b\b\b\b\b\b\b\b\b\b\b\b\b\b\b\b\b\b\b\b\b\b\b\b\b\r1\/1 [==============================] - 0s 65ms\/step - loss: 0.5740 - accuracy: 0.7995 - val_loss: 0.7249 - val_accuracy: 0.6561\n",
      "Epoch 38\/100\n",
      "\r1\/1 [==============================] - ETA: 0s - loss: 0.5683 - accuracy: 0.8009\b\b\b\b\b\b\b\b\b\b\b\b\b\b\b\b\b\b\b\b\b\b\b\b\b\b\b\b\b\b\b\b\b\b\b\b\b\b\b\b\b\b\b\b\b\b\b\b\b\b\b\b\b\b\b\b\b\b\b\b\b\b\b\b\b\b\b\b\b\b\b\b\b\b\b\b\b\b\b\b\r1\/1 [==============================] - 0s 67ms\/step - loss: 0.5683 - accuracy: 0.8009 - val_loss: 0.7204 - val_accuracy: 0.6561\n",
      "Epoch 39\/100\n",
      "\r1\/1 [==============================] - ETA: 0s - loss: 0.5612 - accuracy: 0.8107\b\b\b\b\b\b\b\b\b\b\b\b\b\b\b\b\b\b\b\b\b\b\b\b\b\b\b\b\b\b\b\b\b\b\b\b\b\b\b\b\b\b\b\b\b\b\b\b\b\b\b\b\b\b\b\b\b\b\b\b\b\b\b\b\b\b\b\b\b\b\b\b\b\b\b\b\b\b\b\b\r1\/1 [==============================] - 0s 67ms\/step - loss: 0.5612 - accuracy: 0.8107 - val_loss: 0.7157 - val_accuracy: 0.6561\n",
      "Epoch 40\/100\n",
      "\r1\/1 [==============================] - ETA: 0s - loss: 0.5536 - accuracy: 0.8068\b\b\b\b\b\b\b\b\b\b\b\b\b\b\b\b\b\b\b\b\b\b\b\b\b\b\b\b\b\b\b\b\b\b\b\b\b\b\b\b\b\b\b\b\b\b\b\b\b\b\b\b\b\b\b\b\b\b\b\b\b\b\b\b\b\b\b\b\b\b\b\b\b\b\b\b\b\b\b\b\r1\/1 [==============================] - 0s 66ms\/step - loss: 0.5536 - accuracy: 0.8068 - val_loss: 0.7119 - val_accuracy: 0.6572\n",
      "Epoch 41\/100\n",
      "\r1\/1 [==============================] - ETA: 0s - loss: 0.5401 - accuracy: 0.8163\b\b\b\b\b\b\b\b\b\b\b\b\b\b\b\b\b\b\b\b\b\b\b\b\b\b\b\b\b\b\b\b\b\b\b\b\b\b\b\b\b\b\b\b\b\b\b\b\b\b\b\b\b\b\b\b\b\b\b\b\b\b\b\b\b\b\b\b\b\b\b\b\b\b\b\b\b\b\b\b\r1\/1 [==============================] - 0s 71ms\/step - loss: 0.5401 - accuracy: 0.8163 - val_loss: 0.7078 - val_accuracy: 0.6572\n",
      "Epoch 42\/100\n",
      "\r1\/1 [==============================] - ETA: 0s - loss: 0.5422 - accuracy: 0.8098\b\b\b\b\b\b\b\b\b\b\b\b\b\b\b\b\b\b\b\b\b\b\b\b\b\b\b\b\b\b\b\b\b\b\b\b\b\b\b\b\b\b\b\b\b\b\b\b\b\b\b\b\b\b\b\b\b\b\b\b\b\b\b\b\b\b\b\b\b\b\b\b\b\b\b\b\b\b\b\b\r1\/1 [==============================] - 0s 66ms\/step - loss: 0.5422 - accuracy: 0.8098 - val_loss: 0.7036 - val_accuracy: 0.6572\n",
      "Epoch 43\/100\n",
      "\r1\/1 [==============================] - ETA: 0s - loss: 0.5423 - accuracy: 0.8145\b\b\b\b\b\b\b\b\b\b\b\b\b\b\b\b\b\b\b\b\b\b\b\b\b\b\b\b\b\b\b\b\b\b\b\b\b\b\b\b\b\b\b\b\b\b\b\b\b\b\b\b\b\b\b\b\b\b\b\b\b\b\b\b\b\b\b\b\b\b\b\b\b\b\b\b\b\b\b\b\r1\/1 [==============================] - 0s 64ms\/step - loss: 0.5423 - accuracy: 0.8145 - val_loss: 0.7010 - val_accuracy: 0.6572\n",
      "Epoch 44\/100\n",
      "\r1\/1 [==============================] - ETA: 0s - loss: 0.5373 - accuracy: 0.8071\b\b\b\b\b\b\b\b\b\b\b\b\b\b\b\b\b\b\b\b\b\b\b\b\b\b\b\b\b\b\b\b\b\b\b\b\b\b\b\b\b\b\b\b\b\b\b\b\b\b\b\b\b\b\b\b\b\b\b\b\b\b\b\b\b\b\b\b\b\b\b\b\b\b\b\b\b\b\b\b\r1\/1 [==============================] - 0s 71ms\/step - loss: 0.5373 - accuracy: 0.8071 - val_loss: 0.6961 - val_accuracy: 0.6572\n",
      "Epoch 45\/100\n",
      "\r1\/1 [==============================] - ETA: 0s - loss: 0.5300 - accuracy: 0.8180\b\b\b\b\b\b\b\b\b\b\b\b\b\b\b\b\b\b\b\b\b\b\b\b\b\b\b\b\b\b\b\b\b\b\b\b\b\b\b\b\b\b\b\b\b\b\b\b\b\b\b\b\b\b\b\b\b\b\b\b\b\b\b\b\b\b\b\b\b\b\b\b\b\b\b\b\b\b\b\b\r1\/1 [==============================] - 0s 68ms\/step - loss: 0.5300 - accuracy: 0.8180 - val_loss: 0.6931 - val_accuracy: 0.6608\n",
      "Epoch 46\/100\n",
      "\r1\/1 [==============================] - ETA: 0s - loss: 0.5329 - accuracy: 0.8151\b\b\b\b\b\b\b\b\b\b\b\b\b\b\b\b\b\b\b\b\b\b\b\b\b\b\b\b\b\b\b\b\b\b\b\b\b\b\b\b\b\b\b\b\b\b\b\b\b\b\b\b\b\b\b\b\b\b\b\b\b\b\b\b\b\b\b\b\b\b\b\b\b\b\b\b\b\b\b\b\r1\/1 [==============================] - 0s 68ms\/step - loss: 0.5329 - accuracy: 0.8151 - val_loss: 0.6897 - val_accuracy: 0.6714\n",
      "Epoch 47\/100\n",
      "\r1\/1 [==============================] - ETA: 0s - loss: 0.5337 - accuracy: 0.8142\b\b\b\b\b\b\b\b\b\b\b\b\b\b\b\b\b\b\b\b\b\b\b\b\b\b\b\b\b\b\b\b\b\b\b\b\b\b\b\b\b\b\b\b\b\b\b\b\b\b\b\b\b\b\b\b\b\b\b\b\b\b\b\b\b\b\b\b\b\b\b\b\b\b\b\b\b\b\b\b\r1\/1 [==============================] - 0s 72ms\/step - loss: 0.5337 - accuracy: 0.8142 - val_loss: 0.6871 - val_accuracy: 0.6773\n",
      "Epoch 48\/100\n",
      "\r1\/1 [==============================] - ETA: 0s - loss: 0.5335 - accuracy: 0.8139\b\b\b\b\b\b\b\b\b\b\b\b\b\b\b\b\b\b\b\b\b\b\b\b\b\b\b\b\b\b\b\b\b\b\b\b\b\b\b\b\b\b\b\b\b\b\b\b\b\b\b\b\b\b\b\b\b\b\b\b\b\b\b\b\b\b\b\b\b\b\b\b\b\b\b\b\b\b\b\b\r1\/1 [==============================] - 0s 64ms\/step - loss: 0.5335 - accuracy: 0.8139 - val_loss: 0.6839 - val_accuracy: 0.6808\n",
      "Epoch 49\/100\n",
      "\r1\/1 [==============================] - ETA: 0s - loss: 0.5293 - accuracy: 0.8142\b\b\b\b\b\b\b\b\b\b\b\b\b\b\b\b\b\b\b\b\b\b\b\b\b\b\b\b\b\b\b\b\b\b\b\b\b\b\b\b\b\b\b\b\b\b\b\b\b\b\b\b\b\b\b\b\b\b\b\b\b\b\b\b\b\b\b\b\b\b\b\b\b\b\b\b\b\b\b\b\r1\/1 [==============================] - 0s 82ms\/step - loss: 0.5293 - accuracy: 0.8142 - val_loss: 0.6806 - val_accuracy: 0.6820\n",
      "Epoch 50\/100\n",
      "\r1\/1 [==============================] - ETA: 0s - loss: 0.5172 - accuracy: 0.8242\b\b\b\b\b\b\b\b\b\b\b\b\b\b\b\b\b\b\b\b\b\b\b\b\b\b\b\b\b\b\b\b\b\b\b\b\b\b\b\b\b\b\b\b\b\b\b\b\b\b\b\b\b\b\b\b\b\b\b\b\b\b\b\b\b\b\b\b\b\b\b\b\b\b\b\b\b\b\b\b\r1\/1 [==============================] - 0s 83ms\/step - loss: 0.5172 - accuracy: 0.8242 - val_loss: 0.6778 - val_accuracy: 0.6843\n",
      "Epoch 51\/100\n",
      "\r1\/1 [==============================] - ETA: 0s - loss: 0.5189 - accuracy: 0.8230\b\b\b\b\b\b\b\b\b\b\b\b\b\b\b\b\b\b\b\b\b\b\b\b\b\b\b\b\b\b\b\b\b\b\b\b\b\b\b\b\b\b\b\b\b\b\b\b\b\b\b\b\b\b\b\b\b\b\b\b\b\b\b\b\b\b\b\b\b\b\b\b\b\b\b\b\b\b\b\b\r1\/1 [==============================] - 0s 84ms\/step - loss: 0.5189 - accuracy: 0.8230 - val_loss: 0.6745 - val_accuracy: 0.6855\n",
      "Epoch 52\/100\n",
      "\r1\/1 [==============================] - ETA: 0s - loss: 0.5158 - accuracy: 0.8210\b\b\b\b\b\b\b\b\b\b\b\b\b\b\b\b\b\b\b\b\b\b\b\b\b\b\b\b\b\b\b\b\b\b\b\b\b\b\b\b\b\b\b\b\b\b\b\b\b\b\b\b\b\b\b\b\b\b\b\b\b\b\b\b\b\b\b\b\b\b\b\b\b\b\b\b\b\b\b\b\r1\/1 [==============================] - 0s 64ms\/step - loss: 0.5158 - accuracy: 0.8210 - val_loss: 0.6716 - val_accuracy: 0.6867\n",
      "Epoch 53\/100\n",
      "\r1\/1 [==============================] - ETA: 0s - loss: 0.5221 - accuracy: 0.8098\b\b\b\b\b\b\b\b\b\b\b\b\b\b\b\b\b\b\b\b\b\b\b\b\b\b\b\b\b\b\b\b\b\b\b\b\b\b\b\b\b\b\b\b\b\b\b\b\b\b\b\b\b\b\b\b\b\b\b\b\b\b\b\b\b\b\b\b\b\b\b\b\b\b\b\b\b\b\b\b\r1\/1 [==============================] - 0s 68ms\/step - loss: 0.5221 - accuracy: 0.8098 - val_loss: 0.6692 - val_accuracy: 0.6926\n",
      "Epoch 54\/100\n",
      "\r1\/1 [==============================] - ETA: 0s - loss: 0.5178 - accuracy: 0.8192\b\b\b\b\b\b\b\b\b\b\b\b\b\b\b\b\b\b\b\b\b\b\b\b\b\b\b\b\b\b\b\b\b\b\b\b\b\b\b\b\b\b\b\b\b\b\b\b\b\b\b\b\b\b\b\b\b\b\b\b\b\b\b\b\b\b\b\b\b\b\b\b\b\b\b\b\b\b\b\b\r1\/1 [==============================] - 0s 71ms\/step - loss: 0.5178 - accuracy: 0.8192 - val_loss: 0.6665 - val_accuracy: 0.6985\n",
      "Epoch 55\/100\n",
      "\r1\/1 [==============================] - ETA: 0s - loss: 0.5109 - accuracy: 0.8195\b\b\b\b\b\b\b\b\b\b\b\b\b\b\b\b\b\b\b\b\b\b\b\b\b\b\b\b\b\b\b\b\b\b\b\b\b\b\b\b\b\b\b\b\b\b\b\b\b\b\b\b\b\b\b\b\b\b\b\b\b\b\b\b\b\b\b\b\b\b\b\b\b\b\b\b\b\b\b\b\r1\/1 [==============================] - 0s 71ms\/step - loss: 0.5109 - accuracy: 0.8195 - val_loss: 0.6635 - val_accuracy: 0.7020\n",
      "Epoch 56\/100\n",
      "\r1\/1 [==============================] - ETA: 0s - loss: 0.5051 - accuracy: 0.8204\b\b\b\b\b\b\b\b\b\b\b\b\b\b\b\b\b\b\b\b\b\b\b\b\b\b\b\b\b\b\b\b\b\b\b\b\b\b\b\b\b\b\b\b\b\b\b\b\b\b\b\b\b\b\b\b\b\b\b\b\b\b\b\b\b\b\b\b\b\b\b\b\b\b\b\b\b\b\b\b\r1\/1 [==============================] - 0s 66ms\/step - loss: 0.5051 - accuracy: 0.8204 - val_loss: 0.6600 - val_accuracy: 0.7067\n",
      "Epoch 57\/100\n",
      "\r1\/1 [==============================] - ETA: 0s - loss: 0.4975 - accuracy: 0.8327\b\b\b\b\b\b\b\b\b\b\b\b\b\b\b\b\b\b\b\b\b\b\b\b\b\b\b\b\b\b\b\b\b\b\b\b\b\b\b\b\b\b\b\b\b\b\b\b\b\b\b\b\b\b\b\b\b\b\b\b\b\b\b\b\b\b\b\b\b\b\b\b\b\b\b\b\b\b\b\b\r1\/1 [==============================] - 0s 68ms\/step - loss: 0.4975 - accuracy: 0.8327 - val_loss: 0.6581 - val_accuracy: 0.7102\n",
      "Epoch 58\/100\n",
      "\r1\/1 [==============================] - ETA: 0s - loss: 0.5014 - accuracy: 0.8286\b\b\b\b\b\b\b\b\b\b\b\b\b\b\b\b\b\b\b\b\b\b\b\b\b\b\b\b\b\b\b\b\b\b\b\b\b\b\b\b\b\b\b\b\b\b\b\b\b\b\b\b\b\b\b\b\b\b\b\b\b\b\b\b\b\b\b\b\b\b\b\b\b\b\b\b\b\b\b\b\r1\/1 [==============================] - 0s 71ms\/step - loss: 0.5014 - accuracy: 0.8286 - val_loss: 0.6547 - val_accuracy: 0.7126\n",
      "Epoch 59\/100\n",
      "\r1\/1 [==============================] - ETA: 0s - loss: 0.5070 - accuracy: 0.8218\b\b\b\b\b\b\b\b\b\b\b\b\b\b\b\b\b\b\b\b\b\b\b\b\b\b\b\b\b\b\b\b\b\b\b\b\b\b\b\b\b\b\b\b\b\b\b\b\b\b\b\b\b\b\b\b\b\b\b\b\b\b\b\b\b\b\b\b\b\b\b\b\b\b\b\b\b\b\b\b\r1\/1 [==============================] - 0s 68ms\/step - loss: 0.5070 - accuracy: 0.8218 - val_loss: 0.6535 - val_accuracy: 0.7150\n",
      "Epoch 60\/100\n",
      "\r1\/1 [==============================] - ETA: 0s - loss: 0.5044 - accuracy: 0.8263\b\b\b\b\b\b\b\b\b\b\b\b\b\b\b\b\b\b\b\b\b\b\b\b\b\b\b\b\b\b\b\b\b\b\b\b\b\b\b\b\b\b\b\b\b\b\b\b\b\b\b\b\b\b\b\b\b\b\b\b\b\b\b\b\b\b\b\b\b\b\b\b\b\b\b\b\b\b\b\b\r1\/1 [==============================] - 0s 69ms\/step - loss: 0.5044 - accuracy: 0.8263 - val_loss: 0.6501 - val_accuracy: 0.7150\n",
      "Epoch 61\/100\n",
      "\r1\/1 [==============================] - ETA: 0s - loss: 0.4976 - accuracy: 0.8313\b\b\b\b\b\b\b\b\b\b\b\b\b\b\b\b\b\b\b\b\b\b\b\b\b\b\b\b\b\b\b\b\b\b\b\b\b\b\b\b\b\b\b\b\b\b\b\b\b\b\b\b\b\b\b\b\b\b\b\b\b\b\b\b\b\b\b\b\b\b\b\b\b\b\b\b\b\b\b\b\r1\/1 [==============================] - 0s 69ms\/step - loss: 0.4976 - accuracy: 0.8313 - val_loss: 0.6478 - val_accuracy: 0.7197\n",
      "Epoch 62\/100\n",
      "\r1\/1 [==============================] - ETA: 0s - loss: 0.4954 - accuracy: 0.8342\b\b\b\b\b\b\b\b\b\b\b\b\b\b\b\b\b\b\b\b\b\b\b\b\b\b\b\b\b\b\b\b\b\b\b\b\b\b\b\b\b\b\b\b\b\b\b\b\b\b\b\b\b\b\b\b\b\b\b\b\b\b\b\b\b\b\b\b\b\b\b\b\b\b\b\b\b\b\b\b\r1\/1 [==============================] - 0s 66ms\/step - loss: 0.4954 - accuracy: 0.8342 - val_loss: 0.6452 - val_accuracy: 0.7208\n",
      "Epoch 63\/100\n",
      "\r1\/1 [==============================] - ETA: 0s - loss: 0.4859 - accuracy: 0.8301\b\b\b\b\b\b\b\b\b\b\b\b\b\b\b\b\b\b\b\b\b\b\b\b\b\b\b\b\b\b\b\b\b\b\b\b\b\b\b\b\b\b\b\b\b\b\b\b\b\b\b\b\b\b\b\b\b\b\b\b\b\b\b\b\b\b\b\b\b\b\b\b\b\b\b\b\b\b\b\b\r1\/1 [==============================] - 0s 64ms\/step - loss: 0.4859 - accuracy: 0.8301 - val_loss: 0.6419 - val_accuracy: 0.7208\n",
      "Epoch 64\/100\n",
      "\r1\/1 [==============================] - ETA: 0s - loss: 0.4899 - accuracy: 0.8286\b\b\b\b\b\b\b\b\b\b\b\b\b\b\b\b\b\b\b\b\b\b\b\b\b\b\b\b\b\b\b\b\b\b\b\b\b\b\b\b\b\b\b\b\b\b\b\b\b\b\b\b\b\b\b\b\b\b\b\b\b\b\b\b\b\b\b\b\b\b\b\b\b\b\b\b\b\b\b\b\r1\/1 [==============================] - 0s 68ms\/step - loss: 0.4899 - accuracy: 0.8286 - val_loss: 0.6396 - val_accuracy: 0.7232\n",
      "Epoch 65\/100\n",
      "\r1\/1 [==============================] - ETA: 0s - loss: 0.4841 - accuracy: 0.8319\b\b\b\b\b\b\b\b\b\b\b\b\b\b\b\b\b\b\b\b\b\b\b\b\b\b\b\b\b\b\b\b\b\b\b\b\b\b\b\b\b\b\b\b\b\b\b\b\b\b\b\b\b\b\b\b\b\b\b\b\b\b\b\b\b\b\b\b\b\b\b\b\b\b\b\b\b\b\b\b\r1\/1 [==============================] - 0s 69ms\/step - loss: 0.4841 - accuracy: 0.8319 - val_loss: 0.6368 - val_accuracy: 0.7267\n",
      "Epoch 66\/100\n",
      "\r1\/1 [==============================] - ETA: 0s - loss: 0.4854 - accuracy: 0.8354\b\b\b\b\b\b\b\b\b\b\b\b\b\b\b\b\b\b\b\b\b\b\b\b\b\b\b\b\b\b\b\b\b\b\b\b\b\b\b\b\b\b\b\b\b\b\b\b\b\b\b\b\b\b\b\b\b\b\b\b\b\b\b\b\b\b\b\b\b\b\b\b\b\b\b\b\b\b\b\b\r1\/1 [==============================] - 0s 80ms\/step - loss: 0.4854 - accuracy: 0.8354 - val_loss: 0.6348 - val_accuracy: 0.7291\n",
      "Epoch 67\/100\n",
      "\r1\/1 [==============================] - ETA: 0s - loss: 0.4872 - accuracy: 0.8313\b\b\b\b\b\b\b\b\b\b\b\b\b\b\b\b\b\b\b\b\b\b\b\b\b\b\b\b\b\b\b\b\b\b\b\b\b\b\b\b\b\b\b\b\b\b\b\b\b\b\b\b\b\b\b\b\b\b\b\b\b\b\b\b\b\b\b\b\b\b\b\b\b\b\b\b\b\b\b\b\r1\/1 [==============================] - 0s 86ms\/step - loss: 0.4872 - accuracy: 0.8313 - val_loss: 0.6326 - val_accuracy: 0.7314\n",
      "Epoch 68\/100\n",
      "\r1\/1 [==============================] - ETA: 0s - loss: 0.4756 - accuracy: 0.8413\b\b\b\b\b\b\b\b\b\b\b\b\b\b\b\b\b\b\b\b\b\b\b\b\b\b\b\b\b\b\b\b\b\b\b\b\b\b\b\b\b\b\b\b\b\b\b\b\b\b\b\b\b\b\b\b\b\b\b\b\b\b\b\b\b\b\b\b\b\b\b\b\b\b\b\b\b\b\b\b\r1\/1 [==============================] - 0s 69ms\/step - loss: 0.4756 - accuracy: 0.8413 - val_loss: 0.6295 - val_accuracy: 0.7362\n",
      "Epoch 69\/100\n",
      "\r1\/1 [==============================] - ETA: 0s - loss: 0.4753 - accuracy: 0.8445\b\b\b\b\b\b\b\b\b\b\b\b\b\b\b\b\b\b\b\b\b\b\b\b\b\b\b\b\b\b\b\b\b\b\b\b\b\b\b\b\b\b\b\b\b\b\b\b\b\b\b\b\b\b\b\b\b\b\b\b\b\b\b\b\b\b\b\b\b\b\b\b\b\b\b\b\b\b\b\b\r1\/1 [==============================] - 0s 83ms\/step - loss: 0.4753 - accuracy: 0.8445 - val_loss: 0.6269 - val_accuracy: 0.7444\n",
      "Epoch 70\/100\n",
      "\r1\/1 [==============================] - ETA: 0s - loss: 0.4759 - accuracy: 0.8413\b\b\b\b\b\b\b\b\b\b\b\b\b\b\b\b\b\b\b\b\b\b\b\b\b\b\b\b\b\b\b\b\b\b\b\b\b\b\b\b\b\b\b\b\b\b\b\b\b\b\b\b\b\b\b\b\b\b\b\b\b\b\b\b\b\b\b\b\b\b\b\b\b\b\b\b\b\b\b\b\r1\/1 [==============================] - 0s 66ms\/step - loss: 0.4759 - accuracy: 0.8413 - val_loss: 0.6250 - val_accuracy: 0.7491\n",
      "Epoch 71\/100\n",
      "\r1\/1 [==============================] - ETA: 0s - loss: 0.4808 - accuracy: 0.8366\b\b\b\b\b\b\b\b\b\b\b\b\b\b\b\b\b\b\b\b\b\b\b\b\b\b\b\b\b\b\b\b\b\b\b\b\b\b\b\b\b\b\b\b\b\b\b\b\b\b\b\b\b\b\b\b\b\b\b\b\b\b\b\b\b\b\b\b\b\b\b\b\b\b\b\b\b\b\b\b\r1\/1 [==============================] - 0s 84ms\/step - loss: 0.4808 - accuracy: 0.8366 - val_loss: 0.6221 - val_accuracy: 0.7527\n",
      "Epoch 72\/100\n",
      "\r1\/1 [==============================] - ETA: 0s - loss: 0.4729 - accuracy: 0.8422\b\b\b\b\b\b\b\b\b\b\b\b\b\b\b\b\b\b\b\b\b\b\b\b\b\b\b\b\b\b\b\b\b\b\b\b\b\b\b\b\b\b\b\b\b\b\b\b\b\b\b\b\b\b\b\b\b\b\b\b\b\b\b\b\b\b\b\b\b\b\b\b\b\b\b\b\b\b\b\b\r1\/1 [==============================] - 0s 86ms\/step - loss: 0.4729 - accuracy: 0.8422 - val_loss: 0.6203 - val_accuracy: 0.7574\n",
      "Epoch 73\/100\n",
      "\r1\/1 [==============================] - ETA: 0s - loss: 0.4787 - accuracy: 0.8322\b\b\b\b\b\b\b\b\b\b\b\b\b\b\b\b\b\b\b\b\b\b\b\b\b\b\b\b\b\b\b\b\b\b\b\b\b\b\b\b\b\b\b\b\b\b\b\b\b\b\b\b\b\b\b\b\b\b\b\b\b\b\b\b\b\b\b\b\b\b\b\b\b\b\b\b\b\b\b\b\r1\/1 [==============================] - 0s 82ms\/step - loss: 0.4787 - accuracy: 0.8322 - val_loss: 0.6179 - val_accuracy: 0.7656\n",
      "Epoch 74\/100\n",
      "\r1\/1 [==============================] - ETA: 0s - loss: 0.4688 - accuracy: 0.8431\b\b\b\b\b\b\b\b\b\b\b\b\b\b\b\b\b\b\b\b\b\b\b\b\b\b\b\b\b\b\b\b\b\b\b\b\b\b\b\b\b\b\b\b\b\b\b\b\b\b\b\b\b\b\b\b\b\b\b\b\b\b\b\b\b\b\b\b\b\b\b\b\b\b\b\b\b\b\b\b\r1\/1 [==============================] - 0s 81ms\/step - loss: 0.4688 - accuracy: 0.8431 - val_loss: 0.6154 - val_accuracy: 0.7727\n",
      "Epoch 75\/100\n",
      "\r1\/1 [==============================] - ETA: 0s - loss: 0.4600 - accuracy: 0.8507\b\b\b\b\b\b\b\b\b\b\b\b\b\b\b\b\b\b\b\b\b\b\b\b\b\b\b\b\b\b\b\b\b\b\b\b\b\b\b\b\b\b\b\b\b\b\b\b\b\b\b\b\b\b\b\b\b\b\b\b\b\b\b\b\b\b\b\b\b\b\b\b\b\b\b\b\b\b\b\b\r1\/1 [==============================] - 0s 69ms\/step - loss: 0.4600 - accuracy: 0.8507 - val_loss: 0.6124 - val_accuracy: 0.7750\n",
      "Epoch 76\/100\n",
      "\r1\/1 [==============================] - ETA: 0s - loss: 0.4705 - accuracy: 0.8366\b\b\b\b\b\b\b\b\b\b\b\b\b\b\b\b\b\b\b\b\b\b\b\b\b\b\b\b\b\b\b\b\b\b\b\b\b\b\b\b\b\b\b\b\b\b\b\b\b\b\b\b\b\b\b\b\b\b\b\b\b\b\b\b\b\b\b\b\b\b\b\b\b\b\b\b\b\b\b\b\r1\/1 [==============================] - 0s 70ms\/step - loss: 0.4705 - accuracy: 0.8366 - val_loss: 0.6107 - val_accuracy: 0.7833\n",
      "Epoch 77\/100\n",
      "\r1\/1 [==============================] - ETA: 0s - loss: 0.4686 - accuracy: 0.8433\b\b\b\b\b\b\b\b\b\b\b\b\b\b\b\b\b\b\b\b\b\b\b\b\b\b\b\b\b\b\b\b\b\b\b\b\b\b\b\b\b\b\b\b\b\b\b\b\b\b\b\b\b\b\b\b\b\b\b\b\b\b\b\b\b\b\b\b\b\b\b\b\b\b\b\b\b\b\b\b\r1\/1 [==============================] - 0s 75ms\/step - loss: 0.4686 - accuracy: 0.8433 - val_loss: 0.6086 - val_accuracy: 0.7880\n",
      "Epoch 78\/100\n",
      "\r1\/1 [==============================] - ETA: 0s - loss: 0.4614 - accuracy: 0.8448\b\b\b\b\b\b\b\b\b\b\b\b\b\b\b\b\b\b\b\b\b\b\b\b\b\b\b\b\b\b\b\b\b\b\b\b\b\b\b\b\b\b\b\b\b\b\b\b\b\b\b\b\b\b\b\b\b\b\b\b\b\b\b\b\b\b\b\b\b\b\b\b\b\b\b\b\b\b\b\b\r1\/1 [==============================] - 0s 82ms\/step - loss: 0.4614 - accuracy: 0.8448 - val_loss: 0.6052 - val_accuracy: 0.7962\n",
      "Epoch 79\/100\n",
      "\r1\/1 [==============================] - ETA: 0s - loss: 0.4635 - accuracy: 0.8463\b\b\b\b\b\b\b\b\b\b\b\b\b\b\b\b\b\b\b\b\b\b\b\b\b\b\b\b\b\b\b\b\b\b\b\b\b\b\b\b\b\b\b\b\b\b\b\b\b\b\b\b\b\b\b\b\b\b\b\b\b\b\b\b\b\b\b\b\b\b\b\b\b\b\b\b\b\b\b\b\r1\/1 [==============================] - 0s 92ms\/step - loss: 0.4635 - accuracy: 0.8463 - val_loss: 0.6036 - val_accuracy: 0.7998\n",
      "Epoch 80\/100\n",
      "\r1\/1 [==============================] - ETA: 0s - loss: 0.4596 - accuracy: 0.8501\b\b\b\b\b\b\b\b\b\b\b\b\b\b\b\b\b\b\b\b\b\b\b\b\b\b\b\b\b\b\b\b\b\b\b\b\b\b\b\b\b\b\b\b\b\b\b\b\b\b\b\b\b\b\b\b\b\b\b\b\b\b\b\b\b\b\b\b\b\b\b\b\b\b\b\b\b\b\b\b\r1\/1 [==============================] - 0s 70ms\/step - loss: 0.4596 - accuracy: 0.8501 - val_loss: 0.6012 - val_accuracy: 0.8045\n",
      "Epoch 81\/100\n",
      "\r1\/1 [==============================] - ETA: 0s - loss: 0.4484 - accuracy: 0.8560\b\b\b\b\b\b\b\b\b\b\b\b\b\b\b\b\b\b\b\b\b\b\b\b\b\b\b\b\b\b\b\b\b\b\b\b\b\b\b\b\b\b\b\b\b\b\b\b\b\b\b\b\b\b\b\b\b\b\b\b\b\b\b\b\b\b\b\b\b\b\b\b\b\b\b\b\b\b\b\b\r1\/1 [==============================] - 0s 76ms\/step - loss: 0.4484 - accuracy: 0.8560 - val_loss: 0.5990 - val_accuracy: 0.8068\n",
      "Epoch 82\/100\n",
      "\r1\/1 [==============================] - ETA: 0s - loss: 0.4590 - accuracy: 0.8469\b\b\b\b\b\b\b\b\b\b\b\b\b\b\b\b\b\b\b\b\b\b\b\b\b\b\b\b\b\b\b\b\b\b\b\b\b\b\b\b\b\b\b\b\b\b\b\b\b\b\b\b\b\b\b\b\b\b\b\b\b\b\b\b\b\b\b\b\b\b\b\b\b\b\b\b\b\b\b\b\r1\/1 [==============================] - 0s 67ms\/step - loss: 0.4590 - accuracy: 0.8469 - val_loss: 0.5973 - val_accuracy: 0.8092\n",
      "Epoch 83\/100\n",
      "\r1\/1 [==============================] - ETA: 0s - loss: 0.4543 - accuracy: 0.8407\b\b\b\b\b\b\b\b\b\b\b\b\b\b\b\b\b\b\b\b\b\b\b\b\b\b\b\b\b\b\b\b\b\b\b\b\b\b\b\b\b\b\b\b\b\b\b\b\b\b\b\b\b\b\b\b\b\b\b\b\b\b\b\b\b\b\b\b\b\b\b\b\b\b\b\b\b\b\b\b\r1\/1 [==============================] - 0s 83ms\/step - loss: 0.4543 - accuracy: 0.8407 - val_loss: 0.5947 - val_accuracy: 0.8115\n",
      "Epoch 84\/100\n",
      "\r1\/1 [==============================] - ETA: 0s - loss: 0.4532 - accuracy: 0.8481\b\b\b\b\b\b\b\b\b\b\b\b\b\b\b\b\b\b\b\b\b\b\b\b\b\b\b\b\b\b\b\b\b\b\b\b\b\b\b\b\b\b\b\b\b\b\b\b\b\b\b\b\b\b\b\b\b\b\b\b\b\b\b\b\b\b\b\b\b\b\b\b\b\b\b\b\b\b\b\b\r1\/1 [==============================] - 0s 73ms\/step - loss: 0.4532 - accuracy: 0.8481 - val_loss: 0.5927 - val_accuracy: 0.8198\n",
      "Epoch 85\/100\n",
      "\r1\/1 [==============================] - ETA: 0s - loss: 0.4435 - accuracy: 0.8522\b\b\b\b\b\b\b\b\b\b\b\b\b\b\b\b\b\b\b\b\b\b\b\b\b\b\b\b\b\b\b\b\b\b\b\b\b\b\b\b\b\b\b\b\b\b\b\b\b\b\b\b\b\b\b\b\b\b\b\b\b\b\b\b\b\b\b\b\b\b\b\b\b\b\b\b\b\b\b\b\r1\/1 [==============================] - 0s 72ms\/step - loss: 0.4435 - accuracy: 0.8522 - val_loss: 0.5903 - val_accuracy: 0.8233\n",
      "Epoch 86\/100\n",
      "\r1\/1 [==============================] - ETA: 0s - loss: 0.4427 - accuracy: 0.8510\b\b\b\b\b\b\b\b\b\b\b\b\b\b\b\b\b\b\b\b\b\b\b\b\b\b\b\b\b\b\b\b\b\b\b\b\b\b\b\b\b\b\b\b\b\b\b\b\b\b\b\b\b\b\b\b\b\b\b\b\b\b\b\b\b\b\b\b\b\b\b\b\b\b\b\b\b\b\b\b\r1\/1 [==============================] - 0s 66ms\/step - loss: 0.4427 - accuracy: 0.8510 - val_loss: 0.5884 - val_accuracy: 0.8245\n",
      "Epoch 87\/100\n",
      "\r1\/1 [==============================] - ETA: 0s - loss: 0.4503 - accuracy: 0.8478\b\b\b\b\b\b\b\b\b\b\b\b\b\b\b\b\b\b\b\b\b\b\b\b\b\b\b\b\b\b\b\b\b\b\b\b\b\b\b\b\b\b\b\b\b\b\b\b\b\b\b\b\b\b\b\b\b\b\b\b\b\b\b\b\b\b\b\b\b\b\b\b\b\b\b\b\b\b\b\b\r1\/1 [==============================] - 0s 81ms\/step - loss: 0.4503 - accuracy: 0.8478 - val_loss: 0.5860 - val_accuracy: 0.8245\n",
      "Epoch 88\/100\n",
      "\r1\/1 [==============================] - ETA: 0s - loss: 0.4475 - accuracy: 0.8472\b\b\b\b\b\b\b\b\b\b\b\b\b\b\b\b\b\b\b\b\b\b\b\b\b\b\b\b\b\b\b\b\b\b\b\b\b\b\b\b\b\b\b\b\b\b\b\b\b\b\b\b\b\b\b\b\b\b\b\b\b\b\b\b\b\b\b\b\b\b\b\b\b\b\b\b\b\b\b\b\r1\/1 [==============================] - 0s 85ms\/step - loss: 0.4475 - accuracy: 0.8472 - val_loss: 0.5840 - val_accuracy: 0.8245\n",
      "Epoch 89\/100\n",
      "\r1\/1 [==============================] - ETA: 0s - loss: 0.4475 - accuracy: 0.8522\b\b\b\b\b\b\b\b\b\b\b\b\b\b\b\b\b\b\b\b\b\b\b\b\b\b\b\b\b\b\b\b\b\b\b\b\b\b\b\b\b\b\b\b\b\b\b\b\b\b\b\b\b\b\b\b\b\b\b\b\b\b\b\b\b\b\b\b\b\b\b\b\b\b\b\b\b\b\b\b\r1\/1 [==============================] - 0s 71ms\/step - loss: 0.4475 - accuracy: 0.8522 - val_loss: 0.5816 - val_accuracy: 0.8257\n",
      "Epoch 90\/100\n",
      "\r1\/1 [==============================] - ETA: 0s - loss: 0.4441 - accuracy: 0.8504\b\b\b\b\b\b\b\b\b\b\b\b\b\b\b\b\b\b\b\b\b\b\b\b\b\b\b\b\b\b\b\b\b\b\b\b\b\b\b\b\b\b\b\b\b\b\b\b\b\b\b\b\b\b\b\b\b\b\b\b\b\b\b\b\b\b\b\b\b\b\b\b\b\b\b\b\b\b\b\b\r1\/1 [==============================] - 0s 66ms\/step - loss: 0.4441 - accuracy: 0.8504 - val_loss: 0.5790 - val_accuracy: 0.8280\n",
      "Epoch 91\/100\n",
      "\r1\/1 [==============================] - ETA: 0s - loss: 0.4417 - accuracy: 0.8534\b\b\b\b\b\b\b\b\b\b\b\b\b\b\b\b\b\b\b\b\b\b\b\b\b\b\b\b\b\b\b\b\b\b\b\b\b\b\b\b\b\b\b\b\b\b\b\b\b\b\b\b\b\b\b\b\b\b\b\b\b\b\b\b\b\b\b\b\b\b\b\b\b\b\b\b\b\b\b\b\r1\/1 [==============================] - 0s 67ms\/step - loss: 0.4417 - accuracy: 0.8534 - val_loss: 0.5783 - val_accuracy: 0.8292\n",
      "Epoch 92\/100\n",
      "\r1\/1 [==============================] - ETA: 0s - loss: 0.4334 - accuracy: 0.8619\b\b\b\b\b\b\b\b\b\b\b\b\b\b\b\b\b\b\b\b\b\b\b\b\b\b\b\b\b\b\b\b\b\b\b\b\b\b\b\b\b\b\b\b\b\b\b\b\b\b\b\b\b\b\b\b\b\b\b\b\b\b\b\b\b\b\b\b\b\b\b\b\b\b\b\b\b\b\b\b\r1\/1 [==============================] - 0s 72ms\/step - loss: 0.4334 - accuracy: 0.8619 - val_loss: 0.5742 - val_accuracy: 0.8304\n",
      "Epoch 93\/100\n",
      "\r1\/1 [==============================] - ETA: 0s - loss: 0.4381 - accuracy: 0.8575\b\b\b\b\b\b\b\b\b\b\b\b\b\b\b\b\b\b\b\b\b\b\b\b\b\b\b\b\b\b\b\b\b\b\b\b\b\b\b\b\b\b\b\b\b\b\b\b\b\b\b\b\b\b\b\b\b\b\b\b\b\b\b\b\b\b\b\b\b\b\b\b\b\b\b\b\b\b\b\b\r1\/1 [==============================] - 0s 69ms\/step - loss: 0.4381 - accuracy: 0.8575 - val_loss: 0.5737 - val_accuracy: 0.8304\n",
      "Epoch 94\/100\n",
      "\r1\/1 [==============================] - ETA: 0s - loss: 0.4436 - accuracy: 0.8513\b\b\b\b\b\b\b\b\b\b\b\b\b\b\b\b\b\b\b\b\b\b\b\b\b\b\b\b\b\b\b\b\b\b\b\b\b\b\b\b\b\b\b\b\b\b\b\b\b\b\b\b\b\b\b\b\b\b\b\b\b\b\b\b\b\b\b\b\b\b\b\b\b\b\b\b\b\b\b\b\r1\/1 [==============================] - 0s 66ms\/step - loss: 0.4436 - accuracy: 0.8513 - val_loss: 0.5727 - val_accuracy: 0.8316\n",
      "Epoch 95\/100\n",
      "\r1\/1 [==============================] - ETA: 0s - loss: 0.4398 - accuracy: 0.8566\b\b\b\b\b\b\b\b\b\b\b\b\b\b\b\b\b\b\b\b\b\b\b\b\b\b\b\b\b\b\b\b\b\b\b\b\b\b\b\b\b\b\b\b\b\b\b\b\b\b\b\b\b\b\b\b\b\b\b\b\b\b\b\b\b\b\b\b\b\b\b\b\b\b\b\b\b\b\b\b\r1\/1 [==============================] - 0s 73ms\/step - loss: 0.4398 - accuracy: 0.8566 - val_loss: 0.5697 - val_accuracy: 0.8316\n",
      "Epoch 96\/100\n",
      "\r1\/1 [==============================] - ETA: 0s - loss: 0.4400 - accuracy: 0.8534\b\b\b\b\b\b\b\b\b\b\b\b\b\b\b\b\b\b\b\b\b\b\b\b\b\b\b\b\b\b\b\b\b\b\b\b\b\b\b\b\b\b\b\b\b\b\b\b\b\b\b\b\b\b\b\b\b\b\b\b\b\b\b\b\b\b\b\b\b\b\b\b\b\b\b\b\b\b\b\b\r1\/1 [==============================] - 0s 70ms\/step - loss: 0.4400 - accuracy: 0.8534 - val_loss: 0.5688 - val_accuracy: 0.8316\n",
      "Epoch 97\/100\n",
      "\r1\/1 [==============================] - ETA: 0s - loss: 0.4268 - accuracy: 0.8590\b\b\b\b\b\b\b\b\b\b\b\b\b\b\b\b\b\b\b\b\b\b\b\b\b\b\b\b\b\b\b\b\b\b\b\b\b\b\b\b\b\b\b\b\b\b\b\b\b\b\b\b\b\b\b\b\b\b\b\b\b\b\b\b\b\b\b\b\b\b\b\b\b\b\b\b\b\b\b\b\r1\/1 [==============================] - 0s 73ms\/step - loss: 0.4268 - accuracy: 0.8590 - val_loss: 0.5666 - val_accuracy: 0.8316\n",
      "Epoch 98\/100\n",
      "\r1\/1 [==============================] - ETA: 0s - loss: 0.4340 - accuracy: 0.8598\b\b\b\b\b\b\b\b\b\b\b\b\b\b\b\b\b\b\b\b\b\b\b\b\b\b\b\b\b\b\b\b\b\b\b\b\b\b\b\b\b\b\b\b\b\b\b\b\b\b\b\b\b\b\b\b\b\b\b\b\b\b\b\b\b\b\b\b\b\b\b\b\b\b\b\b\b\b\b\b\r1\/1 [==============================] - 0s 69ms\/step - loss: 0.4340 - accuracy: 0.8598 - val_loss: 0.5644 - val_accuracy: 0.8316\n",
      "Epoch 99\/100\n",
      "\r1\/1 [==============================] - ETA: 0s - loss: 0.4255 - accuracy: 0.8554\b\b\b\b\b\b\b\b\b\b\b\b\b\b\b\b\b\b\b\b\b\b\b\b\b\b\b\b\b\b\b\b\b\b\b\b\b\b\b\b\b\b\b\b\b\b\b\b\b\b\b\b\b\b\b\b\b\b\b\b\b\b\b\b\b\b\b\b\b\b\b\b\b\b\b\b\b\b\b\b\r1\/1 [==============================] - 0s 69ms\/step - loss: 0.4255 - accuracy: 0.8554 - val_loss: 0.5622 - val_accuracy: 0.8316\n",
      "Epoch 100\/100\n",
      "\r1\/1 [==============================] - ETA: 0s - loss: 0.4240 - accuracy: 0.8648\b\b\b\b\b\b\b\b\b\b\b\b\b\b\b\b\b\b\b\b\b\b\b\b\b\b\b\b\b\b\b\b\b\b\b\b\b\b\b\b\b\b\b\b\b\b\b\b\b\b\b\b\b\b\b\b\b\b\b\b\b\b\b\b\b\b\b\b\b\b\b\b\b\b\b\b\b\b\b\b\r1\/1 [==============================] - 0s 82ms\/step - loss: 0.4240 - accuracy: 0.8648 - val_loss: 0.5600 - val_accuracy: 0.8316\n"
     ],
     "output_type":"stream"
    }
   ],
   "metadata":{
    "datalore":{
     "node_id":"67Db8f5s2ZeJYIiMNmanGA",
     "type":"CODE",
     "hide_input_from_viewers":false,
     "hide_output_from_viewers":false
    }
   }
  },
  {
   "cell_type":"code",
   "source":[
    "def plot_history(history):\n",
    "    training_loss = history.history['loss']\n",
    "    training_acc = history.history['accuracy']\n",
    "    val_loss = history.history['val_loss']\n",
    "    val_acc = history.history['val_accuracy']\n",
    "\n",
    "    plt.figure(figsize=(10, 4))\n",
    "    plt.subplot(121)\n",
    "    plt.plot(training_loss, label=\"Train loss\")\n",
    "    plt.plot(val_loss, label=\"Validation loss\")\n",
    "    plt.legend()\n",
    "    plt.subplot(122)\n",
    "    plt.plot(training_acc, label=\"Train accuracy\")\n",
    "    plt.plot(val_acc, label=\"Validation accuracy\")\n",
    "    plt.legend()\n",
    "    plt.show()"
   ],
   "execution_count":13,
   "outputs":[
    
   ],
   "metadata":{
    "datalore":{
     "node_id":"kdsvg0Gl8F9lF1tzHS06be",
     "type":"CODE",
     "hide_input_from_viewers":false,
     "hide_output_from_viewers":false
    }
   }
  },
  {
   "cell_type":"code",
   "source":[
    "plot_history(history)"
   ],
   "execution_count":45,
   "outputs":[
    {
     "data":{
      "image\/png":"[encoded data removed]"
     },
     "metadata":{
      "image\/png":{
       
      }
     },
     "output_type":"display_data"
    }
   ],
   "metadata":{
    "datalore":{
     "node_id":"aZ4lzbwYa5Q5ZlIGHZizxT",
     "type":"CODE",
     "hide_input_from_viewers":false,
     "hide_output_from_viewers":false
    }
   }
  },
  {
   "cell_type":"code",
   "source":[
    "model.evaluate(X_test_std, y_test)"
   ],
   "execution_count":46,
   "outputs":[
    {
     "name":"stdout",
     "text":[
      "\r 1\/34 [..............................] - ETA: 0s - loss: 0.5911 - accuracy: 0.8125\b\b\b\b\b\b\b\b\b\b\b\b\b\b\b\b\b\b\b\b\b\b\b\b\b\b\b\b\b\b\b\b\b\b\b\b\b\b\b\b\b\b\b\b\b\b\b\b\b\b\b\b\b\b\b\b\b\b\b\b\b\b\b\b\b\b\b\b\b\b\b\b\b\b\b\b\b\b\b\b\b\b\r34\/34 [==============================] - 0s 1ms\/step - loss: 0.5549 - accuracy: 0.8362\n"
     ],
     "output_type":"stream"
    },
    {
     "data":{
      "text\/plain":[
       "[0.5548633933067322, 0.8361582159996033]"
      ]
     },
     "metadata":{
      
     },
     "output_type":"display_data"
    }
   ],
   "metadata":{
    "datalore":{
     "node_id":"eL4fn6qdEz9zUpg5YZPM0r",
     "type":"CODE",
     "hide_input_from_viewers":false,
     "hide_output_from_viewers":false
    }
   }
  },
  {
   "cell_type":"markdown",
   "source":[
    "Les résultats semblent déjà très satisfaisants, sachant qu'aucune optimisation n'a encore été faite."
   ],
   "attachments":{
    
   },
   "metadata":{
    "datalore":{
     "node_id":"BMtWO7MsjvUiDNpldFevZA",
     "type":"MD",
     "hide_input_from_viewers":false,
     "hide_output_from_viewers":false
    }
   }
  },
  {
   "cell_type":"markdown",
   "source":[
    "## Influence du resampling\n",
    "\n",
    "Dans cette partie, nous essayons de mesurer l'impact du resampling sur les résultats de l'apprentissage. Pour ce faire nous comparerons les résultats obtenus avec les 3 méthodes de resampling présentées précédemment (downsampling, upsampling et resampling median).\n",
    "\n",
    "Remarquons qu'il est possible d'ajouter un \"ratio\" au resampling. Par exemple, au lieu de faire un downsampling de la classe majoritaire pour atteindre exactement le nombre d'instances de la classe minoritaire, on pourrait faire en sorte d'atteindre au plus 150% du nombre d'instances de la classe minoritaire. Nous ne verrons pas cette méthode ici.\n",
    "\n",
    "Pour l'évaluation de toutes les méthodes présentées dans ce notebook, j'utilise un **K-Fold** à 5 plis et l'accuracy comme mesure de performance."
   ],
   "attachments":{
    
   },
   "metadata":{
    "datalore":{
     "node_id":"97Y5YfRI4Q7fAUGpozyJbt",
     "type":"MD",
     "hide_input_from_viewers":false,
     "hide_output_from_viewers":false
    }
   }
  },
  {
   "cell_type":"code",
   "source":[
    "def evaluate(inputs, labels, resample_fn, make_model_fn, repeat=1, make_model_fn_params=None):\n",
    "    scores = []\n",
    "\n",
    "    if make_model_fn_params is None:\n",
    "        make_model_fn_params = {}\n",
    "\n",
    "    kfold = KFold(n_splits=5, shuffle=True)\n",
    "    for train, test in kfold.split(inputs, labels):\n",
    "        X_train, y_train = resample_fn(sequences[train], labels[train]) \n",
    "        X_test, y_test = resample_fn(sequences[test], labels[test]) \n",
    "        X_train_std, X_test_std = standard(X_train, X_test)\n",
    "        model = make_model_fn(X_train_std[0].shape, **make_model_fn_params)\n",
    "        model.fit(X_train_std, y_train, epochs=30, verbose=0)\n",
    "        score = model.evaluate(X_test_std, y_test, verbose=0)\n",
    "        scores.append(score[1])\n",
    "    return scores"
   ],
   "execution_count":14,
   "outputs":[
    
   ],
   "metadata":{
    "datalore":{
     "node_id":"9iBx3PKRQN05uhieTqi5km",
     "type":"CODE",
     "hide_input_from_viewers":false,
     "hide_output_from_viewers":false
    }
   }
  },
  {
   "cell_type":"code",
   "source":[
    "def evaluate_resampling(inputs, labels, resample_fn):\n",
    "    return evaluate(inputs, labels, resample_fn, make_model)"
   ],
   "execution_count":15,
   "outputs":[
    
   ],
   "metadata":{
    "datalore":{
     "node_id":"kmjmaEbOtHColu4Iy92feO",
     "type":"CODE",
     "hide_input_from_viewers":false,
     "hide_output_from_viewers":false
    }
   }
  },
  {
   "cell_type":"code",
   "source":[
    "# downsampling\n",
    "scores_downsampling = evaluate_resampling(sequences, labels, downsample)\n",
    "print('# Downsampling')\n",
    "print(f'Scores : {scores_downsampling}')\n",
    "print(f'Mean score : {np.mean(scores_downsampling)}')"
   ],
   "execution_count":47,
   "outputs":[
    {
     "name":"stdout",
     "text":[
      "# Downsampling\n",
      "Scores : [0.9472693204879761, 0.9538606405258179, 0.9472196102142334, 0.9453346133232117, 0.8765316009521484]\n",
      "Mean score : 0.9340431571006775\n"
     ],
     "output_type":"stream"
    }
   ],
   "metadata":{
    "datalore":{
     "node_id":"JGlENxshoIFcTf910sRB1W",
     "type":"CODE",
     "hide_input_from_viewers":false,
     "hide_output_from_viewers":false
    }
   }
  },
  {
   "cell_type":"code",
   "source":[
    "# oversampling\n",
    "scores_oversampling = evaluate_resampling(sequences, labels, oversample)\n",
    "print('# Oversampling')\n",
    "print(f'Scores : {scores_oversampling}')\n",
    "print(f'Mean score : {np.mean(scores_oversampling)}')"
   ],
   "execution_count":48,
   "outputs":[
    {
     "name":"stdout",
     "text":[
      "# Oversampling\n",
      "Scores : [0.9392322897911072, 0.9933983087539673, 0.9799010753631592, 0.6559571623802185, 0.945991575717926]\n",
      "Mean score : 0.9028960824012756\n"
     ],
     "output_type":"stream"
    }
   ],
   "metadata":{
    "datalore":{
     "node_id":"xKL6MKBznmV0aqXdhz2aID",
     "type":"CODE",
     "hide_input_from_viewers":false,
     "hide_output_from_viewers":false
    }
   }
  },
  {
   "cell_type":"code",
   "source":[
    "# medsampling\n",
    "scores_medsampling = evaluate_resampling(sequences, labels, medsample)\n",
    "print('# Medsampling')\n",
    "print(f'Scores : {scores_medsampling}')\n",
    "print(f'Mean score : {np.mean(scores_medsampling)}')"
   ],
   "execution_count":64,
   "outputs":[
    {
     "name":"stdout",
     "text":[
      "# Medsampling\n",
      "Scores : [0.9443544149398804, 0.943983793258667, 0.9612274765968323, 0.9294598698616028, 0.9473873972892761]\n",
      "Mean score : 0.9452825903892517\n"
     ],
     "output_type":"stream"
    }
   ],
   "metadata":{
    "datalore":{
     "node_id":"VlovjpPfS3Zzj4x5TY2Nus",
     "type":"CODE",
     "hide_input_from_viewers":false,
     "hide_output_from_viewers":false
    }
   }
  },
  {
   "cell_type":"markdown",
   "source":[
    "Le resampling median semble donner les meilleurs résultats, c'est la méthode qu'on utilisera pour la suite. En utilisant cette méthode, on réussit à rassembler près de 30000 instances. C'est pourquoi il peut être intéressant d'utiliser les optimisations Adam ou RMSProp plutôt que SGD.\n",
    "\n",
    "Voyons les résultats que l'on obtient avec l'une et l'autre optimisation."
   ],
   "attachments":{
    
   },
   "metadata":{
    "datalore":{
     "node_id":"fbV9mQXpSYqCxoC6TWHVXj",
     "type":"MD",
     "hide_input_from_viewers":false,
     "hide_output_from_viewers":false
    }
   }
  },
  {
   "cell_type":"markdown",
   "source":[
    "## RMSprop vs Adam\n",
    "\n",
    "Dans cette partie, on compare les résultats obtenus avec les optimisations RMSprop et Adam."
   ],
   "attachments":{
    
   },
   "metadata":{
    "datalore":{
     "node_id":"wZf1lQ201K833FNYWgNuVx",
     "type":"MD",
     "hide_input_from_viewers":false,
     "hide_output_from_viewers":false
    }
   }
  },
  {
   "cell_type":"code",
   "source":[
    "def evaluate_optimizer(inputs, labels, optimizer):\n",
    "    return evaluate(inputs, labels, medsample, make_model, 1, {'optimizer':optimizer})"
   ],
   "execution_count":16,
   "outputs":[
    
   ],
   "metadata":{
    "datalore":{
     "node_id":"2eI7UUYvZBD1qVsLJoaZvu",
     "type":"CODE",
     "hide_input_from_viewers":false,
     "hide_output_from_viewers":false
    }
   }
  },
  {
   "cell_type":"code",
   "source":[
    "rms_prop_scores = evaluate_optimizer(sequences, labels, RMSprop(momentum=.9))\n",
    "print(\"# RMSprop\")\n",
    "print(f\"Scores : {rms_prop_scores}\")\n",
    "print(f\"Mean score : {np.mean(rms_prop_scores)}\")\n",
    "\n",
    "adam_scores = evaluate_optimizer(sequences, labels, Adam())\n",
    "print(\"Adam score\")\n",
    "print(f\"Scores : {adam_scores}\")\n",
    "print(f\"Mean score : {np.mean(adam_scores)}\")"
   ],
   "execution_count":67,
   "outputs":[
    {
     "name":"stdout",
     "text":[
      "# RMSprop\n",
      "Scores : [0.931009829044342, 0.9360413551330566, 0.9514001607894897, 0.9373838901519775, 0.9753424525260925]\n",
      "Mean score : 0.9462355375289917\n",
      "Adam score\n",
      "Scores : [0.9780982732772827, 0.6518831253051758, 0.9627180695533752, 0.656620979309082, 0.9698996543884277]\n",
      "Mean score : 0.8438440203666687\n"
     ],
     "output_type":"stream"
    }
   ],
   "metadata":{
    "datalore":{
     "node_id":"uV6UcpOzsG9Y4Sz5WtwaeQ",
     "type":"CODE",
     "hide_input_from_viewers":false,
     "hide_output_from_viewers":false
    }
   }
  },
  {
   "cell_type":"markdown",
   "source":[
    "L'optimisation RMSprop semble donner les meilleurs résultats ici. Nous utiliserons donc cette optimisation par la suite."
   ],
   "attachments":{
    
   },
   "metadata":{
    "datalore":{
     "node_id":"7PDPYjtoDqLuPrvV0Jksy5",
     "type":"MD",
     "hide_input_from_viewers":false,
     "hide_output_from_viewers":false
    }
   }
  },
  {
   "cell_type":"markdown",
   "source":[
    "## Influence de la taille de la fenêtre\n",
    "\n",
    "Dans cette partie, nous essayons de mesurer l'influence de la taille de la fenêtre sur les résultats de l'apprentissage. Pour ce faire, nous comparons les résultats obtenus avec différentes tailles de fenêtres.\n",
    "\n",
    "Par soucis de manque de puissance de calcul, je teste des tailles de fenêtre comprises entre 16 et 256."
   ],
   "attachments":{
    
   },
   "metadata":{
    "datalore":{
     "node_id":"h1YqEaouV0d1pNeWJcCP6T",
     "type":"MD",
     "hide_input_from_viewers":false,
     "hide_output_from_viewers":false
    }
   }
  },
  {
   "cell_type":"code",
   "source":[
    "def evaluate_window(inputs, labels):\n",
    "    return evaluate(inputs, labels, medsample, make_model, 1, {'optimizer':RMSprop(momentum=.9)})"
   ],
   "execution_count":17,
   "outputs":[
    
   ],
   "metadata":{
    "datalore":{
     "node_id":"rVkgnuv78vPzd7qchUQJB6",
     "type":"CODE",
     "hide_input_from_viewers":false,
     "hide_output_from_viewers":false
    }
   }
  },
  {
   "cell_type":"code",
   "source":[
    "window_size_list = [16, 32, 64, 128, 256]\n",
    "scores = []\n",
    "\n",
    "for window_size in window_size_list:\n",
    "    print(window_size)\n",
    "    sequences, labels = sliding_window(df, window_size)\n",
    "    scores_tmp = evaluate_window(sequences, labels)\n",
    "    scores.append(np.mean(scores_tmp))\n",
    "    print(scores[-1])\n",
    "\n",
    "print(f\"Scores : {scores}\")"
   ],
   "execution_count":6,
   "outputs":[
    {
     "name":"stdout",
     "text":[
      "Scores : [0.9495804071426391, 0.9475802421569824, 0.8984230995178223, 0.9486016392707824, 0.8930267930030823]\n"
     ],
     "output_type":"stream"
    }
   ],
   "metadata":{
    "datalore":{
     "node_id":"IILtdBqGMp15RwDoF1bHLE",
     "type":"CODE",
     "hide_input_from_viewers":false,
     "hide_output_from_viewers":false
    }
   }
  },
  {
   "cell_type":"code",
   "source":[
    "plt.plot(window_size_list, scores, label='Accuracy')\n",
    "plt.xlabel('Window size')\n",
    "plt.legend()\n",
    "plt.show()"
   ],
   "execution_count":7,
   "outputs":[
    {
     "data":{
      "image\/png":"[encoded data removed]"
     },
     "metadata":{
      "image\/png":{
       
      }
     },
     "output_type":"display_data"
    }
   ],
   "metadata":{
    "datalore":{
     "node_id":"ibNNWJz0paOl0CC7nydf6l",
     "type":"CODE",
     "hide_input_from_viewers":false,
     "hide_output_from_viewers":false
    }
   }
  },
  {
   "cell_type":"markdown",
   "source":[
    "La taille de fenêtre glissante qui semble donner les meilleurs résultats est 16. Le temps de calcul se voit en plus réduit avec une petite taille de fenêtre comme celle-ci. Nous garderons donc cette valeur pour la suite."
   ],
   "attachments":{
    
   },
   "metadata":{
    "datalore":{
     "node_id":"Tf443KZMi5TzKQhfqXexF3",
     "type":"MD",
     "hide_input_from_viewers":false,
     "hide_output_from_viewers":false
    }
   }
  },
  {
   "cell_type":"code",
   "source":[
    "window_size = 16\n",
    "sequences, labels = sliding_window(df, window_size)"
   ],
   "execution_count":18,
   "outputs":[
    
   ],
   "metadata":{
    "datalore":{
     "node_id":"pMijlU4bTi1veoDCoarCQ3",
     "type":"CODE",
     "hide_input_from_viewers":false,
     "hide_output_from_viewers":false
    }
   }
  },
  {
   "cell_type":"markdown",
   "source":[
    "## Quelques architectures plus complexes"
   ],
   "attachments":{
    
   },
   "metadata":{
    "datalore":{
     "node_id":"bJ2uERCGOR8KlSiZeYJBXN",
     "type":"MD",
     "hide_input_from_viewers":false,
     "hide_output_from_viewers":false
    }
   }
  },
  {
   "cell_type":"markdown",
   "source":[
    "Essayons à présent des architectures plus complexes. Les hyperparamètres de ces modèles sont à nouveau fixés arbitrairement. Nous essayons de voir l'impact que peut avoir la \"forme\" et la complexité du modèle. Toutefois puisque le modèle utilisé initialement est très simple et donne déjà de bons résultats, je ne m'aventure pas vers des modèles trop complexes. "
   ],
   "attachments":{
    
   },
   "metadata":{
    "datalore":{
     "node_id":"lULpH53XT4hBGw7P7mgVtB",
     "type":"MD",
     "hide_input_from_viewers":false,
     "hide_output_from_viewers":false
    }
   }
  },
  {
   "cell_type":"code",
   "source":[
    "# Model 1 (default model) : 1 conv + pooling block\n",
    "def make_model_1(input_shape):\n",
    "    model = Sequential([\n",
    "        Input(shape=input_shape),\n",
    "        Conv1D(filters=12, kernel_size=4, strides=1,\n",
    "            padding='same', activation='relu'),\n",
    "        BatchNormalization(),\n",
    "        MaxPooling1D(2),\n",
    "        Flatten(),\n",
    "        Dense(16, activation='relu',\n",
    "            kernel_regularizer=l2(0.001)),\n",
    "        Dropout(rate=0.2),\n",
    "        Dense(3, activation='softmax'),\n",
    "    ])\n",
    "\n",
    "    model.compile(\n",
    "        optimizer=RMSprop(momentum=.9),\n",
    "        loss=SparseCategoricalCrossentropy(),\n",
    "        metrics=['accuracy']\n",
    "    )\n",
    "\n",
    "    return model"
   ],
   "execution_count":182,
   "outputs":[
    
   ],
   "metadata":{
    "datalore":{
     "node_id":"92CTbMoQiSaCZ5y7ZM6SbE",
     "type":"CODE",
     "hide_input_from_viewers":false,
     "hide_output_from_viewers":false
    }
   }
  },
  {
   "cell_type":"code",
   "source":[
    "# Model 2 : 2 conv + pooling blocks\n",
    "def make_model_2(input_shape):\n",
    "    model = Sequential([\n",
    "        Input(shape=input_shape),\n",
    "        Conv1D(filters=12, kernel_size=4, strides=1,\n",
    "               padding='same', activation='relu'),\n",
    "        BatchNormalization(),\n",
    "        MaxPooling1D(2),\n",
    "        Conv1D(filters=12, kernel_size=4, strides=1,\n",
    "               padding='same', activation='relu'),\n",
    "        BatchNormalization(),\n",
    "        MaxPooling1D(2),\n",
    "        Flatten(),\n",
    "        Dense(16, activation='relu',\n",
    "              kernel_regularizer=l2(0.001)),\n",
    "        Dropout(rate=0.2),\n",
    "        Dense(3, activation='softmax'),\n",
    "    ])\n",
    "    model.compile(\n",
    "        optimizer=RMSprop(momentum=.9),\n",
    "        loss=SparseCategoricalCrossentropy(),\n",
    "        metrics=['accuracy']\n",
    "    )\n",
    "    return model"
   ],
   "execution_count":404,
   "outputs":[
    
   ],
   "metadata":{
    "datalore":{
     "node_id":"VnqK94cztCk1FxW3rz1YID",
     "type":"CODE",
     "hide_input_from_viewers":false,
     "hide_output_from_viewers":false
    }
   }
  },
  {
   "cell_type":"code",
   "source":[
    "# Model 3 : 2 conv blocks, no pooling\n",
    "def make_model_3(input_shape):\n",
    "    model = Sequential([\n",
    "        Input(shape=input_shape),\n",
    "        Conv1D(filters=12, kernel_size=4, strides=1,\n",
    "            padding='same', activation='relu'),\n",
    "        BatchNormalization(),\n",
    "        Conv1D(filters=12, kernel_size=4, strides=1,\n",
    "        padding='same', activation='relu'),\n",
    "        BatchNormalization(),\n",
    "        Flatten(),\n",
    "        Dense(16, activation='relu',\n",
    "            kernel_regularizer=l2(0.001)),\n",
    "        Dropout(rate=0.2),\n",
    "        Dense(3, activation='softmax'),\n",
    "    ])\n",
    "    model.compile(\n",
    "        optimizer=RMSprop(momentum=.9),\n",
    "        loss=SparseCategoricalCrossentropy(),\n",
    "        metrics=['accuracy']\n",
    "    )\n",
    "    return model"
   ],
   "execution_count":258,
   "outputs":[
    
   ],
   "metadata":{
    "datalore":{
     "node_id":"bxj8WbO6GEQ0d58vzBMfrR",
     "type":"CODE",
     "hide_input_from_viewers":false,
     "hide_output_from_viewers":false
    }
   }
  },
  {
   "cell_type":"code",
   "source":[
    "# Model 4 : 2 conv blocks + 1 pooling\n",
    "def make_model_4(input_shape):\n",
    "    model = Sequential([\n",
    "        Input(shape=input_shape),\n",
    "        Conv1D(filters=12, kernel_size=4, strides=1,\n",
    "            padding='same', activation='relu'),\n",
    "        BatchNormalization(),\n",
    "        Conv1D(filters=12, kernel_size=4, strides=1,\n",
    "        padding='same', activation='relu'),\n",
    "        BatchNormalization(),\n",
    "        MaxPooling1D(2),\n",
    "        Flatten(),\n",
    "        Dense(16, activation='relu',\n",
    "            kernel_regularizer=l2(0.001)),\n",
    "        Dropout(rate=0.2),\n",
    "        Dense(3, activation='softmax'),\n",
    "    ])\n",
    "    model.compile(\n",
    "        optimizer=RMSprop(momentum=.9),\n",
    "        loss=SparseCategoricalCrossentropy(),\n",
    "        metrics=['accuracy']\n",
    "    )\n",
    "    return model"
   ],
   "execution_count":22,
   "outputs":[
    
   ],
   "metadata":{
    "datalore":{
     "node_id":"iTadNPcodNiyTM8fzxUu2e",
     "type":"CODE",
     "hide_input_from_viewers":false,
     "hide_output_from_viewers":false
    }
   }
  },
  {
   "cell_type":"code",
   "source":[
    "def evaluate_model(inputs, labels, make_model_fn):\n",
    "    return evaluate(inputs, labels, medsample, make_model_fn)"
   ],
   "execution_count":23,
   "outputs":[
    
   ],
   "metadata":{
    "datalore":{
     "node_id":"GHUEoGJqChtE0u7RLhAIrN",
     "type":"CODE",
     "hide_input_from_viewers":false,
     "hide_output_from_viewers":false
    }
   }
  },
  {
   "cell_type":"code",
   "source":[
    "make_model_fn_list = [make_model_1, make_model_2, make_model_3, make_model_4]\n",
    "scores = []\n",
    "\n",
    "for make_model_fn in make_model_fn_list:\n",
    "    scores_tmp = evaluate_model(sequences, labels, make_model_fn)\n",
    "    scores.append(np.mean(scores_tmp))\n",
    "\n",
    "print(f\"Scores : {scores}\")"
   ],
   "execution_count":24,
   "outputs":[
    {
     "name":"stdout",
     "text":[
      "Scores : [0.9399391651153565, 0.9359598994255066, 0.7658207535743713, 0.9306130290031434]\n"
     ],
     "output_type":"stream"
    }
   ],
   "metadata":{
    "datalore":{
     "node_id":"sZ8ZNkTtpFcPSXNJcQKbff",
     "type":"CODE",
     "hide_input_from_viewers":false,
     "hide_output_from_viewers":false
    }
   }
  },
  {
   "cell_type":"markdown",
   "source":[
    "Les deux modèles qui semblent donner les meilleurs résultats sont les modèles 1 et 2. Augmenter la complexité du modèle ne semble pas être d'une grande utilisé car le modèle initial (avec un unique bloc conv+pooling) semble donner des résultats similaires à ceux du deuxième modèle plus complexe. On remarque aussi qu'intégrer une couche de pooling après chaque couche de convolution semble fournir de meilleurs résultats."
   ],
   "attachments":{
    
   },
   "metadata":{
    "datalore":{
     "node_id":"Pasetjafty570stDes2HOG",
     "type":"MD",
     "hide_input_from_viewers":false,
     "hide_output_from_viewers":false
    }
   }
  },
  {
   "cell_type":"markdown",
   "source":[
    "## Optimisation bayésienne des paramètres\n",
    "\n",
    "Voici des hyperparamètres du modèle sur lesquels on peut influer :\n",
    "\n",
    "* Nombre de filtres\n",
    "* Taille des filtres\n",
    "* Stride\n",
    "* Max pooling\n",
    "* Nombre de neurones du classifieur\n",
    "* Type de regularizer\n",
    "* Weight decay\n",
    "* Dropout rate\n",
    "* Learning rate\n",
    "\n",
    "L'idéal aurait été de les optimiser, avec une optimisation bayésienne par exemple. La librairie `scikit-optimize` est très bien pour mener à bien cette tâche.\n",
    "\n",
    "Par soucis de temps, je ne fais pas cette optimisation et utilise les paramètres arbitraires choisis initialement qui donnent de bons résultats."
   ],
   "attachments":{
    
   },
   "metadata":{
    "datalore":{
     "node_id":"hovcniemJ03bOY6XdtGtfY",
     "type":"MD",
     "hide_input_from_viewers":false,
     "hide_output_from_viewers":false
    }
   }
  },
  {
   "cell_type":"markdown",
   "source":[
    "## Évaluation des deux meilleurs modèles"
   ],
   "attachments":{
    
   },
   "metadata":{
    "datalore":{
     "node_id":"8UgkSTcJqbU7uw1R7cFNaN",
     "type":"MD",
     "hide_input_from_viewers":false,
     "hide_output_from_viewers":false
    }
   }
  },
  {
   "cell_type":"code",
   "source":[
    "def test_model(inputs, labels, make_model_fn):\n",
    "    X_train, X_test, y_train, y_test = train_test_split(inputs, labels, test_size=0.2)\n",
    "\n",
    "    X_train, y_train = medsample(X_train, y_train)\n",
    "    X_test, y_test = medsample(X_test, y_test)\n",
    "\n",
    "    X_train_std, X_test_std = standard(X_train, X_test)\n",
    "\n",
    "    model = make_model_fn(X_train_std[0].shape)\n",
    "\n",
    "    early_stopping_cb = EarlyStopping(patience=5, restore_best_weights=True)\n",
    "    history = model.fit(X_train_std, y_train, epochs=1000, validation_split=0.2, callbacks=[early_stopping_cb])\n",
    "\n",
    "    y_pred = model.predict(X_test_std).argmax(axis=-1)\n",
    "\n",
    "    class_report = classification_report(y_test, y_pred)\n",
    "    cf_matrix = confusion_matrix(y_test, y_pred)\n",
    "\n",
    "    return history, class_report, cf_matrix"
   ],
   "execution_count":391,
   "outputs":[
    
   ],
   "metadata":{
    "datalore":{
     "node_id":"PVkLL2JyQ6GNaTtFLvALa8",
     "type":"CODE",
     "hide_input_from_viewers":false,
     "hide_output_from_viewers":false
    }
   }
  },
  {
   "cell_type":"markdown",
   "source":[
    "### Modèle 1"
   ],
   "attachments":{
    
   },
   "metadata":{
    "datalore":{
     "node_id":"GXL0l3qcTxgX57j8F45hMB",
     "type":"MD",
     "hide_input_from_viewers":false,
     "hide_output_from_viewers":false
    }
   }
  },
  {
   "cell_type":"code",
   "source":[
    "# Test of model 1\n",
    "history_1, class_report_1, cf_matrix_1 = test_model(sequences, labels, make_model_1)"
   ],
   "execution_count":409,
   "outputs":[
    {
     "name":"stdout",
     "text":[
      "Epoch 1\/1000\n",
      "\r  1\/551 [..............................] - ETA: 6:06 - loss: 1.6045 - accuracy: 0.0312\b\b\b\b\b\b\b\b\b\b\b\b\b\b\b\b\b\b\b\b\b\b\b\b\b\b\b\b\b\b\b\b\b\b\b\b\b\b\b\b\b\b\b\b\b\b\b\b\b\b\b\b\b\b\b\b\b\b\b\b\b\b\b\b\b\b\b\b\b\b\b\b\b\b\b\b\b\b\b\b\b\b\b\b\b\b\r 29\/551 [>.............................] - ETA: 0s - loss: 0.5531 - accuracy: 0.7759  \b\b\b\b\b\b\b\b\b\b\b\b\b\b\b\b\b\b\b\b\b\b\b\b\b\b\b\b\b\b\b\b\b\b\b\b\b\b\b\b\b\b\b\b\b\b\b\b\b\b\b\b\b\b\b\b\b\b\b\b\b\b\b\b\b\b\b\b\b\b\b\b\b\b\b\b\b\b\b\b\b\b\b\b\r 56\/551 [==>...........................] - ETA: 0s - loss: 0.4630 - accuracy: 0.8225\b\b\b\b\b\b\b\b\b\b\b\b\b\b\b\b\b\b\b\b\b\b\b\b\b\b\b\b\b\b\b\b\b\b\b\b\b\b\b\b\b\b\b\b\b\b\b\b\b\b\b\b\b\b\b\b\b\b\b\b\b\b\b\b\b\b\b\b\b\b\b\b\b\b\b\b\b\b\b\b\b\b\b\b\r 82\/551 [===>..........................] - ETA: 0s - loss: 0.4136 - accuracy: 0.8457\b\b\b\b\b\b\b\b\b\b\b\b\b\b\b\b\b\b\b\b\b\b\b\b\b\b\b\b\b\b\b\b\b\b\b\b\b\b\b\b\b\b\b\b\b\b\b\b\b\b\b\b\b\b\b\b\b\b\b\b\b\b\b\b\b\b\b\b\b\b\b\b\b\b\b\b\b\b\b\b\b\b\b\b\r109\/551 [====>.........................] - ETA: 0s - loss: 0.3941 - accuracy: 0.8549\b\b\b\b\b\b\b\b\b\b\b\b\b\b\b\b\b\b\b\b\b\b\b\b\b\b\b\b\b\b\b\b\b\b\b\b\b\b\b\b\b\b\b\b\b\b\b\b\b\b\b\b\b\b\b\b\b\b\b\b\b\b\b\b\b\b\b\b\b\b\b\b\b\b\b\b\b\b\b\b\b\b\b\b\r137\/551 [======>.......................] - ETA: 0s - loss: 0.3606 - accuracy: 0.8729\b\b\b\b\b\b\b\b\b\b\b\b\b\b\b\b\b\b\b\b\b\b\b\b\b\b\b\b\b\b\b\b\b\b\b\b\b\b\b\b\b\b\b\b\b\b\b\b\b\b\b\b\b\b\b\b\b\b\b\b\b\b\b\b\b\b\b\b\b\b\b\b\b\b\b\b\b\b\b\b\b\b\b\b\r167\/551 [========>.....................] - ETA: 0s - loss: 0.3424 - accuracy: 0.8819\b\b\b\b\b\b\b\b\b\b\b\b\b\b\b\b\b\b\b\b\b\b\b\b\b\b\b\b\b\b\b\b\b\b\b\b\b\b\b\b\b\b\b\b\b\b\b\b\b\b\b\b\b\b\b\b\b\b\b\b\b\b\b\b\b\b\b\b\b\b\b\b\b\b\b\b\b\b\b\b\b\b\b\b\r197\/551 [=========>....................] - ETA: 0s - loss: 0.3242 - accuracy: 0.8898\b\b\b\b\b\b\b\b\b\b\b\b\b\b\b\b\b\b\b\b\b\b\b\b\b\b\b\b\b\b\b\b\b\b\b\b\b\b\b\b\b\b\b\b\b\b\b\b\b\b\b\b\b\b\b\b\b\b\b\b\b\b\b\b\b\b\b\b\b\b\b\b\b\b\b\b\b\b\b\b\b\b\b\b\r227\/551 [===========>..................] - ETA: 0s - loss: 0.3204 - accuracy: 0.8910\b\b\b\b\b\b\b\b\b\b\b\b\b\b\b\b\b\b\b\b\b\b\b\b\b\b\b\b\b\b\b\b\b\b\b\b\b\b\b\b\b\b\b\b\b\b\b\b\b\b\b\b\b\b\b\b\b\b\b\b\b\b\b\b\b\b\b\b\b\b\b\b\b\b\b\b\b\b\b\b\b\b\b\b\r254\/551 [============>.................] - ETA: 0s - loss: 0.3175 - accuracy: 0.8930\b\b\b\b\b\b\b\b\b\b\b\b\b\b\b\b\b\b\b\b\b\b\b\b\b\b\b\b\b\b\b\b\b\b\b\b\b\b\b\b\b\b\b\b\b\b\b\b\b\b\b\b\b\b\b\b\b\b\b\b\b\b\b\b\b\b\b\b\b\b\b\b\b\b\b\b\b\b\b\b\b\b\b\b\r284\/551 [==============>...............] - ETA: 0s - loss: 0.3102 - accuracy: 0.8969\b\b\b\b\b\b\b\b\b\b\b\b\b\b\b\b\b\b\b\b\b\b\b\b\b\b\b\b\b\b\b\b\b\b\b\b\b\b\b\b\b\b\b\b\b\b\b\b\b\b\b\b\b\b\b\b\b\b\b\b\b\b\b\b\b\b\b\b\b\b\b\b\b\b\b\b\b\b\b\b\b\b\b\b\r312\/551 [===============>..............] - ETA: 0s - loss: 0.3062 - accuracy: 0.8986\b\b\b\b\b\b\b\b\b\b\b\b\b\b\b\b\b\b\b\b\b\b\b\b\b\b\b\b\b\b\b\b\b\b\b\b\b\b\b\b\b\b\b\b\b\b\b\b\b\b\b\b\b\b\b\b\b\b\b\b\b\b\b\b\b\b\b\b\b\b\b\b\b\b\b\b\b\b\b\b\b\b\b\b\r341\/551 [=================>............] - ETA: 0s - loss: 0.3056 - accuracy: 0.8989\b\b\b\b\b\b\b\b\b\b\b\b\b\b\b\b\b\b\b\b\b\b\b\b\b\b\b\b\b\b\b\b\b\b\b\b\b\b\b\b\b\b\b\b\b\b\b\b\b\b\b\b\b\b\b\b\b\b\b\b\b\b\b\b\b\b\b\b\b\b\b\b\b\b\b\b\b\b\b\b\b\b\b\b\r369\/551 [===================>..........] - ETA: 0s - loss: 0.3064 - accuracy: 0.8980\b\b\b\b\b\b\b\b\b\b\b\b\b\b\b\b\b\b\b\b\b\b\b\b\b\b\b\b\b\b\b\b\b\b\b\b\b\b\b\b\b\b\b\b\b\b\b\b\b\b\b\b\b\b\b\b\b\b\b\b\b\b\b\b\b\b\b\b\b\b\b\b\b\b\b\b\b\b\b\b\b\b\b\b\r398\/551 [====================>.........] - ETA: 0s - loss: 0.3037 - accuracy: 0.8987\b\b\b\b\b\b\b\b\b\b\b\b\b\b\b\b\b\b\b\b\b\b\b\b\b\b\b\b\b\b\b\b\b\b\b\b\b\b\b\b\b\b\b\b\b\b\b\b\b\b\b\b\b\b\b\b\b\b\b\b\b\b\b\b\b\b\b\b\b\b\b\b\b\b\b\b\b\b\b\b\b\b\b\b\r427\/551 [======================>.......] - ETA: 0s - loss: 0.3014 - accuracy: 0.8993\b\b\b\b\b\b\b\b\b\b\b\b\b\b\b\b\b\b\b\b\b\b\b\b\b\b\b\b\b\b\b\b\b\b\b\b\b\b\b\b\b\b\b\b\b\b\b\b\b\b\b\b\b\b\b\b\b\b\b\b\b\b\b\b\b\b\b\b\b\b\b\b\b\b\b\b\b\b\b\b\b\b\b\b\r457\/551 [=======================>......] - ETA: 0s - loss: 0.3017 - accuracy: 0.8991\b\b\b\b\b\b\b\b\b\b\b\b\b\b\b\b\b\b\b\b\b\b\b\b\b\b\b\b\b\b\b\b\b\b\b\b\b\b\b\b\b\b\b\b\b\b\b\b\b\b\b\b\b\b\b\b\b\b\b\b\b\b\b\b\b\b\b\b\b\b\b\b\b\b\b\b\b\b\b\b\b\b\b\b\r485\/551 [=========================>....] - ETA: 0s - loss: 0.2994 - accuracy: 0.8994\b\b\b\b\b\b\b\b\b\b\b\b\b\b\b\b\b\b\b\b\b\b\b\b\b\b\b\b\b\b\b\b\b\b\b\b\b\b\b\b\b\b\b\b\b\b\b\b\b\b\b\b\b\b\b\b\b\b\b\b\b\b\b\b\b\b\b\b\b\b\b\b\b\b\b\b\b\b\b\b\b\b\b\b\r514\/551 [==========================>...] - ETA: 0s - loss: 0.2981 - accuracy: 0.8993\b\b\b\b\b\b\b\b\b\b\b\b\b\b\b\b\b\b\b\b\b\b\b\b\b\b\b\b\b\b\b\b\b\b\b\b\b\b\b\b\b\b\b\b\b\b\b\b\b\b\b\b\b\b\b\b\b\b\b\b\b\b\b\b\b\b\b\b\b\b\b\b\b\b\b\b\b\b\b\b\b\b\b\b\r541\/551 [============================>.] - ETA: 0s - loss: 0.2983 - accuracy: 0.8986\b\b\b\b\b\b\b\b\b\b\b\b\b\b\b\b\b\b\b\b\b\b\b\b\b\b\b\b\b\b\b\b\b\b\b\b\b\b\b\b\b\b\b\b\b\b\b\b\b\b\b\b\b\b\b\b\b\b\b\b\b\b\b\b\b\b\b\b\b\b\b\b\b\b\b\b\b\b\b\b\b\b\b\b\r551\/551 [==============================] - 2s 3ms\/step - loss: 0.2991 - accuracy: 0.8980 - val_loss: 1.1567 - val_accuracy: 0.5521\n",
      "Epoch 2\/1000\n",
      "\r  1\/551 [..............................] - ETA: 1s - loss: 0.2945 - accuracy: 0.8750\b\b\b\b\b\b\b\b\b\b\b\b\b\b\b\b\b\b\b\b\b\b\b\b\b\b\b\b\b\b\b\b\b\b\b\b\b\b\b\b\b\b\b\b\b\b\b\b\b\b\b\b\b\b\b\b\b\b\b\b\b\b\b\b\b\b\b\b\b\b\b\b\b\b\b\b\b\b\b\b\b\b\b\b\r 30\/551 [>.............................] - ETA: 0s - loss: 0.2665 - accuracy: 0.9177\b\b\b\b\b\b\b\b\b\b\b\b\b\b\b\b\b\b\b\b\b\b\b\b\b\b\b\b\b\b\b\b\b\b\b\b\b\b\b\b\b\b\b\b\b\b\b\b\b\b\b\b\b\b\b\b\b\b\b\b\b\b\b\b\b\b\b\b\b\b\b\b\b\b\b\b\b\b\b\b\b\b\b\b\r 59\/551 [==>...........................] - ETA: 0s - loss: 0.2588 - accuracy: 0.9137\b\b\b\b\b\b\b\b\b\b\b\b\b\b\b\b\b\b\b\b\b\b\b\b\b\b\b\b\b\b\b\b\b\b\b\b\b\b\b\b\b\b\b\b\b\b\b\b\b\b\b\b\b\b\b\b\b\b\b\b\b\b\b\b\b\b\b\b\b\b\b\b\b\b\b\b\b\b\b\b\b\b\b\b\r 87\/551 [===>..........................] - ETA: 0s - loss: 0.2469 - accuracy: 0.9199\b\b\b\b\b\b\b\b\b\b\b\b\b\b\b\b\b\b\b\b\b\b\b\b\b\b\b\b\b\b\b\b\b\b\b\b\b\b\b\b\b\b\b\b\b\b\b\b\b\b\b\b\b\b\b\b\b\b\b\b\b\b\b\b\b\b\b\b\b\b\b\b\b\b\b\b\b\b\b\b\b\b\b\b\r113\/551 [=====>........................] - ETA: 0s - loss: 0.2450 - accuracy: 0.9190\b\b\b\b\b\b\b\b\b\b\b\b\b\b\b\b\b\b\b\b\b\b\b\b\b\b\b\b\b\b\b\b\b\b\b\b\b\b\b\b\b\b\b\b\b\b\b\b\b\b\b\b\b\b\b\b\b\b\b\b\b\b\b\b\b\b\b\b\b\b\b\b\b\b\b\b\b\b\b\b\b\b\b\b\r143\/551 [======>.......................] - ETA: 0s - loss: 0.2440 - accuracy: 0.9185\b\b\b\b\b\b\b\b\b\b\b\b\b\b\b\b\b\b\b\b\b\b\b\b\b\b\b\b\b\b\b\b\b\b\b\b\b\b\b\b\b\b\b\b\b\b\b\b\b\b\b\b\b\b\b\b\b\b\b\b\b\b\b\b\b\b\b\b\b\b\b\b\b\b\b\b\b\b\b\b\b\b\b\b\r172\/551 [========>.....................] - ETA: 0s - loss: 0.2489 - accuracy: 0.9172\b\b\b\b\b\b\b\b\b\b\b\b\b\b\b\b\b\b\b\b\b\b\b\b\b\b\b\b\b\b\b\b\b\b\b\b\b\b\b\b\b\b\b\b\b\b\b\b\b\b\b\b\b\b\b\b\b\b\b\b\b\b\b\b\b\b\b\b\b\b\b\b\b\b\b\b\b\b\b\b\b\b\b\b\r201\/551 [=========>....................] - ETA: 0s - loss: 0.2467 - accuracy: 0.9174\b\b\b\b\b\b\b\b\b\b\b\b\b\b\b\b\b\b\b\b\b\b\b\b\b\b\b\b\b\b\b\b\b\b\b\b\b\b\b\b\b\b\b\b\b\b\b\b\b\b\b\b\b\b\b\b\b\b\b\b\b\b\b\b\b\b\b\b\b\b\b\b\b\b\b\b\b\b\b\b\b\b\b\b\r231\/551 [===========>..................] - ETA: 0s - loss: 0.2531 - accuracy: 0.9156\b\b\b\b\b\b\b\b\b\b\b\b\b\b\b\b\b\b\b\b\b\b\b\b\b\b\b\b\b\b\b\b\b\b\b\b\b\b\b\b\b\b\b\b\b\b\b\b\b\b\b\b\b\b\b\b\b\b\b\b\b\b\b\b\b\b\b\b\b\b\b\b\b\b\b\b\b\b\b\b\b\b\b\b\r259\/551 [=============>................] - ETA: 0s - loss: 0.2457 - accuracy: 0.9182\b\b\b\b\b\b\b\b\b\b\b\b\b\b\b\b\b\b\b\b\b\b\b\b\b\b\b\b\b\b\b\b\b\b\b\b\b\b\b\b\b\b\b\b\b\b\b\b\b\b\b\b\b\b\b\b\b\b\b\b\b\b\b\b\b\b\b\b\b\b\b\b\b\b\b\b\b\b\b\b\b\b\b\b\r288\/551 [==============>...............] - ETA: 0s - loss: 0.2470 - accuracy: 0.9185\b\b\b\b\b\b\b\b\b\b\b\b\b\b\b\b\b\b\b\b\b\b\b\b\b\b\b\b\b\b\b\b\b\b\b\b\b\b\b\b\b\b\b\b\b\b\b\b\b\b\b\b\b\b\b\b\b\b\b\b\b\b\b\b\b\b\b\b\b\b\b\b\b\b\b\b\b\b\b\b\b\b\b\b\r315\/551 [================>.............] - ETA: 0s - loss: 0.2484 - accuracy: 0.9169\b\b\b\b\b\b\b\b\b\b\b\b\b\b\b\b\b\b\b\b\b\b\b\b\b\b\b\b\b\b\b\b\b\b\b\b\b\b\b\b\b\b\b\b\b\b\b\b\b\b\b\b\b\b\b\b\b\b\b\b\b\b\b\b\b\b\b\b\b\b\b\b\b\b\b\b\b\b\b\b\b\b\b\b\r344\/551 [=================>............] - ETA: 0s - loss: 0.2502 - accuracy: 0.9165\b\b\b\b\b\b\b\b\b\b\b\b\b\b\b\b\b\b\b\b\b\b\b\b\b\b\b\b\b\b\b\b\b\b\b\b\b\b\b\b\b\b\b\b\b\b\b\b\b\b\b\b\b\b\b\b\b\b\b\b\b\b\b\b\b\b\b\b\b\b\b\b\b\b\b\b\b\b\b\b\b\b\b\b\r373\/551 [===================>..........] - ETA: 0s - loss: 0.2493 - accuracy: 0.9171\b\b\b\b\b\b\b\b\b\b\b\b\b\b\b\b\b\b\b\b\b\b\b\b\b\b\b\b\b\b\b\b\b\b\b\b\b\b\b\b\b\b\b\b\b\b\b\b\b\b\b\b\b\b\b\b\b\b\b\b\b\b\b\b\b\b\b\b\b\b\b\b\b\b\b\b\b\b\b\b\b\b\b\b\r402\/551 [====================>.........] - ETA: 0s - loss: 0.2474 - accuracy: 0.9173\b\b\b\b\b\b\b\b\b\b\b\b\b\b\b\b\b\b\b\b\b\b\b\b\b\b\b\b\b\b\b\b\b\b\b\b\b\b\b\b\b\b\b\b\b\b\b\b\b\b\b\b\b\b\b\b\b\b\b\b\b\b\b\b\b\b\b\b\b\b\b\b\b\b\b\b\b\b\b\b\b\b\b\b\r431\/551 [======================>.......] - ETA: 0s - loss: 0.2475 - accuracy: 0.9173\b\b\b\b\b\b\b\b\b\b\b\b\b\b\b\b\b\b\b\b\b\b\b\b\b\b\b\b\b\b\b\b\b\b\b\b\b\b\b\b\b\b\b\b\b\b\b\b\b\b\b\b\b\b\b\b\b\b\b\b\b\b\b\b\b\b\b\b\b\b\b\b\b\b\b\b\b\b\b\b\b\b\b\b\r461\/551 [========================>.....] - ETA: 0s - loss: 0.2465 - accuracy: 0.9171\b\b\b\b\b\b\b\b\b\b\b\b\b\b\b\b\b\b\b\b\b\b\b\b\b\b\b\b\b\b\b\b\b\b\b\b\b\b\b\b\b\b\b\b\b\b\b\b\b\b\b\b\b\b\b\b\b\b\b\b\b\b\b\b\b\b\b\b\b\b\b\b\b\b\b\b\b\b\b\b\b\b\b\b\r490\/551 [=========================>....] - ETA: 0s - loss: 0.2444 - accuracy: 0.9180\b\b\b\b\b\b\b\b\b\b\b\b\b\b\b\b\b\b\b\b\b\b\b\b\b\b\b\b\b\b\b\b\b\b\b\b\b\b\b\b\b\b\b\b\b\b\b\b\b\b\b\b\b\b\b\b\b\b\b\b\b\b\b\b\b\b\b\b\b\b\b\b\b\b\b\b\b\b\b\b\b\b\b\b\r520\/551 [===========================>..] - ETA: 0s - loss: 0.2465 - accuracy: 0.9167\b\b\b\b\b\b\b\b\b\b\b\b\b\b\b\b\b\b\b\b\b\b\b\b\b\b\b\b\b\b\b\b\b\b\b\b\b\b\b\b\b\b\b\b\b\b\b\b\b\b\b\b\b\b\b\b\b\b\b\b\b\b\b\b\b\b\b\b\b\b\b\b\b\b\b\b\b\b\b\b\b\b\b\b\r549\/551 [============================>.] - ETA: 0s - loss: 0.2464 - accuracy: 0.9167\b\b\b\b\b\b\b\b\b\b\b\b\b\b\b\b\b\b\b\b\b\b\b\b\b\b\b\b\b\b\b\b\b\b\b\b\b\b\b\b\b\b\b\b\b\b\b\b\b\b\b\b\b\b\b\b\b\b\b\b\b\b\b\b\b\b\b\b\b\b\b\b\b\b\b\b\b\b\b\b\b\b\b\b\r551\/551 [==============================] - 1s 2ms\/step - loss: 0.2462 - accuracy: 0.9169 - val_loss: 0.0229 - val_accuracy: 0.9945\n",
      "Epoch 3\/1000\n",
      "\r  1\/551 [..............................] - ETA: 1s - loss: 0.1437 - accuracy: 0.9688\b\b\b\b\b\b\b\b\b\b\b\b\b\b\b\b\b\b\b\b\b\b\b\b\b\b\b\b\b\b\b\b\b\b\b\b\b\b\b\b\b\b\b\b\b\b\b\b\b\b\b\b\b\b\b\b\b\b\b\b\b\b\b\b\b\b\b\b\b\b\b\b\b\b\b\b\b\b\b\b\b\b\b\b\r 29\/551 [>.............................] - ETA: 0s - loss: 0.2276 - accuracy: 0.9289\b\b\b\b\b\b\b\b\b\b\b\b\b\b\b\b\b\b\b\b\b\b\b\b\b\b\b\b\b\b\b\b\b\b\b\b\b\b\b\b\b\b\b\b\b\b\b\b\b\b\b\b\b\b\b\b\b\b\b\b\b\b\b\b\b\b\b\b\b\b\b\b\b\b\b\b\b\b\b\b\b\b\b\b\r 59\/551 [==>...........................] - ETA: 0s - loss: 0.2399 - accuracy: 0.9158\b\b\b\b\b\b\b\b\b\b\b\b\b\b\b\b\b\b\b\b\b\b\b\b\b\b\b\b\b\b\b\b\b\b\b\b\b\b\b\b\b\b\b\b\b\b\b\b\b\b\b\b\b\b\b\b\b\b\b\b\b\b\b\b\b\b\b\b\b\b\b\b\b\b\b\b\b\b\b\b\b\b\b\b\r 87\/551 [===>..........................] - ETA: 0s - loss: 0.2349 - accuracy: 0.9213\b\b\b\b\b\b\b\b\b\b\b\b\b\b\b\b\b\b\b\b\b\b\b\b\b\b\b\b\b\b\b\b\b\b\b\b\b\b\b\b\b\b\b\b\b\b\b\b\b\b\b\b\b\b\b\b\b\b\b\b\b\b\b\b\b\b\b\b\b\b\b\b\b\b\b\b\b\b\b\b\b\b\b\b\r116\/551 [=====>........................] - ETA: 0s - loss: 0.2410 - accuracy: 0.9189\b\b\b\b\b\b\b\b\b\b\b\b\b\b\b\b\b\b\b\b\b\b\b\b\b\b\b\b\b\b\b\b\b\b\b\b\b\b\b\b\b\b\b\b\b\b\b\b\b\b\b\b\b\b\b\b\b\b\b\b\b\b\b\b\b\b\b\b\b\b\b\b\b\b\b\b\b\b\b\b\b\b\b\b\r146\/551 [======>.......................] - ETA: 0s - loss: 0.2384 - accuracy: 0.9206\b\b\b\b\b\b\b\b\b\b\b\b\b\b\b\b\b\b\b\b\b\b\b\b\b\b\b\b\b\b\b\b\b\b\b\b\b\b\b\b\b\b\b\b\b\b\b\b\b\b\b\b\b\b\b\b\b\b\b\b\b\b\b\b\b\b\b\b\b\b\b\b\b\b\b\b\b\b\b\b\b\b\b\b\r177\/551 [========>.....................] - ETA: 0s - loss: 0.2639 - accuracy: 0.9130\b\b\b\b\b\b\b\b\b\b\b\b\b\b\b\b\b\b\b\b\b\b\b\b\b\b\b\b\b\b\b\b\b\b\b\b\b\b\b\b\b\b\b\b\b\b\b\b\b\b\b\b\b\b\b\b\b\b\b\b\b\b\b\b\b\b\b\b\b\b\b\b\b\b\b\b\b\b\b\b\b\b\b\b\r206\/551 [==========>...................] - ETA: 0s - loss: 0.2632 - accuracy: 0.9140\b\b\b\b\b\b\b\b\b\b\b\b\b\b\b\b\b\b\b\b\b\b\b\b\b\b\b\b\b\b\b\b\b\b\b\b\b\b\b\b\b\b\b\b\b\b\b\b\b\b\b\b\b\b\b\b\b\b\b\b\b\b\b\b\b\b\b\b\b\b\b\b\b\b\b\b\b\b\b\b\b\b\b\b\r235\/551 [===========>..................] - ETA: 0s - loss: 0.2578 - accuracy: 0.9157\b\b\b\b\b\b\b\b\b\b\b\b\b\b\b\b\b\b\b\b\b\b\b\b\b\b\b\b\b\b\b\b\b\b\b\b\b\b\b\b\b\b\b\b\b\b\b\b\b\b\b\b\b\b\b\b\b\b\b\b\b\b\b\b\b\b\b\b\b\b\b\b\b\b\b\b\b\b\b\b\b\b\b\b\r264\/551 [=============>................] - ETA: 0s - loss: 0.2556 - accuracy: 0.9163\b\b\b\b\b\b\b\b\b\b\b\b\b\b\b\b\b\b\b\b\b\b\b\b\b\b\b\b\b\b\b\b\b\b\b\b\b\b\b\b\b\b\b\b\b\b\b\b\b\b\b\b\b\b\b\b\b\b\b\b\b\b\b\b\b\b\b\b\b\b\b\b\b\b\b\b\b\b\b\b\b\b\b\b\r293\/551 [==============>...............] - ETA: 0s - loss: 0.2530 - accuracy: 0.9178\b\b\b\b\b\b\b\b\b\b\b\b\b\b\b\b\b\b\b\b\b\b\b\b\b\b\b\b\b\b\b\b\b\b\b\b\b\b\b\b\b\b\b\b\b\b\b\b\b\b\b\b\b\b\b\b\b\b\b\b\b\b\b\b\b\b\b\b\b\b\b\b\b\b\b\b\b\b\b\b\b\b\b\b\r323\/551 [================>.............] - ETA: 0s - loss: 0.2454 - accuracy: 0.9206\b\b\b\b\b\b\b\b\b\b\b\b\b\b\b\b\b\b\b\b\b\b\b\b\b\b\b\b\b\b\b\b\b\b\b\b\b\b\b\b\b\b\b\b\b\b\b\b\b\b\b\b\b\b\b\b\b\b\b\b\b\b\b\b\b\b\b\b\b\b\b\b\b\b\b\b\b\b\b\b\b\b\b\b\r351\/551 [==================>...........] - ETA: 0s - loss: 0.2450 - accuracy: 0.9202\b\b\b\b\b\b\b\b\b\b\b\b\b\b\b\b\b\b\b\b\b\b\b\b\b\b\b\b\b\b\b\b\b\b\b\b\b\b\b\b\b\b\b\b\b\b\b\b\b\b\b\b\b\b\b\b\b\b\b\b\b\b\b\b\b\b\b\b\b\b\b\b\b\b\b\b\b\b\b\b\b\b\b\b\r380\/551 [===================>..........] - ETA: 0s - loss: 0.2416 - accuracy: 0.9212\b\b\b\b\b\b\b\b\b\b\b\b\b\b\b\b\b\b\b\b\b\b\b\b\b\b\b\b\b\b\b\b\b\b\b\b\b\b\b\b\b\b\b\b\b\b\b\b\b\b\b\b\b\b\b\b\b\b\b\b\b\b\b\b\b\b\b\b\b\b\b\b\b\b\b\b\b\b\b\b\b\b\b\b\r410\/551 [=====================>........] - ETA: 0s - loss: 0.2433 - accuracy: 0.9215\b\b\b\b\b\b\b\b\b\b\b\b\b\b\b\b\b\b\b\b\b\b\b\b\b\b\b\b\b\b\b\b\b\b\b\b\b\b\b\b\b\b\b\b\b\b\b\b\b\b\b\b\b\b\b\b\b\b\b\b\b\b\b\b\b\b\b\b\b\b\b\b\b\b\b\b\b\b\b\b\b\b\b\b\r439\/551 [======================>.......] - ETA: 0s - loss: 0.2459 - accuracy: 0.9209\b\b\b\b\b\b\b\b\b\b\b\b\b\b\b\b\b\b\b\b\b\b\b\b\b\b\b\b\b\b\b\b\b\b\b\b\b\b\b\b\b\b\b\b\b\b\b\b\b\b\b\b\b\b\b\b\b\b\b\b\b\b\b\b\b\b\b\b\b\b\b\b\b\b\b\b\b\b\b\b\b\b\b\b\r469\/551 [========================>.....] - ETA: 0s - loss: 0.2450 - accuracy: 0.9208\b\b\b\b\b\b\b\b\b\b\b\b\b\b\b\b\b\b\b\b\b\b\b\b\b\b\b\b\b\b\b\b\b\b\b\b\b\b\b\b\b\b\b\b\b\b\b\b\b\b\b\b\b\b\b\b\b\b\b\b\b\b\b\b\b\b\b\b\b\b\b\b\b\b\b\b\b\b\b\b\b\b\b\b\r497\/551 [==========================>...] - ETA: 0s - loss: 0.2472 - accuracy: 0.9200\b\b\b\b\b\b\b\b\b\b\b\b\b\b\b\b\b\b\b\b\b\b\b\b\b\b\b\b\b\b\b\b\b\b\b\b\b\b\b\b\b\b\b\b\b\b\b\b\b\b\b\b\b\b\b\b\b\b\b\b\b\b\b\b\b\b\b\b\b\b\b\b\b\b\b\b\b\b\b\b\b\b\b\b\r525\/551 [===========================>..] - ETA: 0s - loss: 0.2481 - accuracy: 0.9194\b\b\b\b\b\b\b\b\b\b\b\b\b\b\b\b\b\b\b\b\b\b\b\b\b\b\b\b\b\b\b\b\b\b\b\b\b\b\b\b\b\b\b\b\b\b\b\b\b\b\b\b\b\b\b\b\b\b\b\b\b\b\b\b\b\b\b\b\b\b\b\b\b\b\b\b\b\b\b\b\b\b\b\b\r551\/551 [==============================] - 1s 2ms\/step - loss: 0.2473 - accuracy: 0.9197 - val_loss: 0.0797 - val_accuracy: 0.9725\n",
      "Epoch 4\/1000\n",
      "\r  1\/551 [..............................] - ETA: 1s - loss: 0.1809 - accuracy: 0.9375\b\b\b\b\b\b\b\b\b\b\b\b\b\b\b\b\b\b\b\b\b\b\b\b\b\b\b\b\b\b\b\b\b\b\b\b\b\b\b\b\b\b\b\b\b\b\b\b\b\b\b\b\b\b\b\b\b\b\b\b\b\b\b\b\b\b\b\b\b\b\b\b\b\b\b\b\b\b\b\b\b\b\b\b\r 30\/551 [>.............................] - ETA: 0s - loss: 0.1906 - accuracy: 0.9385\b\b\b\b\b\b\b\b\b\b\b\b\b\b\b\b\b\b\b\b\b\b\b\b\b\b\b\b\b\b\b\b\b\b\b\b\b\b\b\b\b\b\b\b\b\b\b\b\b\b\b\b\b\b\b\b\b\b\b\b\b\b\b\b\b\b\b\b\b\b\b\b\b\b\b\b\b\b\b\b\b\b\b\b\r 60\/551 [==>...........................] - ETA: 0s - loss: 0.2093 - accuracy: 0.9307\b\b\b\b\b\b\b\b\b\b\b\b\b\b\b\b\b\b\b\b\b\b\b\b\b\b\b\b\b\b\b\b\b\b\b\b\b\b\b\b\b\b\b\b\b\b\b\b\b\b\b\b\b\b\b\b\b\b\b\b\b\b\b\b\b\b\b\b\b\b\b\b\b\b\b\b\b\b\b\b\b\b\b\b\r 87\/551 [===>..........................] - ETA: 0s - loss: 0.2148 - accuracy: 0.9325\b\b\b\b\b\b\b\b\b\b\b\b\b\b\b\b\b\b\b\b\b\b\b\b\b\b\b\b\b\b\b\b\b\b\b\b\b\b\b\b\b\b\b\b\b\b\b\b\b\b\b\b\b\b\b\b\b\b\b\b\b\b\b\b\b\b\b\b\b\b\b\b\b\b\b\b\b\b\b\b\b\b\b\b\r117\/551 [=====>........................] - ETA: 0s - loss: 0.2282 - accuracy: 0.9252\b\b\b\b\b\b\b\b\b\b\b\b\b\b\b\b\b\b\b\b\b\b\b\b\b\b\b\b\b\b\b\b\b\b\b\b\b\b\b\b\b\b\b\b\b\b\b\b\b\b\b\b\b\b\b\b\b\b\b\b\b\b\b\b\b\b\b\b\b\b\b\b\b\b\b\b\b\b\b\b\b\b\b\b\r144\/551 [======>.......................] - ETA: 0s - loss: 0.2263 - accuracy: 0.9236\b\b\b\b\b\b\b\b\b\b\b\b\b\b\b\b\b\b\b\b\b\b\b\b\b\b\b\b\b\b\b\b\b\b\b\b\b\b\b\b\b\b\b\b\b\b\b\b\b\b\b\b\b\b\b\b\b\b\b\b\b\b\b\b\b\b\b\b\b\b\b\b\b\b\b\b\b\b\b\b\b\b\b\b\r174\/551 [========>.....................] - ETA: 0s - loss: 0.2322 - accuracy: 0.9199\b\b\b\b\b\b\b\b\b\b\b\b\b\b\b\b\b\b\b\b\b\b\b\b\b\b\b\b\b\b\b\b\b\b\b\b\b\b\b\b\b\b\b\b\b\b\b\b\b\b\b\b\b\b\b\b\b\b\b\b\b\b\b\b\b\b\b\b\b\b\b\b\b\b\b\b\b\b\b\b\b\b\b\b\r203\/551 [==========>...................] - ETA: 0s - loss: 0.2309 - accuracy: 0.9195\b\b\b\b\b\b\b\b\b\b\b\b\b\b\b\b\b\b\b\b\b\b\b\b\b\b\b\b\b\b\b\b\b\b\b\b\b\b\b\b\b\b\b\b\b\b\b\b\b\b\b\b\b\b\b\b\b\b\b\b\b\b\b\b\b\b\b\b\b\b\b\b\b\b\b\b\b\b\b\b\b\b\b\b\r233\/551 [===========>..................] - ETA: 0s - loss: 0.2307 - accuracy: 0.9198\b\b\b\b\b\b\b\b\b\b\b\b\b\b\b\b\b\b\b\b\b\b\b\b\b\b\b\b\b\b\b\b\b\b\b\b\b\b\b\b\b\b\b\b\b\b\b\b\b\b\b\b\b\b\b\b\b\b\b\b\b\b\b\b\b\b\b\b\b\b\b\b\b\b\b\b\b\b\b\b\b\b\b\b\r262\/551 [=============>................] - ETA: 0s - loss: 0.2286 - accuracy: 0.9213\b\b\b\b\b\b\b\b\b\b\b\b\b\b\b\b\b\b\b\b\b\b\b\b\b\b\b\b\b\b\b\b\b\b\b\b\b\b\b\b\b\b\b\b\b\b\b\b\b\b\b\b\b\b\b\b\b\b\b\b\b\b\b\b\b\b\b\b\b\b\b\b\b\b\b\b\b\b\b\b\b\b\b\b\r291\/551 [==============>...............] - ETA: 0s - loss: 0.2412 - accuracy: 0.9180\b\b\b\b\b\b\b\b\b\b\b\b\b\b\b\b\b\b\b\b\b\b\b\b\b\b\b\b\b\b\b\b\b\b\b\b\b\b\b\b\b\b\b\b\b\b\b\b\b\b\b\b\b\b\b\b\b\b\b\b\b\b\b\b\b\b\b\b\b\b\b\b\b\b\b\b\b\b\b\b\b\b\b\b\r319\/551 [================>.............] - ETA: 0s - loss: 0.2381 - accuracy: 0.9199\b\b\b\b\b\b\b\b\b\b\b\b\b\b\b\b\b\b\b\b\b\b\b\b\b\b\b\b\b\b\b\b\b\b\b\b\b\b\b\b\b\b\b\b\b\b\b\b\b\b\b\b\b\b\b\b\b\b\b\b\b\b\b\b\b\b\b\b\b\b\b\b\b\b\b\b\b\b\b\b\b\b\b\b\r349\/551 [==================>...........] - ETA: 0s - loss: 0.2402 - accuracy: 0.9199\b\b\b\b\b\b\b\b\b\b\b\b\b\b\b\b\b\b\b\b\b\b\b\b\b\b\b\b\b\b\b\b\b\b\b\b\b\b\b\b\b\b\b\b\b\b\b\b\b\b\b\b\b\b\b\b\b\b\b\b\b\b\b\b\b\b\b\b\b\b\b\b\b\b\b\b\b\b\b\b\b\b\b\b\r378\/551 [===================>..........] - ETA: 0s - loss: 0.2397 - accuracy: 0.9193\b\b\b\b\b\b\b\b\b\b\b\b\b\b\b\b\b\b\b\b\b\b\b\b\b\b\b\b\b\b\b\b\b\b\b\b\b\b\b\b\b\b\b\b\b\b\b\b\b\b\b\b\b\b\b\b\b\b\b\b\b\b\b\b\b\b\b\b\b\b\b\b\b\b\b\b\b\b\b\b\b\b\b\b\r407\/551 [=====================>........] - ETA: 0s - loss: 0.2375 - accuracy: 0.9207\b\b\b\b\b\b\b\b\b\b\b\b\b\b\b\b\b\b\b\b\b\b\b\b\b\b\b\b\b\b\b\b\b\b\b\b\b\b\b\b\b\b\b\b\b\b\b\b\b\b\b\b\b\b\b\b\b\b\b\b\b\b\b\b\b\b\b\b\b\b\b\b\b\b\b\b\b\b\b\b\b\b\b\b\r435\/551 [======================>.......] - ETA: 0s - loss: 0.2359 - accuracy: 0.9215\b\b\b\b\b\b\b\b\b\b\b\b\b\b\b\b\b\b\b\b\b\b\b\b\b\b\b\b\b\b\b\b\b\b\b\b\b\b\b\b\b\b\b\b\b\b\b\b\b\b\b\b\b\b\b\b\b\b\b\b\b\b\b\b\b\b\b\b\b\b\b\b\b\b\b\b\b\b\b\b\b\b\b\b\r465\/551 [========================>.....] - ETA: 0s - loss: 0.2380 - accuracy: 0.9204\b\b\b\b\b\b\b\b\b\b\b\b\b\b\b\b\b\b\b\b\b\b\b\b\b\b\b\b\b\b\b\b\b\b\b\b\b\b\b\b\b\b\b\b\b\b\b\b\b\b\b\b\b\b\b\b\b\b\b\b\b\b\b\b\b\b\b\b\b\b\b\b\b\b\b\b\b\b\b\b\b\b\b\b\r496\/551 [==========================>...] - ETA: 0s - loss: 0.2366 - accuracy: 0.9209\b\b\b\b\b\b\b\b\b\b\b\b\b\b\b\b\b\b\b\b\b\b\b\b\b\b\b\b\b\b\b\b\b\b\b\b\b\b\b\b\b\b\b\b\b\b\b\b\b\b\b\b\b\b\b\b\b\b\b\b\b\b\b\b\b\b\b\b\b\b\b\b\b\b\b\b\b\b\b\b\b\b\b\b\r526\/551 [===========================>..] - ETA: 0s - loss: 0.2316 - accuracy: 0.9228\b\b\b\b\b\b\b\b\b\b\b\b\b\b\b\b\b\b\b\b\b\b\b\b\b\b\b\b\b\b\b\b\b\b\b\b\b\b\b\b\b\b\b\b\b\b\b\b\b\b\b\b\b\b\b\b\b\b\b\b\b\b\b\b\b\b\b\b\b\b\b\b\b\b\b\b\b\b\b\b\b\b\b\b\r551\/551 [==============================] - 1s 2ms\/step - loss: 0.2311 - accuracy: 0.9229 - val_loss: 0.0316 - val_accuracy: 0.9896\n",
      "Epoch 5\/1000\n",
      "\r  1\/551 [..............................] - ETA: 1s - loss: 0.0519 - accuracy: 1.0000\b\b\b\b\b\b\b\b\b\b\b\b\b\b\b\b\b\b\b\b\b\b\b\b\b\b\b\b\b\b\b\b\b\b\b\b\b\b\b\b\b\b\b\b\b\b\b\b\b\b\b\b\b\b\b\b\b\b\b\b\b\b\b\b\b\b\b\b\b\b\b\b\b\b\b\b\b\b\b\b\b\b\b\b\r 29\/551 [>.............................] - ETA: 0s - loss: 0.2009 - accuracy: 0.9364\b\b\b\b\b\b\b\b\b\b\b\b\b\b\b\b\b\b\b\b\b\b\b\b\b\b\b\b\b\b\b\b\b\b\b\b\b\b\b\b\b\b\b\b\b\b\b\b\b\b\b\b\b\b\b\b\b\b\b\b\b\b\b\b\b\b\b\b\b\b\b\b\b\b\b\b\b\b\b\b\b\b\b\b\r 58\/551 [==>...........................] - ETA: 0s - loss: 0.2065 - accuracy: 0.9316\b\b\b\b\b\b\b\b\b\b\b\b\b\b\b\b\b\b\b\b\b\b\b\b\b\b\b\b\b\b\b\b\b\b\b\b\b\b\b\b\b\b\b\b\b\b\b\b\b\b\b\b\b\b\b\b\b\b\b\b\b\b\b\b\b\b\b\b\b\b\b\b\b\b\b\b\b\b\b\b\b\b\b\b\r 86\/551 [===>..........................] - ETA: 0s - loss: 0.2187 - accuracy: 0.9281\b\b\b\b\b\b\b\b\b\b\b\b\b\b\b\b\b\b\b\b\b\b\b\b\b\b\b\b\b\b\b\b\b\b\b\b\b\b\b\b\b\b\b\b\b\b\b\b\b\b\b\b\b\b\b\b\b\b\b\b\b\b\b\b\b\b\b\b\b\b\b\b\b\b\b\b\b\b\b\b\b\b\b\b\r115\/551 [=====>........................] - ETA: 0s - loss: 0.2126 - accuracy: 0.9293\b\b\b\b\b\b\b\b\b\b\b\b\b\b\b\b\b\b\b\b\b\b\b\b\b\b\b\b\b\b\b\b\b\b\b\b\b\b\b\b\b\b\b\b\b\b\b\b\b\b\b\b\b\b\b\b\b\b\b\b\b\b\b\b\b\b\b\b\b\b\b\b\b\b\b\b\b\b\b\b\b\b\b\b\r144\/551 [======>.......................] - ETA: 0s - loss: 0.2062 - accuracy: 0.9319\b\b\b\b\b\b\b\b\b\b\b\b\b\b\b\b\b\b\b\b\b\b\b\b\b\b\b\b\b\b\b\b\b\b\b\b\b\b\b\b\b\b\b\b\b\b\b\b\b\b\b\b\b\b\b\b\b\b\b\b\b\b\b\b\b\b\b\b\b\b\b\b\b\b\b\b\b\b\b\b\b\b\b\b\r173\/551 [========>.....................] - ETA: 0s - loss: 0.2064 - accuracy: 0.9314\b\b\b\b\b\b\b\b\b\b\b\b\b\b\b\b\b\b\b\b\b\b\b\b\b\b\b\b\b\b\b\b\b\b\b\b\b\b\b\b\b\b\b\b\b\b\b\b\b\b\b\b\b\b\b\b\b\b\b\b\b\b\b\b\b\b\b\b\b\b\b\b\b\b\b\b\b\b\b\b\b\b\b\b\r200\/551 [=========>....................] - ETA: 0s - loss: 0.2092 - accuracy: 0.9308\b\b\b\b\b\b\b\b\b\b\b\b\b\b\b\b\b\b\b\b\b\b\b\b\b\b\b\b\b\b\b\b\b\b\b\b\b\b\b\b\b\b\b\b\b\b\b\b\b\b\b\b\b\b\b\b\b\b\b\b\b\b\b\b\b\b\b\b\b\b\b\b\b\b\b\b\b\b\b\b\b\b\b\b\r230\/551 [===========>..................] - ETA: 0s - loss: 0.2101 - accuracy: 0.9314\b\b\b\b\b\b\b\b\b\b\b\b\b\b\b\b\b\b\b\b\b\b\b\b\b\b\b\b\b\b\b\b\b\b\b\b\b\b\b\b\b\b\b\b\b\b\b\b\b\b\b\b\b\b\b\b\b\b\b\b\b\b\b\b\b\b\b\b\b\b\b\b\b\b\b\b\b\b\b\b\b\b\b\b\r259\/551 [=============>................] - ETA: 0s - loss: 0.2051 - accuracy: 0.9327\b\b\b\b\b\b\b\b\b\b\b\b\b\b\b\b\b\b\b\b\b\b\b\b\b\b\b\b\b\b\b\b\b\b\b\b\b\b\b\b\b\b\b\b\b\b\b\b\b\b\b\b\b\b\b\b\b\b\b\b\b\b\b\b\b\b\b\b\b\b\b\b\b\b\b\b\b\b\b\b\b\b\b\b\r288\/551 [==============>...............] - ETA: 0s - loss: 0.2041 - accuracy: 0.9335\b\b\b\b\b\b\b\b\b\b\b\b\b\b\b\b\b\b\b\b\b\b\b\b\b\b\b\b\b\b\b\b\b\b\b\b\b\b\b\b\b\b\b\b\b\b\b\b\b\b\b\b\b\b\b\b\b\b\b\b\b\b\b\b\b\b\b\b\b\b\b\b\b\b\b\b\b\b\b\b\b\b\b\b\r317\/551 [================>.............] - ETA: 0s - loss: 0.2046 - accuracy: 0.9332\b\b\b\b\b\b\b\b\b\b\b\b\b\b\b\b\b\b\b\b\b\b\b\b\b\b\b\b\b\b\b\b\b\b\b\b\b\b\b\b\b\b\b\b\b\b\b\b\b\b\b\b\b\b\b\b\b\b\b\b\b\b\b\b\b\b\b\b\b\b\b\b\b\b\b\b\b\b\b\b\b\b\b\b\r345\/551 [=================>............] - ETA: 0s - loss: 0.2033 - accuracy: 0.9331\b\b\b\b\b\b\b\b\b\b\b\b\b\b\b\b\b\b\b\b\b\b\b\b\b\b\b\b\b\b\b\b\b\b\b\b\b\b\b\b\b\b\b\b\b\b\b\b\b\b\b\b\b\b\b\b\b\b\b\b\b\b\b\b\b\b\b\b\b\b\b\b\b\b\b\b\b\b\b\b\b\b\b\b\r372\/551 [===================>..........] - ETA: 0s - loss: 0.2046 - accuracy: 0.9327\b\b\b\b\b\b\b\b\b\b\b\b\b\b\b\b\b\b\b\b\b\b\b\b\b\b\b\b\b\b\b\b\b\b\b\b\b\b\b\b\b\b\b\b\b\b\b\b\b\b\b\b\b\b\b\b\b\b\b\b\b\b\b\b\b\b\b\b\b\b\b\b\b\b\b\b\b\b\b\b\b\b\b\b\r401\/551 [====================>.........] - ETA: 0s - loss: 0.2069 - accuracy: 0.9323\b\b\b\b\b\b\b\b\b\b\b\b\b\b\b\b\b\b\b\b\b\b\b\b\b\b\b\b\b\b\b\b\b\b\b\b\b\b\b\b\b\b\b\b\b\b\b\b\b\b\b\b\b\b\b\b\b\b\b\b\b\b\b\b\b\b\b\b\b\b\b\b\b\b\b\b\b\b\b\b\b\b\b\b\r428\/551 [======================>.......] - ETA: 0s - loss: 0.2066 - accuracy: 0.9320\b\b\b\b\b\b\b\b\b\b\b\b\b\b\b\b\b\b\b\b\b\b\b\b\b\b\b\b\b\b\b\b\b\b\b\b\b\b\b\b\b\b\b\b\b\b\b\b\b\b\b\b\b\b\b\b\b\b\b\b\b\b\b\b\b\b\b\b\b\b\b\b\b\b\b\b\b\b\b\b\b\b\b\b\r457\/551 [=======================>......] - ETA: 0s - loss: 0.2056 - accuracy: 0.9324\b\b\b\b\b\b\b\b\b\b\b\b\b\b\b\b\b\b\b\b\b\b\b\b\b\b\b\b\b\b\b\b\b\b\b\b\b\b\b\b\b\b\b\b\b\b\b\b\b\b\b\b\b\b\b\b\b\b\b\b\b\b\b\b\b\b\b\b\b\b\b\b\b\b\b\b\b\b\b\b\b\b\b\b\r485\/551 [=========================>....] - ETA: 0s - loss: 0.2049 - accuracy: 0.9330\b\b\b\b\b\b\b\b\b\b\b\b\b\b\b\b\b\b\b\b\b\b\b\b\b\b\b\b\b\b\b\b\b\b\b\b\b\b\b\b\b\b\b\b\b\b\b\b\b\b\b\b\b\b\b\b\b\b\b\b\b\b\b\b\b\b\b\b\b\b\b\b\b\b\b\b\b\b\b\b\b\b\b\b\r514\/551 [==========================>...] - ETA: 0s - loss: 0.2056 - accuracy: 0.9324\b\b\b\b\b\b\b\b\b\b\b\b\b\b\b\b\b\b\b\b\b\b\b\b\b\b\b\b\b\b\b\b\b\b\b\b\b\b\b\b\b\b\b\b\b\b\b\b\b\b\b\b\b\b\b\b\b\b\b\b\b\b\b\b\b\b\b\b\b\b\b\b\b\b\b\b\b\b\b\b\b\b\b\b\r541\/551 [============================>.] - ETA: 0s - loss: 0.2049 - accuracy: 0.9322\b\b\b\b\b\b\b\b\b\b\b\b\b\b\b\b\b\b\b\b\b\b\b\b\b\b\b\b\b\b\b\b\b\b\b\b\b\b\b\b\b\b\b\b\b\b\b\b\b\b\b\b\b\b\b\b\b\b\b\b\b\b\b\b\b\b\b\b\b\b\b\b\b\b\b\b\b\b\b\b\b\b\b\b\r551\/551 [==============================] - 1s 2ms\/step - loss: 0.2052 - accuracy: 0.9321 - val_loss: 0.0467 - val_accuracy: 1.0000\n",
      "Epoch 6\/1000\n",
      "\r  1\/551 [..............................] - ETA: 1s - loss: 0.1485 - accuracy: 0.9688\b\b\b\b\b\b\b\b\b\b\b\b\b\b\b\b\b\b\b\b\b\b\b\b\b\b\b\b\b\b\b\b\b\b\b\b\b\b\b\b\b\b\b\b\b\b\b\b\b\b\b\b\b\b\b\b\b\b\b\b\b\b\b\b\b\b\b\b\b\b\b\b\b\b\b\b\b\b\b\b\b\b\b\b\r 31\/551 [>.............................] - ETA: 0s - loss: 0.2734 - accuracy: 0.9042\b\b\b\b\b\b\b\b\b\b\b\b\b\b\b\b\b\b\b\b\b\b\b\b\b\b\b\b\b\b\b\b\b\b\b\b\b\b\b\b\b\b\b\b\b\b\b\b\b\b\b\b\b\b\b\b\b\b\b\b\b\b\b\b\b\b\b\b\b\b\b\b\b\b\b\b\b\b\b\b\b\b\b\b\r 58\/551 [==>...........................] - ETA: 0s - loss: 0.2620 - accuracy: 0.9106\b\b\b\b\b\b\b\b\b\b\b\b\b\b\b\b\b\b\b\b\b\b\b\b\b\b\b\b\b\b\b\b\b\b\b\b\b\b\b\b\b\b\b\b\b\b\b\b\b\b\b\b\b\b\b\b\b\b\b\b\b\b\b\b\b\b\b\b\b\b\b\b\b\b\b\b\b\b\b\b\b\b\b\b\r 88\/551 [===>..........................] - ETA: 0s - loss: 0.2513 - accuracy: 0.9151\b\b\b\b\b\b\b\b\b\b\b\b\b\b\b\b\b\b\b\b\b\b\b\b\b\b\b\b\b\b\b\b\b\b\b\b\b\b\b\b\b\b\b\b\b\b\b\b\b\b\b\b\b\b\b\b\b\b\b\b\b\b\b\b\b\b\b\b\b\b\b\b\b\b\b\b\b\b\b\b\b\b\b\b\r117\/551 [=====>........................] - ETA: 0s - loss: 0.2570 - accuracy: 0.9119\b\b\b\b\b\b\b\b\b\b\b\b\b\b\b\b\b\b\b\b\b\b\b\b\b\b\b\b\b\b\b\b\b\b\b\b\b\b\b\b\b\b\b\b\b\b\b\b\b\b\b\b\b\b\b\b\b\b\b\b\b\b\b\b\b\b\b\b\b\b\b\b\b\b\b\b\b\b\b\b\b\b\b\b\r147\/551 [=======>......................] - ETA: 0s - loss: 0.2455 - accuracy: 0.9171\b\b\b\b\b\b\b\b\b\b\b\b\b\b\b\b\b\b\b\b\b\b\b\b\b\b\b\b\b\b\b\b\b\b\b\b\b\b\b\b\b\b\b\b\b\b\b\b\b\b\b\b\b\b\b\b\b\b\b\b\b\b\b\b\b\b\b\b\b\b\b\b\b\b\b\b\b\b\b\b\b\b\b\b\r177\/551 [========>.....................] - ETA: 0s - loss: 0.2389 - accuracy: 0.9209\b\b\b\b\b\b\b\b\b\b\b\b\b\b\b\b\b\b\b\b\b\b\b\b\b\b\b\b\b\b\b\b\b\b\b\b\b\b\b\b\b\b\b\b\b\b\b\b\b\b\b\b\b\b\b\b\b\b\b\b\b\b\b\b\b\b\b\b\b\b\b\b\b\b\b\b\b\b\b\b\b\b\b\b\r207\/551 [==========>...................] - ETA: 0s - loss: 0.2478 - accuracy: 0.9179\b\b\b\b\b\b\b\b\b\b\b\b\b\b\b\b\b\b\b\b\b\b\b\b\b\b\b\b\b\b\b\b\b\b\b\b\b\b\b\b\b\b\b\b\b\b\b\b\b\b\b\b\b\b\b\b\b\b\b\b\b\b\b\b\b\b\b\b\b\b\b\b\b\b\b\b\b\b\b\b\b\b\b\b\r236\/551 [===========>..................] - ETA: 0s - loss: 0.2462 - accuracy: 0.9195\b\b\b\b\b\b\b\b\b\b\b\b\b\b\b\b\b\b\b\b\b\b\b\b\b\b\b\b\b\b\b\b\b\b\b\b\b\b\b\b\b\b\b\b\b\b\b\b\b\b\b\b\b\b\b\b\b\b\b\b\b\b\b\b\b\b\b\b\b\b\b\b\b\b\b\b\b\b\b\b\b\b\b\b\r266\/551 [=============>................] - ETA: 0s - loss: 0.2480 - accuracy: 0.9184\b\b\b\b\b\b\b\b\b\b\b\b\b\b\b\b\b\b\b\b\b\b\b\b\b\b\b\b\b\b\b\b\b\b\b\b\b\b\b\b\b\b\b\b\b\b\b\b\b\b\b\b\b\b\b\b\b\b\b\b\b\b\b\b\b\b\b\b\b\b\b\b\b\b\b\b\b\b\b\b\b\b\b\b\r296\/551 [===============>..............] - ETA: 0s - loss: 0.2442 - accuracy: 0.9201\b\b\b\b\b\b\b\b\b\b\b\b\b\b\b\b\b\b\b\b\b\b\b\b\b\b\b\b\b\b\b\b\b\b\b\b\b\b\b\b\b\b\b\b\b\b\b\b\b\b\b\b\b\b\b\b\b\b\b\b\b\b\b\b\b\b\b\b\b\b\b\b\b\b\b\b\b\b\b\b\b\b\b\b\r327\/551 [================>.............] - ETA: 0s - loss: 0.2398 - accuracy: 0.9221\b\b\b\b\b\b\b\b\b\b\b\b\b\b\b\b\b\b\b\b\b\b\b\b\b\b\b\b\b\b\b\b\b\b\b\b\b\b\b\b\b\b\b\b\b\b\b\b\b\b\b\b\b\b\b\b\b\b\b\b\b\b\b\b\b\b\b\b\b\b\b\b\b\b\b\b\b\b\b\b\b\b\b\b\r356\/551 [==================>...........] - ETA: 0s - loss: 0.2395 - accuracy: 0.9220\b\b\b\b\b\b\b\b\b\b\b\b\b\b\b\b\b\b\b\b\b\b\b\b\b\b\b\b\b\b\b\b\b\b\b\b\b\b\b\b\b\b\b\b\b\b\b\b\b\b\b\b\b\b\b\b\b\b\b\b\b\b\b\b\b\b\b\b\b\b\b\b\b\b\b\b\b\b\b\b\b\b\b\b\r386\/551 [====================>.........] - ETA: 0s - loss: 0.2376 - accuracy: 0.9227\b\b\b\b\b\b\b\b\b\b\b\b\b\b\b\b\b\b\b\b\b\b\b\b\b\b\b\b\b\b\b\b\b\b\b\b\b\b\b\b\b\b\b\b\b\b\b\b\b\b\b\b\b\b\b\b\b\b\b\b\b\b\b\b\b\b\b\b\b\b\b\b\b\b\b\b\b\b\b\b\b\b\b\b\r414\/551 [=====================>........] - ETA: 0s - loss: 0.2348 - accuracy: 0.9232\b\b\b\b\b\b\b\b\b\b\b\b\b\b\b\b\b\b\b\b\b\b\b\b\b\b\b\b\b\b\b\b\b\b\b\b\b\b\b\b\b\b\b\b\b\b\b\b\b\b\b\b\b\b\b\b\b\b\b\b\b\b\b\b\b\b\b\b\b\b\b\b\b\b\b\b\b\b\b\b\b\b\b\b\r444\/551 [=======================>......] - ETA: 0s - loss: 0.2317 - accuracy: 0.9246\b\b\b\b\b\b\b\b\b\b\b\b\b\b\b\b\b\b\b\b\b\b\b\b\b\b\b\b\b\b\b\b\b\b\b\b\b\b\b\b\b\b\b\b\b\b\b\b\b\b\b\b\b\b\b\b\b\b\b\b\b\b\b\b\b\b\b\b\b\b\b\b\b\b\b\b\b\b\b\b\b\b\b\b\r473\/551 [========================>.....] - ETA: 0s - loss: 0.2335 - accuracy: 0.9232\b\b\b\b\b\b\b\b\b\b\b\b\b\b\b\b\b\b\b\b\b\b\b\b\b\b\b\b\b\b\b\b\b\b\b\b\b\b\b\b\b\b\b\b\b\b\b\b\b\b\b\b\b\b\b\b\b\b\b\b\b\b\b\b\b\b\b\b\b\b\b\b\b\b\b\b\b\b\b\b\b\b\b\b\r503\/551 [==========================>...] - ETA: 0s - loss: 0.2310 - accuracy: 0.9240\b\b\b\b\b\b\b\b\b\b\b\b\b\b\b\b\b\b\b\b\b\b\b\b\b\b\b\b\b\b\b\b\b\b\b\b\b\b\b\b\b\b\b\b\b\b\b\b\b\b\b\b\b\b\b\b\b\b\b\b\b\b\b\b\b\b\b\b\b\b\b\b\b\b\b\b\b\b\b\b\b\b\b\b\r531\/551 [===========================>..] - ETA: 0s - loss: 0.2319 - accuracy: 0.9238\b\b\b\b\b\b\b\b\b\b\b\b\b\b\b\b\b\b\b\b\b\b\b\b\b\b\b\b\b\b\b\b\b\b\b\b\b\b\b\b\b\b\b\b\b\b\b\b\b\b\b\b\b\b\b\b\b\b\b\b\b\b\b\b\b\b\b\b\b\b\b\b\b\b\b\b\b\b\b\b\b\b\b\b\r551\/551 [==============================] - 1s 2ms\/step - loss: 0.2312 - accuracy: 0.9240 - val_loss: 0.0355 - val_accuracy: 0.9968\n",
      "Epoch 7\/1000\n",
      "\r  1\/551 [..............................] - ETA: 1s - loss: 0.1217 - accuracy: 0.9688\b\b\b\b\b\b\b\b\b\b\b\b\b\b\b\b\b\b\b\b\b\b\b\b\b\b\b\b\b\b\b\b\b\b\b\b\b\b\b\b\b\b\b\b\b\b\b\b\b\b\b\b\b\b\b\b\b\b\b\b\b\b\b\b\b\b\b\b\b\b\b\b\b\b\b\b\b\b\b\b\b\b\b\b\r 32\/551 [>.............................] - ETA: 0s - loss: 0.1627 - accuracy: 0.9482\b\b\b\b\b\b\b\b\b\b\b\b\b\b\b\b\b\b\b\b\b\b\b\b\b\b\b\b\b\b\b\b\b\b\b\b\b\b\b\b\b\b\b\b\b\b\b\b\b\b\b\b\b\b\b\b\b\b\b\b\b\b\b\b\b\b\b\b\b\b\b\b\b\b\b\b\b\b\b\b\b\b\b\b\r 61\/551 [==>...........................] - ETA: 0s - loss: 0.1953 - accuracy: 0.9355\b\b\b\b\b\b\b\b\b\b\b\b\b\b\b\b\b\b\b\b\b\b\b\b\b\b\b\b\b\b\b\b\b\b\b\b\b\b\b\b\b\b\b\b\b\b\b\b\b\b\b\b\b\b\b\b\b\b\b\b\b\b\b\b\b\b\b\b\b\b\b\b\b\b\b\b\b\b\b\b\b\b\b\b\r 92\/551 [====>.........................] - ETA: 0s - loss: 0.2016 - accuracy: 0.9310\b\b\b\b\b\b\b\b\b\b\b\b\b\b\b\b\b\b\b\b\b\b\b\b\b\b\b\b\b\b\b\b\b\b\b\b\b\b\b\b\b\b\b\b\b\b\b\b\b\b\b\b\b\b\b\b\b\b\b\b\b\b\b\b\b\b\b\b\b\b\b\b\b\b\b\b\b\b\b\b\b\b\b\b\r122\/551 [=====>........................] - ETA: 0s - loss: 0.1997 - accuracy: 0.9326\b\b\b\b\b\b\b\b\b\b\b\b\b\b\b\b\b\b\b\b\b\b\b\b\b\b\b\b\b\b\b\b\b\b\b\b\b\b\b\b\b\b\b\b\b\b\b\b\b\b\b\b\b\b\b\b\b\b\b\b\b\b\b\b\b\b\b\b\b\b\b\b\b\b\b\b\b\b\b\b\b\b\b\b\r152\/551 [=======>......................] - ETA: 0s - loss: 0.2048 - accuracy: 0.9330\b\b\b\b\b\b\b\b\b\b\b\b\b\b\b\b\b\b\b\b\b\b\b\b\b\b\b\b\b\b\b\b\b\b\b\b\b\b\b\b\b\b\b\b\b\b\b\b\b\b\b\b\b\b\b\b\b\b\b\b\b\b\b\b\b\b\b\b\b\b\b\b\b\b\b\b\b\b\b\b\b\b\b\b\r182\/551 [========>.....................] - ETA: 0s - loss: 0.2151 - accuracy: 0.9293\b\b\b\b\b\b\b\b\b\b\b\b\b\b\b\b\b\b\b\b\b\b\b\b\b\b\b\b\b\b\b\b\b\b\b\b\b\b\b\b\b\b\b\b\b\b\b\b\b\b\b\b\b\b\b\b\b\b\b\b\b\b\b\b\b\b\b\b\b\b\b\b\b\b\b\b\b\b\b\b\b\b\b\b\r212\/551 [==========>...................] - ETA: 0s - loss: 0.2179 - accuracy: 0.9272\b\b\b\b\b\b\b\b\b\b\b\b\b\b\b\b\b\b\b\b\b\b\b\b\b\b\b\b\b\b\b\b\b\b\b\b\b\b\b\b\b\b\b\b\b\b\b\b\b\b\b\b\b\b\b\b\b\b\b\b\b\b\b\b\b\b\b\b\b\b\b\b\b\b\b\b\b\b\b\b\b\b\b\b\r241\/551 [============>.................] - ETA: 0s - loss: 0.2120 - accuracy: 0.9302\b\b\b\b\b\b\b\b\b\b\b\b\b\b\b\b\b\b\b\b\b\b\b\b\b\b\b\b\b\b\b\b\b\b\b\b\b\b\b\b\b\b\b\b\b\b\b\b\b\b\b\b\b\b\b\b\b\b\b\b\b\b\b\b\b\b\b\b\b\b\b\b\b\b\b\b\b\b\b\b\b\b\b\b\r271\/551 [=============>................] - ETA: 0s - loss: 0.2077 - accuracy: 0.9324\b\b\b\b\b\b\b\b\b\b\b\b\b\b\b\b\b\b\b\b\b\b\b\b\b\b\b\b\b\b\b\b\b\b\b\b\b\b\b\b\b\b\b\b\b\b\b\b\b\b\b\b\b\b\b\b\b\b\b\b\b\b\b\b\b\b\b\b\b\b\b\b\b\b\b\b\b\b\b\b\b\b\b\b\r300\/551 [===============>..............] - ETA: 0s - loss: 0.2063 - accuracy: 0.9327\b\b\b\b\b\b\b\b\b\b\b\b\b\b\b\b\b\b\b\b\b\b\b\b\b\b\b\b\b\b\b\b\b\b\b\b\b\b\b\b\b\b\b\b\b\b\b\b\b\b\b\b\b\b\b\b\b\b\b\b\b\b\b\b\b\b\b\b\b\b\b\b\b\b\b\b\b\b\b\b\b\b\b\b\r330\/551 [================>.............] - ETA: 0s - loss: 0.2056 - accuracy: 0.9336\b\b\b\b\b\b\b\b\b\b\b\b\b\b\b\b\b\b\b\b\b\b\b\b\b\b\b\b\b\b\b\b\b\b\b\b\b\b\b\b\b\b\b\b\b\b\b\b\b\b\b\b\b\b\b\b\b\b\b\b\b\b\b\b\b\b\b\b\b\b\b\b\b\b\b\b\b\b\b\b\b\b\b\b\r359\/551 [==================>...........] - ETA: 0s - loss: 0.2027 - accuracy: 0.9345\b\b\b\b\b\b\b\b\b\b\b\b\b\b\b\b\b\b\b\b\b\b\b\b\b\b\b\b\b\b\b\b\b\b\b\b\b\b\b\b\b\b\b\b\b\b\b\b\b\b\b\b\b\b\b\b\b\b\b\b\b\b\b\b\b\b\b\b\b\b\b\b\b\b\b\b\b\b\b\b\b\b\b\b\r390\/551 [====================>.........] - ETA: 0s - loss: 0.2019 - accuracy: 0.9350\b\b\b\b\b\b\b\b\b\b\b\b\b\b\b\b\b\b\b\b\b\b\b\b\b\b\b\b\b\b\b\b\b\b\b\b\b\b\b\b\b\b\b\b\b\b\b\b\b\b\b\b\b\b\b\b\b\b\b\b\b\b\b\b\b\b\b\b\b\b\b\b\b\b\b\b\b\b\b\b\b\b\b\b\r420\/551 [=====================>........] - ETA: 0s - loss: 0.2040 - accuracy: 0.9347\b\b\b\b\b\b\b\b\b\b\b\b\b\b\b\b\b\b\b\b\b\b\b\b\b\b\b\b\b\b\b\b\b\b\b\b\b\b\b\b\b\b\b\b\b\b\b\b\b\b\b\b\b\b\b\b\b\b\b\b\b\b\b\b\b\b\b\b\b\b\b\b\b\b\b\b\b\b\b\b\b\b\b\b\r450\/551 [=======================>......] - ETA: 0s - loss: 0.2033 - accuracy: 0.9350\b\b\b\b\b\b\b\b\b\b\b\b\b\b\b\b\b\b\b\b\b\b\b\b\b\b\b\b\b\b\b\b\b\b\b\b\b\b\b\b\b\b\b\b\b\b\b\b\b\b\b\b\b\b\b\b\b\b\b\b\b\b\b\b\b\b\b\b\b\b\b\b\b\b\b\b\b\b\b\b\b\b\b\b\r478\/551 [=========================>....] - ETA: 0s - loss: 0.2018 - accuracy: 0.9353\b\b\b\b\b\b\b\b\b\b\b\b\b\b\b\b\b\b\b\b\b\b\b\b\b\b\b\b\b\b\b\b\b\b\b\b\b\b\b\b\b\b\b\b\b\b\b\b\b\b\b\b\b\b\b\b\b\b\b\b\b\b\b\b\b\b\b\b\b\b\b\b\b\b\b\b\b\b\b\b\b\b\b\b\r508\/551 [==========================>...] - ETA: 0s - loss: 0.2021 - accuracy: 0.9352\b\b\b\b\b\b\b\b\b\b\b\b\b\b\b\b\b\b\b\b\b\b\b\b\b\b\b\b\b\b\b\b\b\b\b\b\b\b\b\b\b\b\b\b\b\b\b\b\b\b\b\b\b\b\b\b\b\b\b\b\b\b\b\b\b\b\b\b\b\b\b\b\b\b\b\b\b\b\b\b\b\b\b\b\r538\/551 [============================>.] - ETA: 0s - loss: 0.2023 - accuracy: 0.9348\b\b\b\b\b\b\b\b\b\b\b\b\b\b\b\b\b\b\b\b\b\b\b\b\b\b\b\b\b\b\b\b\b\b\b\b\b\b\b\b\b\b\b\b\b\b\b\b\b\b\b\b\b\b\b\b\b\b\b\b\b\b\b\b\b\b\b\b\b\b\b\b\b\b\b\b\b\b\b\b\b\b\b\b\r551\/551 [==============================] - 1s 2ms\/step - loss: 0.2024 - accuracy: 0.9346 - val_loss: 0.0425 - val_accuracy: 0.9907\n"
     ],
     "output_type":"stream"
    }
   ],
   "metadata":{
    "datalore":{
     "node_id":"KcGVqNlidxSfHT0IHRpnun",
     "type":"CODE",
     "hide_input_from_viewers":false,
     "hide_output_from_viewers":false
    }
   }
  },
  {
   "cell_type":"code",
   "source":[
    "plot_history(history_1)"
   ],
   "execution_count":410,
   "outputs":[
    {
     "data":{
      "image\/png":"[encoded data removed]"
     },
     "metadata":{
      "image\/png":{
       
      }
     },
     "output_type":"display_data"
    }
   ],
   "metadata":{
    "datalore":{
     "node_id":"aSWxzRvvVetKz0zN8zusws",
     "type":"CODE",
     "hide_input_from_viewers":false,
     "hide_output_from_viewers":false
    }
   }
  },
  {
   "cell_type":"code",
   "source":[
    "print(\"# Model 1 : classification report\")\n",
    "print(class_report_1)"
   ],
   "execution_count":411,
   "outputs":[
    {
     "name":"stdout",
     "text":[
      "# Model 1 : classification report\n",
      "              precision    recall  f1-score   support\n",
      "\n",
      "           0       0.88      1.00      0.94      1862\n",
      "           1       0.99      0.83      0.90      1862\n",
      "           2       0.96      0.99      0.98      1862\n",
      "\n",
      "    accuracy                           0.94      5586\n",
      "   macro avg       0.95      0.94      0.94      5586\n",
      "weighted avg       0.95      0.94      0.94      5586\n",
      "\n"
     ],
     "output_type":"stream"
    }
   ],
   "metadata":{
    "datalore":{
     "node_id":"eLP2otJyx2MhsseTUz5Buv",
     "type":"CODE",
     "hide_input_from_viewers":false,
     "hide_output_from_viewers":false
    }
   }
  },
  {
   "cell_type":"code",
   "source":[
    "print(\"# Model 1 : confusion matrix\")\n",
    "print(cf_matrix_1)"
   ],
   "execution_count":412,
   "outputs":[
    {
     "name":"stdout",
     "text":[
      "# Model 1 : confusion matrix\n",
      "[[1862    0    0]\n",
      " [ 248 1543   71]\n",
      " [   0   10 1852]]\n"
     ],
     "output_type":"stream"
    }
   ],
   "metadata":{
    "datalore":{
     "node_id":"fn0YL0eeOghVE08MNCgDoB",
     "type":"CODE",
     "hide_input_from_viewers":false,
     "hide_output_from_viewers":false
    }
   }
  },
  {
   "cell_type":"markdown",
   "source":[
    "Tout d'abord, nous pouvons constater un très bon résultat général, avec des scores au dessus de 0.8 pour toutes les métriques. L'accuracy atteint 0.94 sur cet essai, ce qui montre un bon résultat de classification général. Pour ce qui est de la classification en détail, on constate que toutes les instances de la classe 0 (état normal) on été prédites comme telles. En revanche, c'est celle qui a été le plus confondu avec la classe 1 (état transitif). Cela explique son score de précision qui est le plus mauvais des trois. En effet, 248 instances ont été prédites comme appartenant à la classe 0 alors qu'elles appartenaient en fait à la classe 1. On peut imaginer qu'il s'agit des premières instances de la classe transitive, où les variations des attributs sont encore faibles. Dans une moindre mesure, la classe 2 (état anormal) a également été confondu avec la classe 1 : 71 instances ont été prédites comme appartenant à la classe 2 alors qu'elles appartenaient en fait à la classe 1. Et 10 instances ont été prédites comme appartenant à la classe 1 alors qu'elles appartenaient en fait à la classe 2. On peut de manière analogue imaginer qu'il s'agit des dernières instances de la classe transitive. En somme, la classe 1 a été la plus difficile à prédire comme telle, comme l'indique le score de recall de 0.83. Cela semble logique étant donné qu'elle représente un état de transition. Les classes 0 et 2 ont en revanche été très bien prédites comme telles, avec des scores de recall quasi-parfaits.\n",
    "\n",
    "Les résultats sont donc très satisfaisants, et on pouvait s'y attendre puisque les données ne semblaient initialement pas difficiles à départager. "
   ],
   "attachments":{
    
   },
   "metadata":{
    "datalore":{
     "node_id":"WFFlZQZBY1bIrV8zrBsSox",
     "type":"MD",
     "hide_input_from_viewers":false,
     "hide_output_from_viewers":false
    }
   }
  },
  {
   "cell_type":"markdown",
   "source":[
    "### Modèle 2"
   ],
   "attachments":{
    
   },
   "metadata":{
    "datalore":{
     "node_id":"Z8XPmPZf1vu1X4DsMdTSHJ",
     "type":"MD",
     "hide_input_from_viewers":false,
     "hide_output_from_viewers":false
    }
   }
  },
  {
   "cell_type":"code",
   "source":[
    "# Test of model 2\n",
    "history_2, class_report_2, cf_matrix_2 = test_model(sequences, labels, make_model_2)"
   ],
   "execution_count":396,
   "outputs":[
    {
     "name":"stdout",
     "text":[
      "Epoch 1\/1000\n",
      "\r  1\/551 [..............................] - ETA: 7:34 - loss: 1.6960 - accuracy: 0.1875\b\b\b\b\b\b\b\b\b\b\b\b\b\b\b\b\b\b\b\b\b\b\b\b\b\b\b\b\b\b\b\b\b\b\b\b\b\b\b\b\b\b\b\b\b\b\b\b\b\b\b\b\b\b\b\b\b\b\b\b\b\b\b\b\b\b\b\b\b\b\b\b\b\b\b\b\b\b\b\b\b\b\b\b\b\b\r 26\/551 [>.............................] - ETA: 1s - loss: 0.6233 - accuracy: 0.7728  \b\b\b\b\b\b\b\b\b\b\b\b\b\b\b\b\b\b\b\b\b\b\b\b\b\b\b\b\b\b\b\b\b\b\b\b\b\b\b\b\b\b\b\b\b\b\b\b\b\b\b\b\b\b\b\b\b\b\b\b\b\b\b\b\b\b\b\b\b\b\b\b\b\b\b\b\b\b\b\b\b\b\b\b\r 52\/551 [=>............................] - ETA: 0s - loss: 0.5047 - accuracy: 0.8257\b\b\b\b\b\b\b\b\b\b\b\b\b\b\b\b\b\b\b\b\b\b\b\b\b\b\b\b\b\b\b\b\b\b\b\b\b\b\b\b\b\b\b\b\b\b\b\b\b\b\b\b\b\b\b\b\b\b\b\b\b\b\b\b\b\b\b\b\b\b\b\b\b\b\b\b\b\b\b\b\b\b\b\b\r 76\/551 [===>..........................] - ETA: 0s - loss: 0.4334 - accuracy: 0.8565\b\b\b\b\b\b\b\b\b\b\b\b\b\b\b\b\b\b\b\b\b\b\b\b\b\b\b\b\b\b\b\b\b\b\b\b\b\b\b\b\b\b\b\b\b\b\b\b\b\b\b\b\b\b\b\b\b\b\b\b\b\b\b\b\b\b\b\b\b\b\b\b\b\b\b\b\b\b\b\b\b\b\b\b\r102\/551 [====>.........................] - ETA: 0s - loss: 0.3978 - accuracy: 0.8686\b\b\b\b\b\b\b\b\b\b\b\b\b\b\b\b\b\b\b\b\b\b\b\b\b\b\b\b\b\b\b\b\b\b\b\b\b\b\b\b\b\b\b\b\b\b\b\b\b\b\b\b\b\b\b\b\b\b\b\b\b\b\b\b\b\b\b\b\b\b\b\b\b\b\b\b\b\b\b\b\b\b\b\b\r127\/551 [=====>........................] - ETA: 0s - loss: 0.3661 - accuracy: 0.8797\b\b\b\b\b\b\b\b\b\b\b\b\b\b\b\b\b\b\b\b\b\b\b\b\b\b\b\b\b\b\b\b\b\b\b\b\b\b\b\b\b\b\b\b\b\b\b\b\b\b\b\b\b\b\b\b\b\b\b\b\b\b\b\b\b\b\b\b\b\b\b\b\b\b\b\b\b\b\b\b\b\b\b\b\r154\/551 [=======>......................] - ETA: 0s - loss: 0.3659 - accuracy: 0.8789\b\b\b\b\b\b\b\b\b\b\b\b\b\b\b\b\b\b\b\b\b\b\b\b\b\b\b\b\b\b\b\b\b\b\b\b\b\b\b\b\b\b\b\b\b\b\b\b\b\b\b\b\b\b\b\b\b\b\b\b\b\b\b\b\b\b\b\b\b\b\b\b\b\b\b\b\b\b\b\b\b\b\b\b\r179\/551 [========>.....................] - ETA: 0s - loss: 0.3530 - accuracy: 0.8832\b\b\b\b\b\b\b\b\b\b\b\b\b\b\b\b\b\b\b\b\b\b\b\b\b\b\b\b\b\b\b\b\b\b\b\b\b\b\b\b\b\b\b\b\b\b\b\b\b\b\b\b\b\b\b\b\b\b\b\b\b\b\b\b\b\b\b\b\b\b\b\b\b\b\b\b\b\b\b\b\b\b\b\b\r205\/551 [==========>...................] - ETA: 0s - loss: 0.3400 - accuracy: 0.8872\b\b\b\b\b\b\b\b\b\b\b\b\b\b\b\b\b\b\b\b\b\b\b\b\b\b\b\b\b\b\b\b\b\b\b\b\b\b\b\b\b\b\b\b\b\b\b\b\b\b\b\b\b\b\b\b\b\b\b\b\b\b\b\b\b\b\b\b\b\b\b\b\b\b\b\b\b\b\b\b\b\b\b\b\r229\/551 [===========>..................] - ETA: 0s - loss: 0.3348 - accuracy: 0.8901\b\b\b\b\b\b\b\b\b\b\b\b\b\b\b\b\b\b\b\b\b\b\b\b\b\b\b\b\b\b\b\b\b\b\b\b\b\b\b\b\b\b\b\b\b\b\b\b\b\b\b\b\b\b\b\b\b\b\b\b\b\b\b\b\b\b\b\b\b\b\b\b\b\b\b\b\b\b\b\b\b\b\b\b\r255\/551 [============>.................] - ETA: 0s - loss: 0.3200 - accuracy: 0.8961\b\b\b\b\b\b\b\b\b\b\b\b\b\b\b\b\b\b\b\b\b\b\b\b\b\b\b\b\b\b\b\b\b\b\b\b\b\b\b\b\b\b\b\b\b\b\b\b\b\b\b\b\b\b\b\b\b\b\b\b\b\b\b\b\b\b\b\b\b\b\b\b\b\b\b\b\b\b\b\b\b\b\b\b\r281\/551 [==============>...............] - ETA: 0s - loss: 0.3100 - accuracy: 0.8998\b\b\b\b\b\b\b\b\b\b\b\b\b\b\b\b\b\b\b\b\b\b\b\b\b\b\b\b\b\b\b\b\b\b\b\b\b\b\b\b\b\b\b\b\b\b\b\b\b\b\b\b\b\b\b\b\b\b\b\b\b\b\b\b\b\b\b\b\b\b\b\b\b\b\b\b\b\b\b\b\b\b\b\b\r307\/551 [===============>..............] - ETA: 0s - loss: 0.3052 - accuracy: 0.9019\b\b\b\b\b\b\b\b\b\b\b\b\b\b\b\b\b\b\b\b\b\b\b\b\b\b\b\b\b\b\b\b\b\b\b\b\b\b\b\b\b\b\b\b\b\b\b\b\b\b\b\b\b\b\b\b\b\b\b\b\b\b\b\b\b\b\b\b\b\b\b\b\b\b\b\b\b\b\b\b\b\b\b\b\r331\/551 [=================>............] - ETA: 0s - loss: 0.2984 - accuracy: 0.9033\b\b\b\b\b\b\b\b\b\b\b\b\b\b\b\b\b\b\b\b\b\b\b\b\b\b\b\b\b\b\b\b\b\b\b\b\b\b\b\b\b\b\b\b\b\b\b\b\b\b\b\b\b\b\b\b\b\b\b\b\b\b\b\b\b\b\b\b\b\b\b\b\b\b\b\b\b\b\b\b\b\b\b\b\r356\/551 [==================>...........] - ETA: 0s - loss: 0.2938 - accuracy: 0.9054\b\b\b\b\b\b\b\b\b\b\b\b\b\b\b\b\b\b\b\b\b\b\b\b\b\b\b\b\b\b\b\b\b\b\b\b\b\b\b\b\b\b\b\b\b\b\b\b\b\b\b\b\b\b\b\b\b\b\b\b\b\b\b\b\b\b\b\b\b\b\b\b\b\b\b\b\b\b\b\b\b\b\b\b\r381\/551 [===================>..........] - ETA: 0s - loss: 0.2971 - accuracy: 0.9032\b\b\b\b\b\b\b\b\b\b\b\b\b\b\b\b\b\b\b\b\b\b\b\b\b\b\b\b\b\b\b\b\b\b\b\b\b\b\b\b\b\b\b\b\b\b\b\b\b\b\b\b\b\b\b\b\b\b\b\b\b\b\b\b\b\b\b\b\b\b\b\b\b\b\b\b\b\b\b\b\b\b\b\b\r408\/551 [=====================>........] - ETA: 0s - loss: 0.2939 - accuracy: 0.9048\b\b\b\b\b\b\b\b\b\b\b\b\b\b\b\b\b\b\b\b\b\b\b\b\b\b\b\b\b\b\b\b\b\b\b\b\b\b\b\b\b\b\b\b\b\b\b\b\b\b\b\b\b\b\b\b\b\b\b\b\b\b\b\b\b\b\b\b\b\b\b\b\b\b\b\b\b\b\b\b\b\b\b\b\r433\/551 [======================>.......] - ETA: 0s - loss: 0.2909 - accuracy: 0.9053\b\b\b\b\b\b\b\b\b\b\b\b\b\b\b\b\b\b\b\b\b\b\b\b\b\b\b\b\b\b\b\b\b\b\b\b\b\b\b\b\b\b\b\b\b\b\b\b\b\b\b\b\b\b\b\b\b\b\b\b\b\b\b\b\b\b\b\b\b\b\b\b\b\b\b\b\b\b\b\b\b\b\b\b\r458\/551 [=======================>......] - ETA: 0s - loss: 0.2933 - accuracy: 0.9035\b\b\b\b\b\b\b\b\b\b\b\b\b\b\b\b\b\b\b\b\b\b\b\b\b\b\b\b\b\b\b\b\b\b\b\b\b\b\b\b\b\b\b\b\b\b\b\b\b\b\b\b\b\b\b\b\b\b\b\b\b\b\b\b\b\b\b\b\b\b\b\b\b\b\b\b\b\b\b\b\b\b\b\b\r482\/551 [=========================>....] - ETA: 0s - loss: 0.2905 - accuracy: 0.9046\b\b\b\b\b\b\b\b\b\b\b\b\b\b\b\b\b\b\b\b\b\b\b\b\b\b\b\b\b\b\b\b\b\b\b\b\b\b\b\b\b\b\b\b\b\b\b\b\b\b\b\b\b\b\b\b\b\b\b\b\b\b\b\b\b\b\b\b\b\b\b\b\b\b\b\b\b\b\b\b\b\b\b\b\r508\/551 [==========================>...] - ETA: 0s - loss: 0.2873 - accuracy: 0.9053\b\b\b\b\b\b\b\b\b\b\b\b\b\b\b\b\b\b\b\b\b\b\b\b\b\b\b\b\b\b\b\b\b\b\b\b\b\b\b\b\b\b\b\b\b\b\b\b\b\b\b\b\b\b\b\b\b\b\b\b\b\b\b\b\b\b\b\b\b\b\b\b\b\b\b\b\b\b\b\b\b\b\b\b\r532\/551 [===========================>..] - ETA: 0s - loss: 0.2876 - accuracy: 0.9042\b\b\b\b\b\b\b\b\b\b\b\b\b\b\b\b\b\b\b\b\b\b\b\b\b\b\b\b\b\b\b\b\b\b\b\b\b\b\b\b\b\b\b\b\b\b\b\b\b\b\b\b\b\b\b\b\b\b\b\b\b\b\b\b\b\b\b\b\b\b\b\b\b\b\b\b\b\b\b\b\b\b\b\b\r551\/551 [==============================] - 2s 3ms\/step - loss: 0.2863 - accuracy: 0.9049 - val_loss: 3.3154 - val_accuracy: 0.5403\n",
      "Epoch 2\/1000\n",
      "\r  1\/551 [..............................] - ETA: 1s - loss: 0.3815 - accuracy: 0.8438\b\b\b\b\b\b\b\b\b\b\b\b\b\b\b\b\b\b\b\b\b\b\b\b\b\b\b\b\b\b\b\b\b\b\b\b\b\b\b\b\b\b\b\b\b\b\b\b\b\b\b\b\b\b\b\b\b\b\b\b\b\b\b\b\b\b\b\b\b\b\b\b\b\b\b\b\b\b\b\b\b\b\b\b\r 28\/551 [>.............................] - ETA: 0s - loss: 0.2155 - accuracy: 0.9330\b\b\b\b\b\b\b\b\b\b\b\b\b\b\b\b\b\b\b\b\b\b\b\b\b\b\b\b\b\b\b\b\b\b\b\b\b\b\b\b\b\b\b\b\b\b\b\b\b\b\b\b\b\b\b\b\b\b\b\b\b\b\b\b\b\b\b\b\b\b\b\b\b\b\b\b\b\b\b\b\b\b\b\b\r 52\/551 [=>............................] - ETA: 1s - loss: 0.3565 - accuracy: 0.9129\b\b\b\b\b\b\b\b\b\b\b\b\b\b\b\b\b\b\b\b\b\b\b\b\b\b\b\b\b\b\b\b\b\b\b\b\b\b\b\b\b\b\b\b\b\b\b\b\b\b\b\b\b\b\b\b\b\b\b\b\b\b\b\b\b\b\b\b\b\b\b\b\b\b\b\b\b\b\b\b\b\b\b\b\r 78\/551 [===>..........................] - ETA: 0s - loss: 0.3241 - accuracy: 0.9123\b\b\b\b\b\b\b\b\b\b\b\b\b\b\b\b\b\b\b\b\b\b\b\b\b\b\b\b\b\b\b\b\b\b\b\b\b\b\b\b\b\b\b\b\b\b\b\b\b\b\b\b\b\b\b\b\b\b\b\b\b\b\b\b\b\b\b\b\b\b\b\b\b\b\b\b\b\b\b\b\b\b\b\b\r103\/551 [====>.........................] - ETA: 0s - loss: 0.2952 - accuracy: 0.9160\b\b\b\b\b\b\b\b\b\b\b\b\b\b\b\b\b\b\b\b\b\b\b\b\b\b\b\b\b\b\b\b\b\b\b\b\b\b\b\b\b\b\b\b\b\b\b\b\b\b\b\b\b\b\b\b\b\b\b\b\b\b\b\b\b\b\b\b\b\b\b\b\b\b\b\b\b\b\b\b\b\b\b\b\r129\/551 [======>.......................] - ETA: 0s - loss: 0.2814 - accuracy: 0.9142\b\b\b\b\b\b\b\b\b\b\b\b\b\b\b\b\b\b\b\b\b\b\b\b\b\b\b\b\b\b\b\b\b\b\b\b\b\b\b\b\b\b\b\b\b\b\b\b\b\b\b\b\b\b\b\b\b\b\b\b\b\b\b\b\b\b\b\b\b\b\b\b\b\b\b\b\b\b\b\b\b\b\b\b\r154\/551 [=======>......................] - ETA: 0s - loss: 0.2694 - accuracy: 0.9158\b\b\b\b\b\b\b\b\b\b\b\b\b\b\b\b\b\b\b\b\b\b\b\b\b\b\b\b\b\b\b\b\b\b\b\b\b\b\b\b\b\b\b\b\b\b\b\b\b\b\b\b\b\b\b\b\b\b\b\b\b\b\b\b\b\b\b\b\b\b\b\b\b\b\b\b\b\b\b\b\b\b\b\b\r180\/551 [========>.....................] - ETA: 0s - loss: 0.2698 - accuracy: 0.9130\b\b\b\b\b\b\b\b\b\b\b\b\b\b\b\b\b\b\b\b\b\b\b\b\b\b\b\b\b\b\b\b\b\b\b\b\b\b\b\b\b\b\b\b\b\b\b\b\b\b\b\b\b\b\b\b\b\b\b\b\b\b\b\b\b\b\b\b\b\b\b\b\b\b\b\b\b\b\b\b\b\b\b\b\r205\/551 [==========>...................] - ETA: 0s - loss: 0.2755 - accuracy: 0.9091\b\b\b\b\b\b\b\b\b\b\b\b\b\b\b\b\b\b\b\b\b\b\b\b\b\b\b\b\b\b\b\b\b\b\b\b\b\b\b\b\b\b\b\b\b\b\b\b\b\b\b\b\b\b\b\b\b\b\b\b\b\b\b\b\b\b\b\b\b\b\b\b\b\b\b\b\b\b\b\b\b\b\b\b\r230\/551 [===========>..................] - ETA: 0s - loss: 0.2626 - accuracy: 0.9136\b\b\b\b\b\b\b\b\b\b\b\b\b\b\b\b\b\b\b\b\b\b\b\b\b\b\b\b\b\b\b\b\b\b\b\b\b\b\b\b\b\b\b\b\b\b\b\b\b\b\b\b\b\b\b\b\b\b\b\b\b\b\b\b\b\b\b\b\b\b\b\b\b\b\b\b\b\b\b\b\b\b\b\b\r254\/551 [============>.................] - ETA: 0s - loss: 0.2599 - accuracy: 0.9154\b\b\b\b\b\b\b\b\b\b\b\b\b\b\b\b\b\b\b\b\b\b\b\b\b\b\b\b\b\b\b\b\b\b\b\b\b\b\b\b\b\b\b\b\b\b\b\b\b\b\b\b\b\b\b\b\b\b\b\b\b\b\b\b\b\b\b\b\b\b\b\b\b\b\b\b\b\b\b\b\b\b\b\b\r279\/551 [==============>...............] - ETA: 0s - loss: 0.2638 - accuracy: 0.9131\b\b\b\b\b\b\b\b\b\b\b\b\b\b\b\b\b\b\b\b\b\b\b\b\b\b\b\b\b\b\b\b\b\b\b\b\b\b\b\b\b\b\b\b\b\b\b\b\b\b\b\b\b\b\b\b\b\b\b\b\b\b\b\b\b\b\b\b\b\b\b\b\b\b\b\b\b\b\b\b\b\b\b\b\r303\/551 [===============>..............] - ETA: 0s - loss: 0.2695 - accuracy: 0.9116\b\b\b\b\b\b\b\b\b\b\b\b\b\b\b\b\b\b\b\b\b\b\b\b\b\b\b\b\b\b\b\b\b\b\b\b\b\b\b\b\b\b\b\b\b\b\b\b\b\b\b\b\b\b\b\b\b\b\b\b\b\b\b\b\b\b\b\b\b\b\b\b\b\b\b\b\b\b\b\b\b\b\b\b\r329\/551 [================>.............] - ETA: 0s - loss: 0.2718 - accuracy: 0.9095\b\b\b\b\b\b\b\b\b\b\b\b\b\b\b\b\b\b\b\b\b\b\b\b\b\b\b\b\b\b\b\b\b\b\b\b\b\b\b\b\b\b\b\b\b\b\b\b\b\b\b\b\b\b\b\b\b\b\b\b\b\b\b\b\b\b\b\b\b\b\b\b\b\b\b\b\b\b\b\b\b\b\b\b\r353\/551 [==================>...........] - ETA: 0s - loss: 0.2691 - accuracy: 0.9103\b\b\b\b\b\b\b\b\b\b\b\b\b\b\b\b\b\b\b\b\b\b\b\b\b\b\b\b\b\b\b\b\b\b\b\b\b\b\b\b\b\b\b\b\b\b\b\b\b\b\b\b\b\b\b\b\b\b\b\b\b\b\b\b\b\b\b\b\b\b\b\b\b\b\b\b\b\b\b\b\b\b\b\b\r377\/551 [===================>..........] - ETA: 0s - loss: 0.2716 - accuracy: 0.9096\b\b\b\b\b\b\b\b\b\b\b\b\b\b\b\b\b\b\b\b\b\b\b\b\b\b\b\b\b\b\b\b\b\b\b\b\b\b\b\b\b\b\b\b\b\b\b\b\b\b\b\b\b\b\b\b\b\b\b\b\b\b\b\b\b\b\b\b\b\b\b\b\b\b\b\b\b\b\b\b\b\b\b\b\r402\/551 [====================>.........] - ETA: 0s - loss: 0.2722 - accuracy: 0.9093\b\b\b\b\b\b\b\b\b\b\b\b\b\b\b\b\b\b\b\b\b\b\b\b\b\b\b\b\b\b\b\b\b\b\b\b\b\b\b\b\b\b\b\b\b\b\b\b\b\b\b\b\b\b\b\b\b\b\b\b\b\b\b\b\b\b\b\b\b\b\b\b\b\b\b\b\b\b\b\b\b\b\b\b\r427\/551 [======================>.......] - ETA: 0s - loss: 0.2724 - accuracy: 0.9087\b\b\b\b\b\b\b\b\b\b\b\b\b\b\b\b\b\b\b\b\b\b\b\b\b\b\b\b\b\b\b\b\b\b\b\b\b\b\b\b\b\b\b\b\b\b\b\b\b\b\b\b\b\b\b\b\b\b\b\b\b\b\b\b\b\b\b\b\b\b\b\b\b\b\b\b\b\b\b\b\b\b\b\b\r451\/551 [=======================>......] - ETA: 0s - loss: 0.2713 - accuracy: 0.9091\b\b\b\b\b\b\b\b\b\b\b\b\b\b\b\b\b\b\b\b\b\b\b\b\b\b\b\b\b\b\b\b\b\b\b\b\b\b\b\b\b\b\b\b\b\b\b\b\b\b\b\b\b\b\b\b\b\b\b\b\b\b\b\b\b\b\b\b\b\b\b\b\b\b\b\b\b\b\b\b\b\b\b\b\r476\/551 [========================>.....] - ETA: 0s - loss: 0.2701 - accuracy: 0.9100\b\b\b\b\b\b\b\b\b\b\b\b\b\b\b\b\b\b\b\b\b\b\b\b\b\b\b\b\b\b\b\b\b\b\b\b\b\b\b\b\b\b\b\b\b\b\b\b\b\b\b\b\b\b\b\b\b\b\b\b\b\b\b\b\b\b\b\b\b\b\b\b\b\b\b\b\b\b\b\b\b\b\b\b\r500\/551 [==========================>...] - ETA: 0s - loss: 0.2708 - accuracy: 0.9095\b\b\b\b\b\b\b\b\b\b\b\b\b\b\b\b\b\b\b\b\b\b\b\b\b\b\b\b\b\b\b\b\b\b\b\b\b\b\b\b\b\b\b\b\b\b\b\b\b\b\b\b\b\b\b\b\b\b\b\b\b\b\b\b\b\b\b\b\b\b\b\b\b\b\b\b\b\b\b\b\b\b\b\b\r525\/551 [===========================>..] - ETA: 0s - loss: 0.2718 - accuracy: 0.9088\b\b\b\b\b\b\b\b\b\b\b\b\b\b\b\b\b\b\b\b\b\b\b\b\b\b\b\b\b\b\b\b\b\b\b\b\b\b\b\b\b\b\b\b\b\b\b\b\b\b\b\b\b\b\b\b\b\b\b\b\b\b\b\b\b\b\b\b\b\b\b\b\b\b\b\b\b\b\b\b\b\b\b\b\r550\/551 [============================>.] - ETA: 0s - loss: 0.2684 - accuracy: 0.9101\b\b\b\b\b\b\b\b\b\b\b\b\b\b\b\b\b\b\b\b\b\b\b\b\b\b\b\b\b\b\b\b\b\b\b\b\b\b\b\b\b\b\b\b\b\b\b\b\b\b\b\b\b\b\b\b\b\b\b\b\b\b\b\b\b\b\b\b\b\b\b\b\b\b\b\b\b\b\b\b\b\b\b\b\r551\/551 [==============================] - 1s 2ms\/step - loss: 0.2682 - accuracy: 0.9102 - val_loss: 0.0216 - val_accuracy: 1.0000\n",
      "Epoch 3\/1000\n",
      "\r  1\/551 [..............................] - ETA: 1s - loss: 0.2592 - accuracy: 0.9062\b\b\b\b\b\b\b\b\b\b\b\b\b\b\b\b\b\b\b\b\b\b\b\b\b\b\b\b\b\b\b\b\b\b\b\b\b\b\b\b\b\b\b\b\b\b\b\b\b\b\b\b\b\b\b\b\b\b\b\b\b\b\b\b\b\b\b\b\b\b\b\b\b\b\b\b\b\b\b\b\b\b\b\b\r 26\/551 [>.............................] - ETA: 1s - loss: 0.2423 - accuracy: 0.9075\b\b\b\b\b\b\b\b\b\b\b\b\b\b\b\b\b\b\b\b\b\b\b\b\b\b\b\b\b\b\b\b\b\b\b\b\b\b\b\b\b\b\b\b\b\b\b\b\b\b\b\b\b\b\b\b\b\b\b\b\b\b\b\b\b\b\b\b\b\b\b\b\b\b\b\b\b\b\b\b\b\b\b\b\r 52\/551 [=>............................] - ETA: 1s - loss: 0.2476 - accuracy: 0.9135\b\b\b\b\b\b\b\b\b\b\b\b\b\b\b\b\b\b\b\b\b\b\b\b\b\b\b\b\b\b\b\b\b\b\b\b\b\b\b\b\b\b\b\b\b\b\b\b\b\b\b\b\b\b\b\b\b\b\b\b\b\b\b\b\b\b\b\b\b\b\b\b\b\b\b\b\b\b\b\b\b\b\b\b\r 78\/551 [===>..........................] - ETA: 0s - loss: 0.2521 - accuracy: 0.9087\b\b\b\b\b\b\b\b\b\b\b\b\b\b\b\b\b\b\b\b\b\b\b\b\b\b\b\b\b\b\b\b\b\b\b\b\b\b\b\b\b\b\b\b\b\b\b\b\b\b\b\b\b\b\b\b\b\b\b\b\b\b\b\b\b\b\b\b\b\b\b\b\b\b\b\b\b\b\b\b\b\b\b\b\r104\/551 [====>.........................] - ETA: 0s - loss: 0.2599 - accuracy: 0.9066\b\b\b\b\b\b\b\b\b\b\b\b\b\b\b\b\b\b\b\b\b\b\b\b\b\b\b\b\b\b\b\b\b\b\b\b\b\b\b\b\b\b\b\b\b\b\b\b\b\b\b\b\b\b\b\b\b\b\b\b\b\b\b\b\b\b\b\b\b\b\b\b\b\b\b\b\b\b\b\b\b\b\b\b\r128\/551 [=====>........................] - ETA: 0s - loss: 0.2554 - accuracy: 0.9097\b\b\b\b\b\b\b\b\b\b\b\b\b\b\b\b\b\b\b\b\b\b\b\b\b\b\b\b\b\b\b\b\b\b\b\b\b\b\b\b\b\b\b\b\b\b\b\b\b\b\b\b\b\b\b\b\b\b\b\b\b\b\b\b\b\b\b\b\b\b\b\b\b\b\b\b\b\b\b\b\b\b\b\b\r153\/551 [=======>......................] - ETA: 0s - loss: 0.2592 - accuracy: 0.9077\b\b\b\b\b\b\b\b\b\b\b\b\b\b\b\b\b\b\b\b\b\b\b\b\b\b\b\b\b\b\b\b\b\b\b\b\b\b\b\b\b\b\b\b\b\b\b\b\b\b\b\b\b\b\b\b\b\b\b\b\b\b\b\b\b\b\b\b\b\b\b\b\b\b\b\b\b\b\b\b\b\b\b\b\r177\/551 [========>.....................] - ETA: 0s - loss: 0.2554 - accuracy: 0.9094\b\b\b\b\b\b\b\b\b\b\b\b\b\b\b\b\b\b\b\b\b\b\b\b\b\b\b\b\b\b\b\b\b\b\b\b\b\b\b\b\b\b\b\b\b\b\b\b\b\b\b\b\b\b\b\b\b\b\b\b\b\b\b\b\b\b\b\b\b\b\b\b\b\b\b\b\b\b\b\b\b\b\b\b\r203\/551 [==========>...................] - ETA: 0s - loss: 0.2697 - accuracy: 0.9049\b\b\b\b\b\b\b\b\b\b\b\b\b\b\b\b\b\b\b\b\b\b\b\b\b\b\b\b\b\b\b\b\b\b\b\b\b\b\b\b\b\b\b\b\b\b\b\b\b\b\b\b\b\b\b\b\b\b\b\b\b\b\b\b\b\b\b\b\b\b\b\b\b\b\b\b\b\b\b\b\b\b\b\b\r228\/551 [===========>..................] - ETA: 0s - loss: 0.2680 - accuracy: 0.9049\b\b\b\b\b\b\b\b\b\b\b\b\b\b\b\b\b\b\b\b\b\b\b\b\b\b\b\b\b\b\b\b\b\b\b\b\b\b\b\b\b\b\b\b\b\b\b\b\b\b\b\b\b\b\b\b\b\b\b\b\b\b\b\b\b\b\b\b\b\b\b\b\b\b\b\b\b\b\b\b\b\b\b\b\r253\/551 [============>.................] - ETA: 0s - loss: 0.2620 - accuracy: 0.9070\b\b\b\b\b\b\b\b\b\b\b\b\b\b\b\b\b\b\b\b\b\b\b\b\b\b\b\b\b\b\b\b\b\b\b\b\b\b\b\b\b\b\b\b\b\b\b\b\b\b\b\b\b\b\b\b\b\b\b\b\b\b\b\b\b\b\b\b\b\b\b\b\b\b\b\b\b\b\b\b\b\b\b\b\r278\/551 [==============>...............] - ETA: 0s - loss: 0.2563 - accuracy: 0.9093\b\b\b\b\b\b\b\b\b\b\b\b\b\b\b\b\b\b\b\b\b\b\b\b\b\b\b\b\b\b\b\b\b\b\b\b\b\b\b\b\b\b\b\b\b\b\b\b\b\b\b\b\b\b\b\b\b\b\b\b\b\b\b\b\b\b\b\b\b\b\b\b\b\b\b\b\b\b\b\b\b\b\b\b\r304\/551 [===============>..............] - ETA: 0s - loss: 0.2528 - accuracy: 0.9112\b\b\b\b\b\b\b\b\b\b\b\b\b\b\b\b\b\b\b\b\b\b\b\b\b\b\b\b\b\b\b\b\b\b\b\b\b\b\b\b\b\b\b\b\b\b\b\b\b\b\b\b\b\b\b\b\b\b\b\b\b\b\b\b\b\b\b\b\b\b\b\b\b\b\b\b\b\b\b\b\b\b\b\b\r329\/551 [================>.............] - ETA: 0s - loss: 0.2550 - accuracy: 0.9110\b\b\b\b\b\b\b\b\b\b\b\b\b\b\b\b\b\b\b\b\b\b\b\b\b\b\b\b\b\b\b\b\b\b\b\b\b\b\b\b\b\b\b\b\b\b\b\b\b\b\b\b\b\b\b\b\b\b\b\b\b\b\b\b\b\b\b\b\b\b\b\b\b\b\b\b\b\b\b\b\b\b\b\b\r355\/551 [==================>...........] - ETA: 0s - loss: 0.2570 - accuracy: 0.9109\b\b\b\b\b\b\b\b\b\b\b\b\b\b\b\b\b\b\b\b\b\b\b\b\b\b\b\b\b\b\b\b\b\b\b\b\b\b\b\b\b\b\b\b\b\b\b\b\b\b\b\b\b\b\b\b\b\b\b\b\b\b\b\b\b\b\b\b\b\b\b\b\b\b\b\b\b\b\b\b\b\b\b\b\r379\/551 [===================>..........] - ETA: 0s - loss: 0.2547 - accuracy: 0.9117\b\b\b\b\b\b\b\b\b\b\b\b\b\b\b\b\b\b\b\b\b\b\b\b\b\b\b\b\b\b\b\b\b\b\b\b\b\b\b\b\b\b\b\b\b\b\b\b\b\b\b\b\b\b\b\b\b\b\b\b\b\b\b\b\b\b\b\b\b\b\b\b\b\b\b\b\b\b\b\b\b\b\b\b\r404\/551 [====================>.........] - ETA: 0s - loss: 0.2543 - accuracy: 0.9114\b\b\b\b\b\b\b\b\b\b\b\b\b\b\b\b\b\b\b\b\b\b\b\b\b\b\b\b\b\b\b\b\b\b\b\b\b\b\b\b\b\b\b\b\b\b\b\b\b\b\b\b\b\b\b\b\b\b\b\b\b\b\b\b\b\b\b\b\b\b\b\b\b\b\b\b\b\b\b\b\b\b\b\b\r429\/551 [======================>.......] - ETA: 0s - loss: 0.2546 - accuracy: 0.9111\b\b\b\b\b\b\b\b\b\b\b\b\b\b\b\b\b\b\b\b\b\b\b\b\b\b\b\b\b\b\b\b\b\b\b\b\b\b\b\b\b\b\b\b\b\b\b\b\b\b\b\b\b\b\b\b\b\b\b\b\b\b\b\b\b\b\b\b\b\b\b\b\b\b\b\b\b\b\b\b\b\b\b\b\r455\/551 [=======================>......] - ETA: 0s - loss: 0.2554 - accuracy: 0.9111\b\b\b\b\b\b\b\b\b\b\b\b\b\b\b\b\b\b\b\b\b\b\b\b\b\b\b\b\b\b\b\b\b\b\b\b\b\b\b\b\b\b\b\b\b\b\b\b\b\b\b\b\b\b\b\b\b\b\b\b\b\b\b\b\b\b\b\b\b\b\b\b\b\b\b\b\b\b\b\b\b\b\b\b\r480\/551 [=========================>....] - ETA: 0s - loss: 0.2546 - accuracy: 0.9116\b\b\b\b\b\b\b\b\b\b\b\b\b\b\b\b\b\b\b\b\b\b\b\b\b\b\b\b\b\b\b\b\b\b\b\b\b\b\b\b\b\b\b\b\b\b\b\b\b\b\b\b\b\b\b\b\b\b\b\b\b\b\b\b\b\b\b\b\b\b\b\b\b\b\b\b\b\b\b\b\b\b\b\b\r506\/551 [==========================>...] - ETA: 0s - loss: 0.2574 - accuracy: 0.9108\b\b\b\b\b\b\b\b\b\b\b\b\b\b\b\b\b\b\b\b\b\b\b\b\b\b\b\b\b\b\b\b\b\b\b\b\b\b\b\b\b\b\b\b\b\b\b\b\b\b\b\b\b\b\b\b\b\b\b\b\b\b\b\b\b\b\b\b\b\b\b\b\b\b\b\b\b\b\b\b\b\b\b\b\r531\/551 [===========================>..] - ETA: 0s - loss: 0.2583 - accuracy: 0.9109\b\b\b\b\b\b\b\b\b\b\b\b\b\b\b\b\b\b\b\b\b\b\b\b\b\b\b\b\b\b\b\b\b\b\b\b\b\b\b\b\b\b\b\b\b\b\b\b\b\b\b\b\b\b\b\b\b\b\b\b\b\b\b\b\b\b\b\b\b\b\b\b\b\b\b\b\b\b\b\b\b\b\b\b\r551\/551 [==============================] - 1s 3ms\/step - loss: 0.2578 - accuracy: 0.9111 - val_loss: 0.0552 - val_accuracy: 0.9989\n",
      "Epoch 4\/1000\n",
      "\r  1\/551 [..............................] - ETA: 2s - loss: 0.2785 - accuracy: 0.9062\b\b\b\b\b\b\b\b\b\b\b\b\b\b\b\b\b\b\b\b\b\b\b\b\b\b\b\b\b\b\b\b\b\b\b\b\b\b\b\b\b\b\b\b\b\b\b\b\b\b\b\b\b\b\b\b\b\b\b\b\b\b\b\b\b\b\b\b\b\b\b\b\b\b\b\b\b\b\b\b\b\b\b\b\r 26\/551 [>.............................] - ETA: 1s - loss: 0.3087 - accuracy: 0.9159\b\b\b\b\b\b\b\b\b\b\b\b\b\b\b\b\b\b\b\b\b\b\b\b\b\b\b\b\b\b\b\b\b\b\b\b\b\b\b\b\b\b\b\b\b\b\b\b\b\b\b\b\b\b\b\b\b\b\b\b\b\b\b\b\b\b\b\b\b\b\b\b\b\b\b\b\b\b\b\b\b\b\b\b\r 51\/551 [=>............................] - ETA: 1s - loss: 0.3002 - accuracy: 0.9081\b\b\b\b\b\b\b\b\b\b\b\b\b\b\b\b\b\b\b\b\b\b\b\b\b\b\b\b\b\b\b\b\b\b\b\b\b\b\b\b\b\b\b\b\b\b\b\b\b\b\b\b\b\b\b\b\b\b\b\b\b\b\b\b\b\b\b\b\b\b\b\b\b\b\b\b\b\b\b\b\b\b\b\b\r 76\/551 [===>..........................] - ETA: 0s - loss: 0.2731 - accuracy: 0.9124\b\b\b\b\b\b\b\b\b\b\b\b\b\b\b\b\b\b\b\b\b\b\b\b\b\b\b\b\b\b\b\b\b\b\b\b\b\b\b\b\b\b\b\b\b\b\b\b\b\b\b\b\b\b\b\b\b\b\b\b\b\b\b\b\b\b\b\b\b\b\b\b\b\b\b\b\b\b\b\b\b\b\b\b\r101\/551 [====>.........................] - ETA: 0s - loss: 0.2623 - accuracy: 0.9149\b\b\b\b\b\b\b\b\b\b\b\b\b\b\b\b\b\b\b\b\b\b\b\b\b\b\b\b\b\b\b\b\b\b\b\b\b\b\b\b\b\b\b\b\b\b\b\b\b\b\b\b\b\b\b\b\b\b\b\b\b\b\b\b\b\b\b\b\b\b\b\b\b\b\b\b\b\b\b\b\b\b\b\b\r126\/551 [=====>........................] - ETA: 0s - loss: 0.2613 - accuracy: 0.9142\b\b\b\b\b\b\b\b\b\b\b\b\b\b\b\b\b\b\b\b\b\b\b\b\b\b\b\b\b\b\b\b\b\b\b\b\b\b\b\b\b\b\b\b\b\b\b\b\b\b\b\b\b\b\b\b\b\b\b\b\b\b\b\b\b\b\b\b\b\b\b\b\b\b\b\b\b\b\b\b\b\b\b\b\r151\/551 [=======>......................] - ETA: 0s - loss: 0.2523 - accuracy: 0.9168\b\b\b\b\b\b\b\b\b\b\b\b\b\b\b\b\b\b\b\b\b\b\b\b\b\b\b\b\b\b\b\b\b\b\b\b\b\b\b\b\b\b\b\b\b\b\b\b\b\b\b\b\b\b\b\b\b\b\b\b\b\b\b\b\b\b\b\b\b\b\b\b\b\b\b\b\b\b\b\b\b\b\b\b\r177\/551 [========>.....................] - ETA: 0s - loss: 0.2557 - accuracy: 0.9158\b\b\b\b\b\b\b\b\b\b\b\b\b\b\b\b\b\b\b\b\b\b\b\b\b\b\b\b\b\b\b\b\b\b\b\b\b\b\b\b\b\b\b\b\b\b\b\b\b\b\b\b\b\b\b\b\b\b\b\b\b\b\b\b\b\b\b\b\b\b\b\b\b\b\b\b\b\b\b\b\b\b\b\b\r203\/551 [==========>...................] - ETA: 0s - loss: 0.2522 - accuracy: 0.9172\b\b\b\b\b\b\b\b\b\b\b\b\b\b\b\b\b\b\b\b\b\b\b\b\b\b\b\b\b\b\b\b\b\b\b\b\b\b\b\b\b\b\b\b\b\b\b\b\b\b\b\b\b\b\b\b\b\b\b\b\b\b\b\b\b\b\b\b\b\b\b\b\b\b\b\b\b\b\b\b\b\b\b\b\r230\/551 [===========>..................] - ETA: 0s - loss: 0.2484 - accuracy: 0.9179\b\b\b\b\b\b\b\b\b\b\b\b\b\b\b\b\b\b\b\b\b\b\b\b\b\b\b\b\b\b\b\b\b\b\b\b\b\b\b\b\b\b\b\b\b\b\b\b\b\b\b\b\b\b\b\b\b\b\b\b\b\b\b\b\b\b\b\b\b\b\b\b\b\b\b\b\b\b\b\b\b\b\b\b\r254\/551 [============>.................] - ETA: 0s - loss: 0.2455 - accuracy: 0.9188\b\b\b\b\b\b\b\b\b\b\b\b\b\b\b\b\b\b\b\b\b\b\b\b\b\b\b\b\b\b\b\b\b\b\b\b\b\b\b\b\b\b\b\b\b\b\b\b\b\b\b\b\b\b\b\b\b\b\b\b\b\b\b\b\b\b\b\b\b\b\b\b\b\b\b\b\b\b\b\b\b\b\b\b\r281\/551 [==============>...............] - ETA: 0s - loss: 0.2505 - accuracy: 0.9165\b\b\b\b\b\b\b\b\b\b\b\b\b\b\b\b\b\b\b\b\b\b\b\b\b\b\b\b\b\b\b\b\b\b\b\b\b\b\b\b\b\b\b\b\b\b\b\b\b\b\b\b\b\b\b\b\b\b\b\b\b\b\b\b\b\b\b\b\b\b\b\b\b\b\b\b\b\b\b\b\b\b\b\b\r306\/551 [===============>..............] - ETA: 0s - loss: 0.2504 - accuracy: 0.9151\b\b\b\b\b\b\b\b\b\b\b\b\b\b\b\b\b\b\b\b\b\b\b\b\b\b\b\b\b\b\b\b\b\b\b\b\b\b\b\b\b\b\b\b\b\b\b\b\b\b\b\b\b\b\b\b\b\b\b\b\b\b\b\b\b\b\b\b\b\b\b\b\b\b\b\b\b\b\b\b\b\b\b\b\r332\/551 [=================>............] - ETA: 0s - loss: 0.2491 - accuracy: 0.9156\b\b\b\b\b\b\b\b\b\b\b\b\b\b\b\b\b\b\b\b\b\b\b\b\b\b\b\b\b\b\b\b\b\b\b\b\b\b\b\b\b\b\b\b\b\b\b\b\b\b\b\b\b\b\b\b\b\b\b\b\b\b\b\b\b\b\b\b\b\b\b\b\b\b\b\b\b\b\b\b\b\b\b\b\r358\/551 [==================>...........] - ETA: 0s - loss: 0.2521 - accuracy: 0.9139\b\b\b\b\b\b\b\b\b\b\b\b\b\b\b\b\b\b\b\b\b\b\b\b\b\b\b\b\b\b\b\b\b\b\b\b\b\b\b\b\b\b\b\b\b\b\b\b\b\b\b\b\b\b\b\b\b\b\b\b\b\b\b\b\b\b\b\b\b\b\b\b\b\b\b\b\b\b\b\b\b\b\b\b\r383\/551 [===================>..........] - ETA: 0s - loss: 0.2519 - accuracy: 0.9139\b\b\b\b\b\b\b\b\b\b\b\b\b\b\b\b\b\b\b\b\b\b\b\b\b\b\b\b\b\b\b\b\b\b\b\b\b\b\b\b\b\b\b\b\b\b\b\b\b\b\b\b\b\b\b\b\b\b\b\b\b\b\b\b\b\b\b\b\b\b\b\b\b\b\b\b\b\b\b\b\b\b\b\b\r409\/551 [=====================>........] - ETA: 0s - loss: 0.2513 - accuracy: 0.9143\b\b\b\b\b\b\b\b\b\b\b\b\b\b\b\b\b\b\b\b\b\b\b\b\b\b\b\b\b\b\b\b\b\b\b\b\b\b\b\b\b\b\b\b\b\b\b\b\b\b\b\b\b\b\b\b\b\b\b\b\b\b\b\b\b\b\b\b\b\b\b\b\b\b\b\b\b\b\b\b\b\b\b\b\r433\/551 [======================>.......] - ETA: 0s - loss: 0.2532 - accuracy: 0.9134\b\b\b\b\b\b\b\b\b\b\b\b\b\b\b\b\b\b\b\b\b\b\b\b\b\b\b\b\b\b\b\b\b\b\b\b\b\b\b\b\b\b\b\b\b\b\b\b\b\b\b\b\b\b\b\b\b\b\b\b\b\b\b\b\b\b\b\b\b\b\b\b\b\b\b\b\b\b\b\b\b\b\b\b\r459\/551 [=======================>......] - ETA: 0s - loss: 0.2507 - accuracy: 0.9143\b\b\b\b\b\b\b\b\b\b\b\b\b\b\b\b\b\b\b\b\b\b\b\b\b\b\b\b\b\b\b\b\b\b\b\b\b\b\b\b\b\b\b\b\b\b\b\b\b\b\b\b\b\b\b\b\b\b\b\b\b\b\b\b\b\b\b\b\b\b\b\b\b\b\b\b\b\b\b\b\b\b\b\b\r483\/551 [=========================>....] - ETA: 0s - loss: 0.2512 - accuracy: 0.9142\b\b\b\b\b\b\b\b\b\b\b\b\b\b\b\b\b\b\b\b\b\b\b\b\b\b\b\b\b\b\b\b\b\b\b\b\b\b\b\b\b\b\b\b\b\b\b\b\b\b\b\b\b\b\b\b\b\b\b\b\b\b\b\b\b\b\b\b\b\b\b\b\b\b\b\b\b\b\b\b\b\b\b\b\r507\/551 [==========================>...] - ETA: 0s - loss: 0.2514 - accuracy: 0.9140\b\b\b\b\b\b\b\b\b\b\b\b\b\b\b\b\b\b\b\b\b\b\b\b\b\b\b\b\b\b\b\b\b\b\b\b\b\b\b\b\b\b\b\b\b\b\b\b\b\b\b\b\b\b\b\b\b\b\b\b\b\b\b\b\b\b\b\b\b\b\b\b\b\b\b\b\b\b\b\b\b\b\b\b\r531\/551 [===========================>..] - ETA: 0s - loss: 0.2499 - accuracy: 0.9144\b\b\b\b\b\b\b\b\b\b\b\b\b\b\b\b\b\b\b\b\b\b\b\b\b\b\b\b\b\b\b\b\b\b\b\b\b\b\b\b\b\b\b\b\b\b\b\b\b\b\b\b\b\b\b\b\b\b\b\b\b\b\b\b\b\b\b\b\b\b\b\b\b\b\b\b\b\b\b\b\b\b\b\b\r551\/551 [==============================] - 1s 2ms\/step - loss: 0.2494 - accuracy: 0.9145 - val_loss: 0.1013 - val_accuracy: 0.9603\n",
      "Epoch 5\/1000\n",
      "\r  1\/551 [..............................] - ETA: 1s - loss: 0.2306 - accuracy: 0.9062\b\b\b\b\b\b\b\b\b\b\b\b\b\b\b\b\b\b\b\b\b\b\b\b\b\b\b\b\b\b\b\b\b\b\b\b\b\b\b\b\b\b\b\b\b\b\b\b\b\b\b\b\b\b\b\b\b\b\b\b\b\b\b\b\b\b\b\b\b\b\b\b\b\b\b\b\b\b\b\b\b\b\b\b\r 26\/551 [>.............................] - ETA: 1s - loss: 0.2621 - accuracy: 0.8990\b\b\b\b\b\b\b\b\b\b\b\b\b\b\b\b\b\b\b\b\b\b\b\b\b\b\b\b\b\b\b\b\b\b\b\b\b\b\b\b\b\b\b\b\b\b\b\b\b\b\b\b\b\b\b\b\b\b\b\b\b\b\b\b\b\b\b\b\b\b\b\b\b\b\b\b\b\b\b\b\b\b\b\b\r 51\/551 [=>............................] - ETA: 1s - loss: 0.2572 - accuracy: 0.9044\b\b\b\b\b\b\b\b\b\b\b\b\b\b\b\b\b\b\b\b\b\b\b\b\b\b\b\b\b\b\b\b\b\b\b\b\b\b\b\b\b\b\b\b\b\b\b\b\b\b\b\b\b\b\b\b\b\b\b\b\b\b\b\b\b\b\b\b\b\b\b\b\b\b\b\b\b\b\b\b\b\b\b\b\r 76\/551 [===>..........................] - ETA: 0s - loss: 0.2761 - accuracy: 0.9038\b\b\b\b\b\b\b\b\b\b\b\b\b\b\b\b\b\b\b\b\b\b\b\b\b\b\b\b\b\b\b\b\b\b\b\b\b\b\b\b\b\b\b\b\b\b\b\b\b\b\b\b\b\b\b\b\b\b\b\b\b\b\b\b\b\b\b\b\b\b\b\b\b\b\b\b\b\b\b\b\b\b\b\b\r101\/551 [====>.........................] - ETA: 0s - loss: 0.2976 - accuracy: 0.8979\b\b\b\b\b\b\b\b\b\b\b\b\b\b\b\b\b\b\b\b\b\b\b\b\b\b\b\b\b\b\b\b\b\b\b\b\b\b\b\b\b\b\b\b\b\b\b\b\b\b\b\b\b\b\b\b\b\b\b\b\b\b\b\b\b\b\b\b\b\b\b\b\b\b\b\b\b\b\b\b\b\b\b\b\r125\/551 [=====>........................] - ETA: 0s - loss: 0.2972 - accuracy: 0.8967\b\b\b\b\b\b\b\b\b\b\b\b\b\b\b\b\b\b\b\b\b\b\b\b\b\b\b\b\b\b\b\b\b\b\b\b\b\b\b\b\b\b\b\b\b\b\b\b\b\b\b\b\b\b\b\b\b\b\b\b\b\b\b\b\b\b\b\b\b\b\b\b\b\b\b\b\b\b\b\b\b\b\b\b\r151\/551 [=======>......................] - ETA: 0s - loss: 0.2852 - accuracy: 0.9015\b\b\b\b\b\b\b\b\b\b\b\b\b\b\b\b\b\b\b\b\b\b\b\b\b\b\b\b\b\b\b\b\b\b\b\b\b\b\b\b\b\b\b\b\b\b\b\b\b\b\b\b\b\b\b\b\b\b\b\b\b\b\b\b\b\b\b\b\b\b\b\b\b\b\b\b\b\b\b\b\b\b\b\b\r176\/551 [========>.....................] - ETA: 0s - loss: 0.2797 - accuracy: 0.9047\b\b\b\b\b\b\b\b\b\b\b\b\b\b\b\b\b\b\b\b\b\b\b\b\b\b\b\b\b\b\b\b\b\b\b\b\b\b\b\b\b\b\b\b\b\b\b\b\b\b\b\b\b\b\b\b\b\b\b\b\b\b\b\b\b\b\b\b\b\b\b\b\b\b\b\b\b\b\b\b\b\b\b\b\r203\/551 [==========>...................] - ETA: 0s - loss: 0.2835 - accuracy: 0.9038\b\b\b\b\b\b\b\b\b\b\b\b\b\b\b\b\b\b\b\b\b\b\b\b\b\b\b\b\b\b\b\b\b\b\b\b\b\b\b\b\b\b\b\b\b\b\b\b\b\b\b\b\b\b\b\b\b\b\b\b\b\b\b\b\b\b\b\b\b\b\b\b\b\b\b\b\b\b\b\b\b\b\b\b\r229\/551 [===========>..................] - ETA: 0s - loss: 0.2773 - accuracy: 0.9060\b\b\b\b\b\b\b\b\b\b\b\b\b\b\b\b\b\b\b\b\b\b\b\b\b\b\b\b\b\b\b\b\b\b\b\b\b\b\b\b\b\b\b\b\b\b\b\b\b\b\b\b\b\b\b\b\b\b\b\b\b\b\b\b\b\b\b\b\b\b\b\b\b\b\b\b\b\b\b\b\b\b\b\b\r255\/551 [============>.................] - ETA: 0s - loss: 0.2704 - accuracy: 0.9087\b\b\b\b\b\b\b\b\b\b\b\b\b\b\b\b\b\b\b\b\b\b\b\b\b\b\b\b\b\b\b\b\b\b\b\b\b\b\b\b\b\b\b\b\b\b\b\b\b\b\b\b\b\b\b\b\b\b\b\b\b\b\b\b\b\b\b\b\b\b\b\b\b\b\b\b\b\b\b\b\b\b\b\b\r280\/551 [==============>...............] - ETA: 0s - loss: 0.2624 - accuracy: 0.9118\b\b\b\b\b\b\b\b\b\b\b\b\b\b\b\b\b\b\b\b\b\b\b\b\b\b\b\b\b\b\b\b\b\b\b\b\b\b\b\b\b\b\b\b\b\b\b\b\b\b\b\b\b\b\b\b\b\b\b\b\b\b\b\b\b\b\b\b\b\b\b\b\b\b\b\b\b\b\b\b\b\b\b\b\r305\/551 [===============>..............] - ETA: 0s - loss: 0.2610 - accuracy: 0.9105\b\b\b\b\b\b\b\b\b\b\b\b\b\b\b\b\b\b\b\b\b\b\b\b\b\b\b\b\b\b\b\b\b\b\b\b\b\b\b\b\b\b\b\b\b\b\b\b\b\b\b\b\b\b\b\b\b\b\b\b\b\b\b\b\b\b\b\b\b\b\b\b\b\b\b\b\b\b\b\b\b\b\b\b\r329\/551 [================>.............] - ETA: 0s - loss: 0.2594 - accuracy: 0.9108\b\b\b\b\b\b\b\b\b\b\b\b\b\b\b\b\b\b\b\b\b\b\b\b\b\b\b\b\b\b\b\b\b\b\b\b\b\b\b\b\b\b\b\b\b\b\b\b\b\b\b\b\b\b\b\b\b\b\b\b\b\b\b\b\b\b\b\b\b\b\b\b\b\b\b\b\b\b\b\b\b\b\b\b\r355\/551 [==================>...........] - ETA: 0s - loss: 0.2581 - accuracy: 0.9119\b\b\b\b\b\b\b\b\b\b\b\b\b\b\b\b\b\b\b\b\b\b\b\b\b\b\b\b\b\b\b\b\b\b\b\b\b\b\b\b\b\b\b\b\b\b\b\b\b\b\b\b\b\b\b\b\b\b\b\b\b\b\b\b\b\b\b\b\b\b\b\b\b\b\b\b\b\b\b\b\b\b\b\b\r379\/551 [===================>..........] - ETA: 0s - loss: 0.2586 - accuracy: 0.9125\b\b\b\b\b\b\b\b\b\b\b\b\b\b\b\b\b\b\b\b\b\b\b\b\b\b\b\b\b\b\b\b\b\b\b\b\b\b\b\b\b\b\b\b\b\b\b\b\b\b\b\b\b\b\b\b\b\b\b\b\b\b\b\b\b\b\b\b\b\b\b\b\b\b\b\b\b\b\b\b\b\b\b\b\r405\/551 [=====================>........] - ETA: 0s - loss: 0.2574 - accuracy: 0.9127\b\b\b\b\b\b\b\b\b\b\b\b\b\b\b\b\b\b\b\b\b\b\b\b\b\b\b\b\b\b\b\b\b\b\b\b\b\b\b\b\b\b\b\b\b\b\b\b\b\b\b\b\b\b\b\b\b\b\b\b\b\b\b\b\b\b\b\b\b\b\b\b\b\b\b\b\b\b\b\b\b\b\b\b\r430\/551 [======================>.......] - ETA: 0s - loss: 0.2576 - accuracy: 0.9132\b\b\b\b\b\b\b\b\b\b\b\b\b\b\b\b\b\b\b\b\b\b\b\b\b\b\b\b\b\b\b\b\b\b\b\b\b\b\b\b\b\b\b\b\b\b\b\b\b\b\b\b\b\b\b\b\b\b\b\b\b\b\b\b\b\b\b\b\b\b\b\b\b\b\b\b\b\b\b\b\b\b\b\b\r456\/551 [=======================>......] - ETA: 0s - loss: 0.2527 - accuracy: 0.9145\b\b\b\b\b\b\b\b\b\b\b\b\b\b\b\b\b\b\b\b\b\b\b\b\b\b\b\b\b\b\b\b\b\b\b\b\b\b\b\b\b\b\b\b\b\b\b\b\b\b\b\b\b\b\b\b\b\b\b\b\b\b\b\b\b\b\b\b\b\b\b\b\b\b\b\b\b\b\b\b\b\b\b\b\r482\/551 [=========================>....] - ETA: 0s - loss: 0.2507 - accuracy: 0.9147\b\b\b\b\b\b\b\b\b\b\b\b\b\b\b\b\b\b\b\b\b\b\b\b\b\b\b\b\b\b\b\b\b\b\b\b\b\b\b\b\b\b\b\b\b\b\b\b\b\b\b\b\b\b\b\b\b\b\b\b\b\b\b\b\b\b\b\b\b\b\b\b\b\b\b\b\b\b\b\b\b\b\b\b\r508\/551 [==========================>...] - ETA: 0s - loss: 0.2499 - accuracy: 0.9145\b\b\b\b\b\b\b\b\b\b\b\b\b\b\b\b\b\b\b\b\b\b\b\b\b\b\b\b\b\b\b\b\b\b\b\b\b\b\b\b\b\b\b\b\b\b\b\b\b\b\b\b\b\b\b\b\b\b\b\b\b\b\b\b\b\b\b\b\b\b\b\b\b\b\b\b\b\b\b\b\b\b\b\b\r533\/551 [============================>.] - ETA: 0s - loss: 0.2495 - accuracy: 0.9152\b\b\b\b\b\b\b\b\b\b\b\b\b\b\b\b\b\b\b\b\b\b\b\b\b\b\b\b\b\b\b\b\b\b\b\b\b\b\b\b\b\b\b\b\b\b\b\b\b\b\b\b\b\b\b\b\b\b\b\b\b\b\b\b\b\b\b\b\b\b\b\b\b\b\b\b\b\b\b\b\b\b\b\b\r551\/551 [==============================] - 1s 2ms\/step - loss: 0.2484 - accuracy: 0.9156 - val_loss: 0.0744 - val_accuracy: 0.9741\n",
      "Epoch 6\/1000\n",
      "\r  1\/551 [..............................] - ETA: 1s - loss: 0.3270 - accuracy: 0.8750\b\b\b\b\b\b\b\b\b\b\b\b\b\b\b\b\b\b\b\b\b\b\b\b\b\b\b\b\b\b\b\b\b\b\b\b\b\b\b\b\b\b\b\b\b\b\b\b\b\b\b\b\b\b\b\b\b\b\b\b\b\b\b\b\b\b\b\b\b\b\b\b\b\b\b\b\b\b\b\b\b\b\b\b\r 27\/551 [>.............................] - ETA: 1s - loss: 0.2193 - accuracy: 0.9155\b\b\b\b\b\b\b\b\b\b\b\b\b\b\b\b\b\b\b\b\b\b\b\b\b\b\b\b\b\b\b\b\b\b\b\b\b\b\b\b\b\b\b\b\b\b\b\b\b\b\b\b\b\b\b\b\b\b\b\b\b\b\b\b\b\b\b\b\b\b\b\b\b\b\b\b\b\b\b\b\b\b\b\b\r 52\/551 [=>............................] - ETA: 0s - loss: 0.2241 - accuracy: 0.9159\b\b\b\b\b\b\b\b\b\b\b\b\b\b\b\b\b\b\b\b\b\b\b\b\b\b\b\b\b\b\b\b\b\b\b\b\b\b\b\b\b\b\b\b\b\b\b\b\b\b\b\b\b\b\b\b\b\b\b\b\b\b\b\b\b\b\b\b\b\b\b\b\b\b\b\b\b\b\b\b\b\b\b\b\r 78\/551 [===>..........................] - ETA: 0s - loss: 0.2271 - accuracy: 0.9183\b\b\b\b\b\b\b\b\b\b\b\b\b\b\b\b\b\b\b\b\b\b\b\b\b\b\b\b\b\b\b\b\b\b\b\b\b\b\b\b\b\b\b\b\b\b\b\b\b\b\b\b\b\b\b\b\b\b\b\b\b\b\b\b\b\b\b\b\b\b\b\b\b\b\b\b\b\b\b\b\b\b\b\b\r102\/551 [====>.........................] - ETA: 0s - loss: 0.2257 - accuracy: 0.9185\b\b\b\b\b\b\b\b\b\b\b\b\b\b\b\b\b\b\b\b\b\b\b\b\b\b\b\b\b\b\b\b\b\b\b\b\b\b\b\b\b\b\b\b\b\b\b\b\b\b\b\b\b\b\b\b\b\b\b\b\b\b\b\b\b\b\b\b\b\b\b\b\b\b\b\b\b\b\b\b\b\b\b\b\r127\/551 [=====>........................] - ETA: 0s - loss: 0.2274 - accuracy: 0.9190\b\b\b\b\b\b\b\b\b\b\b\b\b\b\b\b\b\b\b\b\b\b\b\b\b\b\b\b\b\b\b\b\b\b\b\b\b\b\b\b\b\b\b\b\b\b\b\b\b\b\b\b\b\b\b\b\b\b\b\b\b\b\b\b\b\b\b\b\b\b\b\b\b\b\b\b\b\b\b\b\b\b\b\b\r151\/551 [=======>......................] - ETA: 0s - loss: 0.2285 - accuracy: 0.9180\b\b\b\b\b\b\b\b\b\b\b\b\b\b\b\b\b\b\b\b\b\b\b\b\b\b\b\b\b\b\b\b\b\b\b\b\b\b\b\b\b\b\b\b\b\b\b\b\b\b\b\b\b\b\b\b\b\b\b\b\b\b\b\b\b\b\b\b\b\b\b\b\b\b\b\b\b\b\b\b\b\b\b\b\r176\/551 [========>.....................] - ETA: 0s - loss: 0.2231 - accuracy: 0.9201\b\b\b\b\b\b\b\b\b\b\b\b\b\b\b\b\b\b\b\b\b\b\b\b\b\b\b\b\b\b\b\b\b\b\b\b\b\b\b\b\b\b\b\b\b\b\b\b\b\b\b\b\b\b\b\b\b\b\b\b\b\b\b\b\b\b\b\b\b\b\b\b\b\b\b\b\b\b\b\b\b\b\b\b\r200\/551 [=========>....................] - ETA: 0s - loss: 0.2283 - accuracy: 0.9187\b\b\b\b\b\b\b\b\b\b\b\b\b\b\b\b\b\b\b\b\b\b\b\b\b\b\b\b\b\b\b\b\b\b\b\b\b\b\b\b\b\b\b\b\b\b\b\b\b\b\b\b\b\b\b\b\b\b\b\b\b\b\b\b\b\b\b\b\b\b\b\b\b\b\b\b\b\b\b\b\b\b\b\b\r226\/551 [===========>..................] - ETA: 0s - loss: 0.2311 - accuracy: 0.9190\b\b\b\b\b\b\b\b\b\b\b\b\b\b\b\b\b\b\b\b\b\b\b\b\b\b\b\b\b\b\b\b\b\b\b\b\b\b\b\b\b\b\b\b\b\b\b\b\b\b\b\b\b\b\b\b\b\b\b\b\b\b\b\b\b\b\b\b\b\b\b\b\b\b\b\b\b\b\b\b\b\b\b\b\r250\/551 [============>.................] - ETA: 0s - loss: 0.2326 - accuracy: 0.9194\b\b\b\b\b\b\b\b\b\b\b\b\b\b\b\b\b\b\b\b\b\b\b\b\b\b\b\b\b\b\b\b\b\b\b\b\b\b\b\b\b\b\b\b\b\b\b\b\b\b\b\b\b\b\b\b\b\b\b\b\b\b\b\b\b\b\b\b\b\b\b\b\b\b\b\b\b\b\b\b\b\b\b\b\r275\/551 [=============>................] - ETA: 0s - loss: 0.2332 - accuracy: 0.9189\b\b\b\b\b\b\b\b\b\b\b\b\b\b\b\b\b\b\b\b\b\b\b\b\b\b\b\b\b\b\b\b\b\b\b\b\b\b\b\b\b\b\b\b\b\b\b\b\b\b\b\b\b\b\b\b\b\b\b\b\b\b\b\b\b\b\b\b\b\b\b\b\b\b\b\b\b\b\b\b\b\b\b\b\r299\/551 [===============>..............] - ETA: 0s - loss: 0.2374 - accuracy: 0.9179\b\b\b\b\b\b\b\b\b\b\b\b\b\b\b\b\b\b\b\b\b\b\b\b\b\b\b\b\b\b\b\b\b\b\b\b\b\b\b\b\b\b\b\b\b\b\b\b\b\b\b\b\b\b\b\b\b\b\b\b\b\b\b\b\b\b\b\b\b\b\b\b\b\b\b\b\b\b\b\b\b\b\b\b\r324\/551 [================>.............] - ETA: 0s - loss: 0.2346 - accuracy: 0.9188\b\b\b\b\b\b\b\b\b\b\b\b\b\b\b\b\b\b\b\b\b\b\b\b\b\b\b\b\b\b\b\b\b\b\b\b\b\b\b\b\b\b\b\b\b\b\b\b\b\b\b\b\b\b\b\b\b\b\b\b\b\b\b\b\b\b\b\b\b\b\b\b\b\b\b\b\b\b\b\b\b\b\b\b\r348\/551 [=================>............] - ETA: 0s - loss: 0.2322 - accuracy: 0.9203\b\b\b\b\b\b\b\b\b\b\b\b\b\b\b\b\b\b\b\b\b\b\b\b\b\b\b\b\b\b\b\b\b\b\b\b\b\b\b\b\b\b\b\b\b\b\b\b\b\b\b\b\b\b\b\b\b\b\b\b\b\b\b\b\b\b\b\b\b\b\b\b\b\b\b\b\b\b\b\b\b\b\b\b\r375\/551 [===================>..........] - ETA: 0s - loss: 0.2359 - accuracy: 0.9185\b\b\b\b\b\b\b\b\b\b\b\b\b\b\b\b\b\b\b\b\b\b\b\b\b\b\b\b\b\b\b\b\b\b\b\b\b\b\b\b\b\b\b\b\b\b\b\b\b\b\b\b\b\b\b\b\b\b\b\b\b\b\b\b\b\b\b\b\b\b\b\b\b\b\b\b\b\b\b\b\b\b\b\b\r401\/551 [====================>.........] - ETA: 0s - loss: 0.2363 - accuracy: 0.9188\b\b\b\b\b\b\b\b\b\b\b\b\b\b\b\b\b\b\b\b\b\b\b\b\b\b\b\b\b\b\b\b\b\b\b\b\b\b\b\b\b\b\b\b\b\b\b\b\b\b\b\b\b\b\b\b\b\b\b\b\b\b\b\b\b\b\b\b\b\b\b\b\b\b\b\b\b\b\b\b\b\b\b\b\r427\/551 [======================>.......] - ETA: 0s - loss: 0.2328 - accuracy: 0.9206\b\b\b\b\b\b\b\b\b\b\b\b\b\b\b\b\b\b\b\b\b\b\b\b\b\b\b\b\b\b\b\b\b\b\b\b\b\b\b\b\b\b\b\b\b\b\b\b\b\b\b\b\b\b\b\b\b\b\b\b\b\b\b\b\b\b\b\b\b\b\b\b\b\b\b\b\b\b\b\b\b\b\b\b\r453\/551 [=======================>......] - ETA: 0s - loss: 0.2330 - accuracy: 0.9207\b\b\b\b\b\b\b\b\b\b\b\b\b\b\b\b\b\b\b\b\b\b\b\b\b\b\b\b\b\b\b\b\b\b\b\b\b\b\b\b\b\b\b\b\b\b\b\b\b\b\b\b\b\b\b\b\b\b\b\b\b\b\b\b\b\b\b\b\b\b\b\b\b\b\b\b\b\b\b\b\b\b\b\b\r479\/551 [=========================>....] - ETA: 0s - loss: 0.2299 - accuracy: 0.9216\b\b\b\b\b\b\b\b\b\b\b\b\b\b\b\b\b\b\b\b\b\b\b\b\b\b\b\b\b\b\b\b\b\b\b\b\b\b\b\b\b\b\b\b\b\b\b\b\b\b\b\b\b\b\b\b\b\b\b\b\b\b\b\b\b\b\b\b\b\b\b\b\b\b\b\b\b\b\b\b\b\b\b\b\r505\/551 [==========================>...] - ETA: 0s - loss: 0.2293 - accuracy: 0.9218\b\b\b\b\b\b\b\b\b\b\b\b\b\b\b\b\b\b\b\b\b\b\b\b\b\b\b\b\b\b\b\b\b\b\b\b\b\b\b\b\b\b\b\b\b\b\b\b\b\b\b\b\b\b\b\b\b\b\b\b\b\b\b\b\b\b\b\b\b\b\b\b\b\b\b\b\b\b\b\b\b\b\b\b\r531\/551 [===========================>..] - ETA: 0s - loss: 0.2303 - accuracy: 0.9207\b\b\b\b\b\b\b\b\b\b\b\b\b\b\b\b\b\b\b\b\b\b\b\b\b\b\b\b\b\b\b\b\b\b\b\b\b\b\b\b\b\b\b\b\b\b\b\b\b\b\b\b\b\b\b\b\b\b\b\b\b\b\b\b\b\b\b\b\b\b\b\b\b\b\b\b\b\b\b\b\b\b\b\b\r551\/551 [==============================] - 1s 2ms\/step - loss: 0.2302 - accuracy: 0.9208 - val_loss: 0.0977 - val_accuracy: 0.9648\n",
      "Epoch 7\/1000\n",
      "\r  1\/551 [..............................] - ETA: 1s - loss: 0.1267 - accuracy: 0.9688\b\b\b\b\b\b\b\b\b\b\b\b\b\b\b\b\b\b\b\b\b\b\b\b\b\b\b\b\b\b\b\b\b\b\b\b\b\b\b\b\b\b\b\b\b\b\b\b\b\b\b\b\b\b\b\b\b\b\b\b\b\b\b\b\b\b\b\b\b\b\b\b\b\b\b\b\b\b\b\b\b\b\b\b\r 26\/551 [>.............................] - ETA: 1s - loss: 0.2450 - accuracy: 0.9087\b\b\b\b\b\b\b\b\b\b\b\b\b\b\b\b\b\b\b\b\b\b\b\b\b\b\b\b\b\b\b\b\b\b\b\b\b\b\b\b\b\b\b\b\b\b\b\b\b\b\b\b\b\b\b\b\b\b\b\b\b\b\b\b\b\b\b\b\b\b\b\b\b\b\b\b\b\b\b\b\b\b\b\b\r 52\/551 [=>............................] - ETA: 0s - loss: 0.2294 - accuracy: 0.9123\b\b\b\b\b\b\b\b\b\b\b\b\b\b\b\b\b\b\b\b\b\b\b\b\b\b\b\b\b\b\b\b\b\b\b\b\b\b\b\b\b\b\b\b\b\b\b\b\b\b\b\b\b\b\b\b\b\b\b\b\b\b\b\b\b\b\b\b\b\b\b\b\b\b\b\b\b\b\b\b\b\b\b\b\r 77\/551 [===>..........................] - ETA: 0s - loss: 0.2383 - accuracy: 0.9140\b\b\b\b\b\b\b\b\b\b\b\b\b\b\b\b\b\b\b\b\b\b\b\b\b\b\b\b\b\b\b\b\b\b\b\b\b\b\b\b\b\b\b\b\b\b\b\b\b\b\b\b\b\b\b\b\b\b\b\b\b\b\b\b\b\b\b\b\b\b\b\b\b\b\b\b\b\b\b\b\b\b\b\b\r103\/551 [====>.........................] - ETA: 0s - loss: 0.2382 - accuracy: 0.9187\b\b\b\b\b\b\b\b\b\b\b\b\b\b\b\b\b\b\b\b\b\b\b\b\b\b\b\b\b\b\b\b\b\b\b\b\b\b\b\b\b\b\b\b\b\b\b\b\b\b\b\b\b\b\b\b\b\b\b\b\b\b\b\b\b\b\b\b\b\b\b\b\b\b\b\b\b\b\b\b\b\b\b\b\r127\/551 [=====>........................] - ETA: 0s - loss: 0.2218 - accuracy: 0.9259\b\b\b\b\b\b\b\b\b\b\b\b\b\b\b\b\b\b\b\b\b\b\b\b\b\b\b\b\b\b\b\b\b\b\b\b\b\b\b\b\b\b\b\b\b\b\b\b\b\b\b\b\b\b\b\b\b\b\b\b\b\b\b\b\b\b\b\b\b\b\b\b\b\b\b\b\b\b\b\b\b\b\b\b\r153\/551 [=======>......................] - ETA: 0s - loss: 0.2187 - accuracy: 0.9277\b\b\b\b\b\b\b\b\b\b\b\b\b\b\b\b\b\b\b\b\b\b\b\b\b\b\b\b\b\b\b\b\b\b\b\b\b\b\b\b\b\b\b\b\b\b\b\b\b\b\b\b\b\b\b\b\b\b\b\b\b\b\b\b\b\b\b\b\b\b\b\b\b\b\b\b\b\b\b\b\b\b\b\b\r178\/551 [========>.....................] - ETA: 0s - loss: 0.2340 - accuracy: 0.9235\b\b\b\b\b\b\b\b\b\b\b\b\b\b\b\b\b\b\b\b\b\b\b\b\b\b\b\b\b\b\b\b\b\b\b\b\b\b\b\b\b\b\b\b\b\b\b\b\b\b\b\b\b\b\b\b\b\b\b\b\b\b\b\b\b\b\b\b\b\b\b\b\b\b\b\b\b\b\b\b\b\b\b\b\r205\/551 [==========>...................] - ETA: 0s - loss: 0.2337 - accuracy: 0.9226\b\b\b\b\b\b\b\b\b\b\b\b\b\b\b\b\b\b\b\b\b\b\b\b\b\b\b\b\b\b\b\b\b\b\b\b\b\b\b\b\b\b\b\b\b\b\b\b\b\b\b\b\b\b\b\b\b\b\b\b\b\b\b\b\b\b\b\b\b\b\b\b\b\b\b\b\b\b\b\b\b\b\b\b\r230\/551 [===========>..................] - ETA: 0s - loss: 0.2310 - accuracy: 0.9234\b\b\b\b\b\b\b\b\b\b\b\b\b\b\b\b\b\b\b\b\b\b\b\b\b\b\b\b\b\b\b\b\b\b\b\b\b\b\b\b\b\b\b\b\b\b\b\b\b\b\b\b\b\b\b\b\b\b\b\b\b\b\b\b\b\b\b\b\b\b\b\b\b\b\b\b\b\b\b\b\b\b\b\b\r256\/551 [============>.................] - ETA: 0s - loss: 0.2383 - accuracy: 0.9189\b\b\b\b\b\b\b\b\b\b\b\b\b\b\b\b\b\b\b\b\b\b\b\b\b\b\b\b\b\b\b\b\b\b\b\b\b\b\b\b\b\b\b\b\b\b\b\b\b\b\b\b\b\b\b\b\b\b\b\b\b\b\b\b\b\b\b\b\b\b\b\b\b\b\b\b\b\b\b\b\b\b\b\b\r281\/551 [==============>...............] - ETA: 0s - loss: 0.2348 - accuracy: 0.9197\b\b\b\b\b\b\b\b\b\b\b\b\b\b\b\b\b\b\b\b\b\b\b\b\b\b\b\b\b\b\b\b\b\b\b\b\b\b\b\b\b\b\b\b\b\b\b\b\b\b\b\b\b\b\b\b\b\b\b\b\b\b\b\b\b\b\b\b\b\b\b\b\b\b\b\b\b\b\b\b\b\b\b\b\r307\/551 [===============>..............] - ETA: 0s - loss: 0.2313 - accuracy: 0.9206\b\b\b\b\b\b\b\b\b\b\b\b\b\b\b\b\b\b\b\b\b\b\b\b\b\b\b\b\b\b\b\b\b\b\b\b\b\b\b\b\b\b\b\b\b\b\b\b\b\b\b\b\b\b\b\b\b\b\b\b\b\b\b\b\b\b\b\b\b\b\b\b\b\b\b\b\b\b\b\b\b\b\b\b\r332\/551 [=================>............] - ETA: 0s - loss: 0.2308 - accuracy: 0.9205\b\b\b\b\b\b\b\b\b\b\b\b\b\b\b\b\b\b\b\b\b\b\b\b\b\b\b\b\b\b\b\b\b\b\b\b\b\b\b\b\b\b\b\b\b\b\b\b\b\b\b\b\b\b\b\b\b\b\b\b\b\b\b\b\b\b\b\b\b\b\b\b\b\b\b\b\b\b\b\b\b\b\b\b\r358\/551 [==================>...........] - ETA: 0s - loss: 0.2291 - accuracy: 0.9207\b\b\b\b\b\b\b\b\b\b\b\b\b\b\b\b\b\b\b\b\b\b\b\b\b\b\b\b\b\b\b\b\b\b\b\b\b\b\b\b\b\b\b\b\b\b\b\b\b\b\b\b\b\b\b\b\b\b\b\b\b\b\b\b\b\b\b\b\b\b\b\b\b\b\b\b\b\b\b\b\b\b\b\b\r382\/551 [===================>..........] - ETA: 0s - loss: 0.2275 - accuracy: 0.9211\b\b\b\b\b\b\b\b\b\b\b\b\b\b\b\b\b\b\b\b\b\b\b\b\b\b\b\b\b\b\b\b\b\b\b\b\b\b\b\b\b\b\b\b\b\b\b\b\b\b\b\b\b\b\b\b\b\b\b\b\b\b\b\b\b\b\b\b\b\b\b\b\b\b\b\b\b\b\b\b\b\b\b\b\r408\/551 [=====================>........] - ETA: 0s - loss: 0.2243 - accuracy: 0.9226\b\b\b\b\b\b\b\b\b\b\b\b\b\b\b\b\b\b\b\b\b\b\b\b\b\b\b\b\b\b\b\b\b\b\b\b\b\b\b\b\b\b\b\b\b\b\b\b\b\b\b\b\b\b\b\b\b\b\b\b\b\b\b\b\b\b\b\b\b\b\b\b\b\b\b\b\b\b\b\b\b\b\b\b\r432\/551 [======================>.......] - ETA: 0s - loss: 0.2344 - accuracy: 0.9204\b\b\b\b\b\b\b\b\b\b\b\b\b\b\b\b\b\b\b\b\b\b\b\b\b\b\b\b\b\b\b\b\b\b\b\b\b\b\b\b\b\b\b\b\b\b\b\b\b\b\b\b\b\b\b\b\b\b\b\b\b\b\b\b\b\b\b\b\b\b\b\b\b\b\b\b\b\b\b\b\b\b\b\b\r457\/551 [=======================>......] - ETA: 0s - loss: 0.2306 - accuracy: 0.9219\b\b\b\b\b\b\b\b\b\b\b\b\b\b\b\b\b\b\b\b\b\b\b\b\b\b\b\b\b\b\b\b\b\b\b\b\b\b\b\b\b\b\b\b\b\b\b\b\b\b\b\b\b\b\b\b\b\b\b\b\b\b\b\b\b\b\b\b\b\b\b\b\b\b\b\b\b\b\b\b\b\b\b\b\r481\/551 [=========================>....] - ETA: 0s - loss: 0.2285 - accuracy: 0.9223\b\b\b\b\b\b\b\b\b\b\b\b\b\b\b\b\b\b\b\b\b\b\b\b\b\b\b\b\b\b\b\b\b\b\b\b\b\b\b\b\b\b\b\b\b\b\b\b\b\b\b\b\b\b\b\b\b\b\b\b\b\b\b\b\b\b\b\b\b\b\b\b\b\b\b\b\b\b\b\b\b\b\b\b\r507\/551 [==========================>...] - ETA: 0s - loss: 0.2277 - accuracy: 0.9223\b\b\b\b\b\b\b\b\b\b\b\b\b\b\b\b\b\b\b\b\b\b\b\b\b\b\b\b\b\b\b\b\b\b\b\b\b\b\b\b\b\b\b\b\b\b\b\b\b\b\b\b\b\b\b\b\b\b\b\b\b\b\b\b\b\b\b\b\b\b\b\b\b\b\b\b\b\b\b\b\b\b\b\b\r531\/551 [===========================>..] - ETA: 0s - loss: 0.2425 - accuracy: 0.9187\b\b\b\b\b\b\b\b\b\b\b\b\b\b\b\b\b\b\b\b\b\b\b\b\b\b\b\b\b\b\b\b\b\b\b\b\b\b\b\b\b\b\b\b\b\b\b\b\b\b\b\b\b\b\b\b\b\b\b\b\b\b\b\b\b\b\b\b\b\b\b\b\b\b\b\b\b\b\b\b\b\b\b\b\r551\/551 [==============================] - 1s 2ms\/step - loss: 0.2560 - accuracy: 0.9153 - val_loss: 0.3659 - val_accuracy: 0.7866\n"
     ],
     "output_type":"stream"
    }
   ],
   "metadata":{
    "datalore":{
     "node_id":"InR4Fny3mqduOSLNxvcJxO",
     "type":"CODE",
     "hide_input_from_viewers":false,
     "hide_output_from_viewers":false
    }
   }
  },
  {
   "cell_type":"code",
   "source":[
    "plot_history(history_2)"
   ],
   "execution_count":397,
   "outputs":[
    {
     "data":{
      "image\/png":"[encoded data removed]"
     },
     "metadata":{
      "image\/png":{
       
      }
     },
     "output_type":"display_data"
    }
   ],
   "metadata":{
    "datalore":{
     "node_id":"BPClA8WZ6hoLXKuiAYg4uJ",
     "type":"CODE",
     "hide_input_from_viewers":false,
     "hide_output_from_viewers":false
    }
   }
  },
  {
   "cell_type":"code",
   "source":[
    "print(\"# Model 2 : classification report\")\n",
    "print(class_report_2)"
   ],
   "execution_count":398,
   "outputs":[
    {
     "name":"stdout",
     "text":[
      "# Model 2 : classification report\n",
      "              precision    recall  f1-score   support\n",
      "\n",
      "           0       0.93      1.00      0.96      1853\n",
      "           1       1.00      0.85      0.92      1853\n",
      "           2       0.93      1.00      0.97      1853\n",
      "\n",
      "    accuracy                           0.95      5559\n",
      "   macro avg       0.95      0.95      0.95      5559\n",
      "weighted avg       0.95      0.95      0.95      5559\n",
      "\n"
     ],
     "output_type":"stream"
    }
   ],
   "metadata":{
    "datalore":{
     "node_id":"pvwUXJITv02HAPgMcymAZa",
     "type":"CODE",
     "hide_input_from_viewers":false,
     "hide_output_from_viewers":false
    }
   }
  },
  {
   "cell_type":"code",
   "source":[
    "print(\"# Model 2 : confusion matrix\")\n",
    "print(cf_matrix_2)"
   ],
   "execution_count":399,
   "outputs":[
    {
     "name":"stdout",
     "text":[
      "# Model 2 : confusion matrix\n",
      "[[1853    0    0]\n",
      " [ 140 1580  133]\n",
      " [   0    0 1853]]\n"
     ],
     "output_type":"stream"
    }
   ],
   "metadata":{
    "datalore":{
     "node_id":"GhLCt4uguqnANTbmQJurUf",
     "type":"CODE",
     "hide_input_from_viewers":false,
     "hide_output_from_viewers":false
    }
   }
  },
  {
   "cell_type":"markdown",
   "source":[
    "L'analyse est globalement la même que pour le modèle précédent. Les résultats sont très similaires et restent donc très bons. La classe 1 reste la moins bien prédite mais on note cette fois-ci une symétrie plus nette pour sa confusion avec la classe 0 et la classe 2. En effet, il y a quasiment autant d'instances qui ont été prédite à tord comme appartenant à la classe 0 et la classe 2 au lieu de la classe 1. "
   ],
   "attachments":{
    
   },
   "metadata":{
    "datalore":{
     "node_id":"qX3ItRBFTTv1lDGNONmssK",
     "type":"MD",
     "hide_input_from_viewers":false,
     "hide_output_from_viewers":false
    }
   }
  },
  {
   "cell_type":"markdown",
   "source":[
    "## Discussions\n",
    "\n",
    "Comme énoncé dans l'évalutation des deux meilleurs modèles, les résultats sont très bons mais sont à relativiser avec le fait que le problème initial ne semblait pas très difficile.\n",
    "\n",
    "Après lecture de l'article [Understanding a Classification Report For Your Machine Learning Model](https:\/\/medium.com\/@kohlishivam5522\/understanding-a-classification-report-for-your-machine-learning-model-88815e2ce397#:~:text=The%20classification%20report%20visualizer%20displays,was%20positive%20and%20predicted%20positive), je réalise que j'aurai peut être dû préférer le f1-score à l'accuracy pour l'évaluation des différentes méthodes et modèles car il prend en compte la précision et le rappel. "
   ],
   "attachments":{
    
   },
   "metadata":{
    "datalore":{
     "node_id":"Lodx0bjTIVD4xrGb959SLZ",
     "type":"MD",
     "hide_input_from_viewers":false,
     "hide_output_from_viewers":false
    }
   }
  },
  {
   "cell_type":"code",
   "source":[
    
   ],
   "execution_count":null,
   "outputs":[
    
   ],
   "metadata":{
    "datalore":{
     "node_id":"p76N05o5X4gq4U3ZqSppBX",
     "type":"CODE",
     "hide_input_from_viewers":false,
     "hide_output_from_viewers":false
    }
   }
  }
 ],
 "metadata":{
  "kernelspec":{
   "display_name":"Python",
   "language":"python",
   "name":"python"
  },
  "datalore":{
   "version":1,
   "computation_mode":"JUPYTER",
   "package_manager":"pip",
   "base_environment":"default",
   "packages":[
    
   ]
  }
 },
 "nbformat":4,
 "nbformat_minor":4
}